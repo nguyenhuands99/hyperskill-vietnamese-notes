{
 "metadata": {
  "language_info": {
   "codemirror_mode": {
    "name": "ipython",
    "version": 3
   },
   "file_extension": ".py",
   "mimetype": "text/x-python",
   "name": "python",
   "nbconvert_exporter": "python",
   "pygments_lexer": "ipython3",
   "version": 3
  },
  "orig_nbformat": 4
 },
 "nbformat": 4,
 "nbformat_minor": 2,
 "cells": [
  {
   "source": [
    "# Subject: DISCRETE MATH\n",
    "(Môn: Toán Rời Rạc)\n",
    "\n",
    "Đây là những kiến thức cực kỳ căn bản mà viết ra chỉ để kí ức trở lại một cách rõ ràng chứ thực ra cũng không có gì mới mẻ :v "
   ],
   "cell_type": "markdown",
   "metadata": {}
  },
  {
   "source": [
    "\n",
    "## Set\n",
    "(Chủ đề: Tập hợp)\n",
    "\n"
   ],
   "cell_type": "markdown",
   "metadata": {}
  },
  {
   "source": [
    "### Cơ bản về tập hợp"
   ],
   "cell_type": "markdown",
   "metadata": {}
  },
  {
   "source": [
    "#### Tập hợp là gì\n",
    "\n",
    "là một tập (collection) những phần tử riêng biệt (distinct). Dùng ${}$ để biểu diễn, tập hợp thường ký hiệu bởi chữ cái in hoa.\n",
    "\n",
    "Tập hợp có thể chia làm 2 loại: \n",
    "-   tập hợp hữu hạn.\n",
    "\n",
    "Ví dụ: $\\{1,2,3\\}$, {$x$: 1 $\\le x \\ge 10$ where $x$ is an integer} \n",
    "\n",
    "-   tập hợp vô hạn. \n",
    "\n",
    "Ví dụ: $\\{1,2,3,...\\}$\n",
    "\n",
    "dấu 3 chấm $... $ được gọi là **ellipsis** (dấu chấm lửng)."
   ],
   "cell_type": "markdown",
   "metadata": {}
  },
  {
   "source": [
    "#### Thành phần của tập hợp\n",
    "\n",
    "Các đối tượng trong tập hợp được gọi là **member** hoặc **element** của tập hợp. Ta sử dụng kí hiệu quen thuộc $\\in$ và $\\notin$ để thể hiện việc thuộc/ không thuộc của tập hợp. Số lượng element của tập hợp $A$ sẽ được kí hiệu $|A|$, gọi là **cardinality** của một tập hợp.\n",
    "\n",
    "Ví dụ: $JS \\notin$ $\\{ Python, C++, R \\}$\n",
    "\n",
    "$|\\{1,-1\\}| = 2$\n",
    "\n",
    "Tập rỗng (**empty set**) kí hiệu $\\{\\}$ hoặc $\\varnothing$."
   ],
   "cell_type": "markdown",
   "metadata": {}
  },
  {
   "source": [
    "#### Tập con (Subset)\n",
    "\n",
    "$A$ là tập con của $B$ khi và chỉ khi tất cả phần tử của $A$ có trong $B$. Kí hiệu $A \\subseteq B$ hoặc $B \\supseteq A$.\n",
    "\n",
    "Tập rỗng là tập con của mọi tập hợp, bao gồm cả chính tập rỗng."
   ],
   "cell_type": "markdown",
   "metadata": {}
  },
  {
   "source": [
    "#### Proper Subset\n",
    "\n",
    "$A$ là proper subset của $B$ nếu và chỉ nếu mọi phần từ của $A$ có trong $B$ VÀ có **ít nhất 1 phần tử** của $B$ **không** có trong $A$. Kí hiệu $A \\subset B$ hay $B \\supset A$.\n",
    "\n",
    "Ví dụ:\n",
    "\n",
    "$\\{a,b\\} \\subset \\{a,b,c\\}$"
   ],
   "cell_type": "markdown",
   "metadata": {}
  },
  {
   "source": [
    "#### Equality \n",
    "\n",
    "Hai tập hợp bằng nhau nếu có **chính xác** những phần tử như nhau. Biểu diễn $A = B$ nếu $A \\subseteq B$ và $B \\subseteq A$."
   ],
   "cell_type": "markdown",
   "metadata": {}
  },
  {
   "source": [
    "## Functions and their properties\n",
    "(Chủ đề: Hàm và các tính chất)"
   ],
   "cell_type": "markdown",
   "metadata": {}
  },
  {
   "source": [
    "### Cơ bản về hàm"
   ],
   "cell_type": "markdown",
   "metadata": {}
  },
  {
   "source": [
    "#### Hàm là gì?\n",
    "\n",
    "Hàm là một đối tượng toán học hay một \"máy\", nhận $x$ là đầu vào và trả về giá trị $y$, trong \"one-to-one correspondance\": chỉ *duy nhất* một giá trị $y$ cho mỗi đầu vào $x$. Quan hệ này thường được biểu diễn $y = f(x)$, với $x$ là input hay **argument**, $y$ là output hay **value**. Biến $y$ hay $f(x)$ được gọi là **dependent variable** bởi nó phụ thuộc vào giá trị của $x$, $x$ gọi là **independent variable**.\n",
    "\n",
    "![](img/function.jpg)\n",
    "\n",
    "Thông thường thì tên hàm là \"f\", nhưng hàm có thể được đặt tên bất kỳ \"g\", \"cool_function\",... Thỉnh thoảng thì hàm cũng không có tên:\n",
    "\n",
    "$$y = x^3$$\n",
    "\n",
    "Nhưng vẫn có input ($x$), quan hệ (lập phương) và output ($y$)."
   ],
   "cell_type": "markdown",
   "metadata": {}
  },
  {
   "source": [
    "#### Định nghĩa chuẩn (formal definition)\n",
    "\n",
    "Giả sử ta có một tập hợp đầu vào **domain** $X$ và một tập hợp đầu ra có thể có **codomain** $Y$. Một hàm là một tập các cặp có thứ tự $(x,y)$, với $x \\in X, y \\in Y$, và chỉ có *duy nhất* một cặp thứ tự với cùng 1 giá trị của $x$.\n",
    "\n",
    "$f$ là một hàm từ $X$ sang $Y$ có thẻ được viết như sau: \n",
    "$$f: X \\mapsto Y$$\n",
    "\n",
    "Tập các phần tử được chỉ tới trong $Y$ được gọi là **range**. Mũi tên trong hình gọi là **the map** hoặc **mapping** (ánh xạ).\n",
    "\n",
    "![](img/formal.jpg)\n"
   ],
   "cell_type": "markdown",
   "metadata": {}
  },
  {
   "source": [
    "## "
   ],
   "cell_type": "markdown",
   "metadata": {}
  }
 ]
}