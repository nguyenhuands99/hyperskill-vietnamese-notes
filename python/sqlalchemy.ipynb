{
 "cells": [
  {
   "cell_type": "markdown",
   "source": [
    "# SQL Alchemy\n",
    "Có nhiều RDBMS để quản lý dabase (Oracle, MySQL, SQLite hay thậm chí Microsoft Access), SQL Alchemy cũng có thể coi là một ứng dụng để làm những việc như của RDMS, nhưng đặc biệt hơn là ứng dụng này dùng Python để làm việc đó. SQL Alchemy là tập hợp các database tools bằng Python."
   ],
   "metadata": {}
  },
  {
   "cell_type": "markdown",
   "source": [
    "## Giới thiệu SQL Alchemy\n",
    "### Tác dụng SQL Alchemy \n",
    "\n",
    "Được ra mắt năm 2006 và nhanh chóng trở thành một trong các tool ORM (**object-relation mapping**) phổ biến nhất. Rõ ràng SQL không phải dựa trên object-oriented model, mà là relational model, nhưng developer lại thường quen thuộc với tư duy hướng đối tượng hơn. Do đó ORM tools như SQL Alchemy sẽ thu hẹp khoảng cách đó giữa 2 model, 2 cách tư duy, giúp developer vừa có thể làm việc với object vừa có thể thực hiện các thao tác quan trọng với database.\n",
    "\n",
    "![](./img/ORM.svg)\n",
    "\n",
    "### Database API\n",
    "\n",
    "SQLAlchemy có thể work với các loại database cũng như database API khác nhau (DBAPI). **Python Database API Specification** là một chuẩn chung cho Python library (SQLAlchemy,...) để connect đến bất kì database nào, các tiêu chuẩn cụ thể ở trong PEP 249. SQLAlchemy dùng các **dialect** khác nhau để work với các DBAPI khác nhau: MySQL, Oracle, Microsoft SQL Server, PostgreSQL, SQLite, các dialect yêu cầu DBAPI driver thích hợp.\n",
    "\n",
    "![](./img/DBAPI.svg)\n",
    "\n",
    "### Setup và làm việc với database có sẵn\n",
    "\n",
    "Install library bằng các thông thường `pip install sqlalchemy`. Lấy ví dụ một local database tạo bằng SQLite trông như này, file `Building Database.sqlite`:\n",
    "\n",
    "![](./img/DB.png)\n",
    "\n",
    "Để connect vào database, ta cần tạo một \"engine\" và chọn đúng database dialect, cụ thể ở đây là của SQLite (các database còn lại tham khảo ở document của SQLAlchemy [here](https://docs.sqlalchemy.org/en/14/core/engines.html))\n"
   ],
   "metadata": {}
  },
  {
   "cell_type": "code",
   "execution_count": null,
   "source": [
    "\n",
    "from sqlalchemy import create_engine\n",
    "\n",
    "engine = create_engine('sqlite:///Buildings Database.sqlite', echo=True')\n",
    "\n",
    "connection = engine.connect()\n"
   ],
   "outputs": [],
   "metadata": {}
  },
  {
   "cell_type": "markdown",
   "source": [
    "\n",
    "Hàm `create_engine` nhận đầu vào là path đến database với dialect của nó, `echo` để in log.\n",
    "\n",
    "Ngoài ra còn có một số hàm quan trọng khác như `table_names` (in các table), `MetaData`, `Table` (để truy cập thông tin của các table, metadata của Database - **reflection**)\n",
    "\n"
   ],
   "metadata": {}
  },
  {
   "cell_type": "code",
   "execution_count": null,
   "source": [
    "from sqlalchemy import MetaData, Table\n",
    "\n",
    "metadata = MetaData()\n",
    "buildings = Table('Building', metadata, autoload=True, autoload_with=engine)\n",
    "print(repr(buildings))\n"
   ],
   "outputs": [],
   "metadata": {}
  },
  {
   "cell_type": "markdown",
   "source": [
    "\n",
    "Lưu ý là table `'Building'` đã được defined sẵn ở database `Building Database.sqlite`."
   ],
   "metadata": {}
  },
  {
   "cell_type": "markdown",
   "source": [
    "## SQL Alchemy Mapping\n",
    "\n",
    "Có hai loại ORM mapping trong SQLAlchemy: **classical mapping** và **declaring mapping**:\n",
    "\n",
    "### Classical Mapping\n",
    "\n",
    "Classical mapping ở đây là cách configuration cho **mapped class** (tức là config cho lớp abstract của table/ database). Ta cần define database table và class Python tương ứng và link lại bằng `mapper()`. Sau đó thay đổi sẽ được cập nhật đến table và class được tạo bởi SQLAlchemy sẽ được lưu xuống database. Classical mapping là một **base mapping system** cung cấp bởi ORM. Ví dụ:\n"
   ],
   "metadata": {}
  },
  {
   "cell_type": "code",
   "execution_count": null,
   "source": [
    "from sqlalchemy import Table, MetaData, Columm, Integer, String\n",
    "\n",
    "from sqlalchemy import mapper\n",
    "\n",
    "metadata = MetaData()\n",
    "\n",
    "animals = Table('animals', metadata,\n",
    "           Column('id', Integer, primary_key = True) \n",
    "           Column('petname', String(30)),\n",
    "           Column('age', Integer)\n",
    "           Column('weight', Integer))\n",
    "\n",
    "class Animals:\n",
    "    def __init__(self, petname, age, weight):\n",
    "        self.petname = petname\n",
    "        self.age = age \n",
    "        self.weight = weight \n",
    "        \n",
    "mapper(Animals, animals)\n"
   ],
   "outputs": [],
   "metadata": {}
  },
  {
   "cell_type": "markdown",
   "source": [
    "Đầu tiên chúng ta cần tạo một table để map data từ object Python sang, do đó ta import `Table` và `MetaData` constructor, ngoài ra cần `Column`, `String`, `Integer` để định nghĩa table. `mapper` để link. Dùng biến `animals` là instance của class `Table` để lưu metadata của bảng (tên, các cột, primary key, data type từng cột). \n",
    "\n",
    "Bước tiếp theo là định nghĩa class `Animals`, chứa các attribute tương ứng với các cột của table, nếu không sẽ gây lỗi khi mà lưu xuống database.\n",
    "\n",
    "Cuối cùng là link class `Animals` với `animals` qua `mapper` (trả về mapper object mới ), có nghĩa là chúng ta hoàn toàn có thể chỉnh sửa database bằng Python class và lưu lại. "
   ],
   "metadata": {}
  },
  {
   "cell_type": "markdown",
   "source": [
    "### Declaring Mapping\n",
    "\n",
    "Declarative mapping là phiên bản súc tích hơn của classical mapping, không cần phải tách bạch class và table, tất cả làm trong một class duy nhất.\n",
    "\n"
   ],
   "metadata": {}
  },
  {
   "cell_type": "code",
   "execution_count": null,
   "source": [
    "from sqlalchemy.ext.declarative import declarative_base\n",
    "from sqlalchemy import Collumn, String, Integer\n",
    "from sqlalchemy import create_engine\n",
    "Base = declarative_base()  # kinda a class so use UpperCamelCase :v \n",
    "\n",
    "class Animals(Base)\n",
    "    __tablename__ = 'animals'\n",
    "\n",
    "    id = Column(Integer, primary_key = True)\n",
    "\n",
    "    petname = Column(String(30))\n",
    "    age = Column(Integer)\n",
    "    weight = Column(Integer)\n",
    "\n",
    "engine = create_engine('sqlite://', echo = True)\n",
    "Base.metadata.create_all(engine)"
   ],
   "outputs": [],
   "metadata": {}
  },
  {
   "cell_type": "markdown",
   "source": [
    "Code lúc này đã readable hơn, ta đã import `declarative_base` một function để construct một base class (`Base`) để định nghĩa declarative class (class `Animals` lúc này là một declarative class). Bên trong class `Animals`, ta define tên table (bằng `__tablename__`), các cột, data type.\n",
    "\n",
    "*Lưu ý: Ta không cần phải dùng `__init__` ở đây vì `declarative_base()` đã chứa built-in `__init__` rồi.*\n",
    "\n",
    "Sau đó ta có thể tạo engine để tiếp tục thao tác trên table, cụ thể là lưu table xuống database bằng `create_all()`"
   ],
   "metadata": {}
  },
  {
   "cell_type": "markdown",
   "source": [
    "### Sessions\n",
    "\n",
    "`mapper()` function và declarative extension là **primary configurational interfaces** cho ORM. Sau khi các mapping đã được configured, ta có thể thực hiện **primary usage interface** gọi là session. Session giúp việc giao tiếp với database được thực hiện trơn tru, ta có thể modify database và save changes trong session:"
   ],
   "metadata": {}
  },
  {
   "cell_type": "code",
   "execution_count": null,
   "source": [
    "from sqlalchemy.orm import sessionmaker\n",
    "\n",
    "Session = sessionmaker(bind=engine)\n",
    "session = Session()\n",
    "\n",
    "animal_1 = Animals(petname='Timmy', age=2, weight=12)\n",
    "animal_2 = Animals(petnam='Tommy', age=3, weight=10)\n",
    "animal_3 = Animals(petname='Kitty', age=4, weight=14)\n",
    "\n",
    "session.add(animal_1)\n",
    "session.add(animal_2)\n",
    "session.add(animal_3)\n",
    "session.commit()"
   ],
   "outputs": [],
   "metadata": {}
  },
  {
   "cell_type": "markdown",
   "source": [
    "Đầu tiên ta cần define class `Session` với `sessionmaker()`, một configurable **session factory method** mà được bound với engine. Sau đó là set up `session` object bằng cách dùng default constructor `session = Session()`. Từ đó thì session sẽ luôn connect với engine cho đến khi ta commit thay đổi hoặc close session object. `session.add()` để add entry vào trong table. Cuối cùng khi ta muốn lưu thay đổi vào database thì ta thực hiện `session.commit()` để commit transaction, còn không có thể rollback bằng `session.rollback()`."
   ],
   "metadata": {}
  },
  {
   "cell_type": "markdown",
   "source": [
    "## SQL Alchemy Querying và Filtering\n",
    "\n",
    "Sau khi đã biết map class và tạo session, điều quan trọng tiếp theo là cách để *query* và *filter* data từ table.\n",
    "\n",
    "### Query constructor object\n",
    "\n",
    "Theo [document](https://docs.sqlalchemy.org/en/14/orm/query.html), một `Query` construction object là nguồn của mọi `SELECT` statement được tạo ra bởi ORM. Tức là `Query` object sẽ tạo một `SELECT` statement cho tất cả các column trong table và rename chúng thành các biến (attribute của Query object) theo PEP convention. Ví dụ như `Query(Animals)` thì sẽ tạo biến `animals_petname` cho cột `petname` của table, tương tự các cột khác. Do đó ta có thể truy cập các value trong các cột tương ứng qua biến này.\n",
    "\n",
    "Để dùng `Query` thì ta cần một mapped class, để pass như một argument. *Lưu ý: phải là mapped class bởi vì thông thường nếu ta pass một class bình thường thì sẽ raise `sqlalchemy.exc.ArgumentError` exception*"
   ],
   "metadata": {}
  },
  {
   "cell_type": "code",
   "execution_count": null,
   "source": [
    "from sqlalchemy.ext.declarative import declarative_base\n",
    "from sqlalchemy import Collumn, String, Integer\n",
    "from sqlalchemy.orm import Query  # new import\n",
    "\n",
    "Base = declarative_base()  # kinda a class so use UpperCamelCase :v \n",
    "\n",
    "class Animals(Base)\n",
    "    __tablename__ = 'animals'\n",
    "\n",
    "    id = Column(Integer, primary_key = True)\n",
    "\n",
    "    petname = Column(String(30))\n",
    "    age = Column(Integer)\n",
    "    weight = Column(Integer)\n",
    "\n",
    "query = Query(Animals)\n",
    "\n",
    "print(query) \n",
    "# SELECT animals.id AS animals_id,\n",
    "# animals.petname AS animals_petname, animals.age AS animals_age, animals.weight AS animals_weight\n",
    "# FROM animals"
   ],
   "outputs": [],
   "metadata": {}
  },
  {
   "cell_type": "markdown",
   "source": [
    "### Selecting from the table\n",
    "\n",
    "Trước khi work với data từ table, ta cần tạo session. Có 2 cách viết cú pháp handle data: Cách 1 là dùng `Query` constructor kèm với session như tham số thứ 2, cách 2 là dùng `with_session()`, cách 3 là dùng `query()` method của session"
   ],
   "metadata": {}
  },
  {
   "cell_type": "code",
   "execution_count": null,
   "source": [
    "from sqlalchemy.orm import sessionmaker, Query \n",
    "\n",
    "engine = create_engine(\"sqlite://:memory:\",echo=True)\n",
    "Base.metadata.create_all(engine)\n",
    "Session = sessionmaker(bind=engine)\n",
    "session = Session()\n",
    "\n",
    "# first way\n",
    "query = Query(Animals, session)\n",
    "\n",
    "# second way\n",
    "query = Query(Animals)\n",
    "query = query.with_session(session)\n",
    "\n",
    "# third way\n",
    "query = session.query(Animals)"
   ],
   "outputs": [],
   "metadata": {}
  },
  {
   "cell_type": "markdown",
   "source": [
    "### Retrieving all values\n",
    "\n",
    "Khi đã có query object, bây giờ ta có thẻ query được các value từ table. Nếu table đã có value (từ ở trên 'Timmy',...) thì ta có thể query tất cả và in ra các thông tin cần thiết như ví dụ dưới đây:"
   ],
   "metadata": {}
  },
  {
   "cell_type": "code",
   "execution_count": null,
   "source": [
    "animal_1 = Animals(petname='Timmy', age=2, weight=12)\n",
    "animal_2 = Animals(petnam='Tommy', age=3, weight=10)\n",
    "animal_3 = Animals(petname='Kitty', age=4, weight=14)\n",
    "\n",
    "session.add(animal_1)\n",
    "session.add(animal_2)\n",
    "session.add(animal_3)\n",
    "session.commit()\n",
    "\n",
    "all_rows = query.all()\n",
    "\n",
    "for row in all_rows:\n",
    "    print(type(row))  # <class '__main__.Animals'>\n",
    "    print(f'Pet name: {row.petname}, age: {row.age}, weight: {row.weight}')\n",
    "    # Pet name: Timmy, age: 2, weight: 12\n",
    "    # Pet name: Tommy, age: 3, weight: 10\n",
    "    # Pet name: Kitty, age: 4, weight: 14\n"
   ],
   "outputs": [],
   "metadata": {}
  },
  {
   "cell_type": "markdown",
   "source": [
    "### Retriving certain values\n",
    "\n",
    "Ta hoàn toàn có thể query thông tin của một vài cột mà không nhất thiết phải query hết tất cả (`Query.all()`) bằng các specify các cột cần query trong lúc query:"
   ],
   "metadata": {}
  },
  {
   "cell_type": "code",
   "execution_count": null,
   "source": [
    "query = session.query(Animals.petname, Animals.age)\n",
    "print(query)  # SELECT animals.petname AS animals_petnam, animals.age AS animals_age FROM animals\n",
    "\n",
    "for name, age in query:\n",
    "    print(name, age)\n",
    "    # Timmy 2\n",
    "    # Tommy 3\n",
    "    # Kitty 4"
   ],
   "outputs": [],
   "metadata": {}
  },
  {
   "cell_type": "markdown",
   "source": [
    "Ngoài ra còn có method `count()` cũng rất hữu ích"
   ],
   "metadata": {}
  },
  {
   "cell_type": "code",
   "execution_count": null,
   "source": [
    "query = session.query(Animals)\n",
    "print(query.count())  # 3"
   ],
   "outputs": [],
   "metadata": {}
  },
  {
   "cell_type": "markdown",
   "source": [
    "### Filtering the table\n",
    "\n",
    "Để filter data (kiểu giống như WHERE trong SQL), ta cần tham số để filter. Ví dụ ta muốn tìm tuổi và cân nặng của animal với tên là \"Tommy\":"
   ],
   "metadata": {}
  },
  {
   "cell_type": "code",
   "execution_count": null,
   "source": [
    "\n",
    "query = session.query(Animals)\n",
    "\n",
    "for row in query.filter(Animals.petname == 'Tommy'):\n",
    "    print(row.petname, row.age, row.weight)  # Tommy 3 10\n",
    "# SELECT animals.id AS animals_id, animals.petname AS animals_petname, \n",
    "# animals.age AS animals_age, animals.weight AS animals_weight \n",
    "# FROM animals\n",
    "# WHERE animals.petname = \"Tommy\""
   ],
   "outputs": [],
   "metadata": {}
  },
  {
   "cell_type": "markdown",
   "source": [
    "Các tham số của filter là các boolean expression nên hoàn toàn không có gì quá xa lạ hay bất kì giới hạn đặc biệt nào:"
   ],
   "metadata": {}
  },
  {
   "cell_type": "code",
   "execution_count": null,
   "source": [
    "query = session.query(Animals.age, Animals.weight)\n",
    "\n",
    "age_gr_than = Animals.age > 2\n",
    "weight_eq_gr_than = Animals.weight >= 11\n",
    "\n",
    "for age, weight in query.filter(age_gr_than, weight_eq_gr_than):\n",
    "    print(f\"Pet age: {age}, Pet weight: {weight}\")  # Pet age: 4, Pet weight: 14"
   ],
   "outputs": [],
   "metadata": {}
  }
 ],
 "metadata": {
  "orig_nbformat": 4,
  "language_info": {
   "name": "python",
   "version": "3.8.11",
   "mimetype": "text/x-python",
   "codemirror_mode": {
    "name": "ipython",
    "version": 3
   },
   "pygments_lexer": "ipython3",
   "nbconvert_exporter": "python",
   "file_extension": ".py"
  },
  "kernelspec": {
   "name": "python3",
   "display_name": "Python 3.8.11 64-bit ('base': conda)"
  },
  "interpreter": {
   "hash": "8c41785d08d518d6063bd2cd334bc8e2fe211597cea3d9372d08927f9e7f72ef"
  }
 },
 "nbformat": 4,
 "nbformat_minor": 2
}