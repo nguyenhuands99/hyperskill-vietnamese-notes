{
 "cells": [
  {
   "cell_type": "markdown",
   "source": [
    "# SQL Alchemy\n",
    "Có nhiều RDBMS để quản lý dabase (Oracle, MySQL, SQLite hay thậm chí Microsoft Access), SQL Alchemy cũng có thể coi là một ứng dụng để làm những việc như của RDMS, nhưng đặc biệt hơn là ứng dụng này dùng Python để làm việc đó. SQL Alchemy là tập hợp các database tools bằng Python."
   ],
   "metadata": {}
  },
  {
   "cell_type": "markdown",
   "source": [
    "## Giới thiệu SQL Alchemy\n",
    "### Tác dụng SQL Alchemy \n",
    "\n",
    "Được ra mắt năm 2006 và nhanh chóng trở thành một trong các tool ORM (**object-relation mapping**) phổ biến nhất. Rõ ràng SQL không phải dựa trên object-oriented model, mà là relational model, nhưng developer lại thường quen thuộc với tư duy hướng đối tượng hơn. Do đó ORM tools như SQL Alchemy sẽ thu hẹp khoảng cách đó giữa 2 model, 2 cách tư duy, giúp developer vừa có thể làm việc với object vừa có thể thực hiện các thao tác quan trọng với database.\n",
    "\n",
    "![](./img/ORM.svg)\n",
    "\n",
    "### Database API\n",
    "\n",
    "SQLAlchemy có thể work với các loại database cũng như database API khác nhau (DBAPI). **Python Database API Specification** là một chuẩn chung cho Python library (SQLAlchemy,...) để connect đến bất kì database nào, các tiêu chuẩn cụ thể ở trong PEP 249. SQLAlchemy dùng các **dialect** khác nhau để work với các DBAPI khác nhau: MySQL, Oracle, Microsoft SQL Server, PostgreSQL, SQLite, các dialect yêu cầu DBAPI driver thích hợp.\n",
    "\n",
    "![](./img/DBAPI.svg)\n",
    "\n",
    "### Setup và làm việc với database có sẵn\n",
    "\n",
    "Install library bằng các thông thường `pip install sqlalchemy`. Lấy ví dụ một local database tạo bằng SQLite trông như này, file `Building Database.sqlite`:\n",
    "\n",
    "![](./img/DB.png)\n",
    "\n",
    "Để connect vào database, ta cần tạo một \"engine\" và chọn đúng database dialect, cụ thể ở đây là của SQLite (các database còn lại tham khảo ở document của SQLAlchemy [here](https://docs.sqlalchemy.org/en/14/core/engines.html))\n"
   ],
   "metadata": {}
  },
  {
   "cell_type": "code",
   "execution_count": null,
   "source": [
    "\n",
    "from sqlalchemy import create_engine\n",
    "\n",
    "engine = create_engine('sqlite:///Buildings Database.sqlite', echo=True')\n",
    "\n",
    "connection = engine.connect()\n"
   ],
   "outputs": [],
   "metadata": {}
  },
  {
   "cell_type": "markdown",
   "source": [
    "\n",
    "Hàm `create_engine` nhận đầu vào là path đến database với dialect của nó, `echo` để in log.\n",
    "\n",
    "Ngoài ra còn có một số hàm quan trọng khác như `table_names` (in các table), `MetaData`, `Table` (để truy cập thông tin của các table, metadata của Database - **reflection**)\n",
    "\n"
   ],
   "metadata": {}
  },
  {
   "cell_type": "code",
   "execution_count": null,
   "source": [
    "from sqlalchemy import MetaData, Table\n",
    "\n",
    "metadata = MetaData()\n",
    "buildings = Table('Building', metadata, autoload=True, autoload_with=engine)\n",
    "print(repr(buildings))\n"
   ],
   "outputs": [],
   "metadata": {}
  },
  {
   "cell_type": "markdown",
   "source": [
    "\n",
    "Lưu ý là table `'Building'` đã được defined sẵn ở database `Building Database.sqlite`."
   ],
   "metadata": {}
  },
  {
   "cell_type": "markdown",
   "source": [
    "## SQL Alchemy Mapping\n",
    "\n",
    "Có hai loại ORM mapping trong SQLAlchemy: **classical mapping** và **declaring mapping**:\n",
    "\n",
    "### Classical Mapping\n",
    "\n",
    "Classical mapping ở đây là cách configuration cho **mapped class** (tức là config cho lớp abstract của table/ database). Ta cần define database table và class Python tương ứng và link lại bằng `mapper()`. Sau đó thay đổi sẽ được cập nhật đến table và class được tạo bởi SQLAlchemy sẽ được lưu xuống database. Classical mapping là một **base mapping system** cung cấp bởi ORM. Ví dụ:\n"
   ],
   "metadata": {}
  },
  {
   "cell_type": "code",
   "execution_count": null,
   "source": [
    "from sqlalchemy import Table, MetaData, Columm, Integer, String\n",
    "\n",
    "from sqlalchemy import mapper\n",
    "\n",
    "metadata = MetaData()\n",
    "\n",
    "animals = Table('animals', metadata,\n",
    "           Column('id', Integer, primary_key = True) \n",
    "           Column('petname', String(30)),\n",
    "           Column('age', Integer)\n",
    "           Column('weight', Integer))\n",
    "\n",
    "class Animals:\n",
    "    def __init__(self, petname, age, weight):\n",
    "        self.petname = petname\n",
    "        self.age = age \n",
    "        self.weight = weight \n",
    "        \n",
    "mapper(Animals, animals)\n"
   ],
   "outputs": [],
   "metadata": {}
  },
  {
   "cell_type": "markdown",
   "source": [
    "Đầu tiên chúng ta cần tạo một table để map data từ object Python sang, do đó ta import `Table` và `MetaData` constructor, ngoài ra cần `Column`, `String`, `Integer` để định nghĩa table. `mapper` để link. Dùng biến `animals` là instance của class `Table` để lưu metadata của bảng (tên, các cột, primary key, data type từng cột). \n",
    "\n",
    "Bước tiếp theo là định nghĩa class `Animals`, chứa các attribute tương ứng với các cột của table, nếu không sẽ gây lỗi khi mà lưu xuống database.\n",
    "\n",
    "Cuối cùng là link class `Animals` với `animals` qua `mapper` (trả về mapper object mới ), có nghĩa là chúng ta hoàn toàn có thể chỉnh sửa database bằng Python class và lưu lại. "
   ],
   "metadata": {}
  },
  {
   "cell_type": "markdown",
   "source": [
    "### Declaring Mapping\n",
    "\n",
    "Declarative mapping là phiên bản súc tích hơn của classical mapping, không cần phải tách bạch class và table, tất cả làm trong một class duy nhất.\n",
    "\n"
   ],
   "metadata": {}
  },
  {
   "cell_type": "code",
   "execution_count": null,
   "source": [
    "from sqlalchemy.ext.declarative import declarative_base\n",
    "from sqlalchemy import Collumn, String, Integer\n",
    "from sqlalchemy import create_engine\n",
    "Base = declarative_base()  # kinda a class so use UpperCamelCase :v \n",
    "\n",
    "class Animals(Base)\n",
    "    __tablename__ = 'animals'\n",
    "\n",
    "    id = Column(Integer, primary_key = True)\n",
    "\n",
    "    petname = Column(String(30))\n",
    "    age = Column(Integer)\n",
    "    weight = Column(Integer)\n",
    "\n",
    "engine = create_engine('sqlite://', echo = True)\n",
    "Base.metadata.create_all(engine)"
   ],
   "outputs": [],
   "metadata": {}
  },
  {
   "cell_type": "markdown",
   "source": [
    "Code lúc này đã readable hơn, ta đã import `declarative_base` một function để construct một base class (`Base`) để định nghĩa declarative class (class `Animals` lúc này là một declarative class). Bên trong class `Animals`, ta define tên table (bằng `__tablename__`), các cột, data type.\n",
    "\n",
    "*Lưu ý: Ta không cần phải dùng `__init__` ở đây vì `declarative_base()` đã chứa built-in `__init__` rồi.*\n",
    "\n",
    "Sau đó ta có thể tạo engine để tiếp tục thao tác trên table, cụ thể là lưu table xuống database bằng `create_all()`"
   ],
   "metadata": {}
  },
  {
   "cell_type": "markdown",
   "source": [
    "### Sessions\n",
    "\n",
    "`mapper()` function và declarative extension là **primary configurational interfaces** cho ORM. Sau khi các mapping đã được configured, ta có thể thực hiện **primary usage interface** gọi là session. Session giúp việc giao tiếp với database được thực hiện trơn tru, ta có thể modify database và save changes trong session:"
   ],
   "metadata": {}
  },
  {
   "cell_type": "code",
   "execution_count": null,
   "source": [
    "from sqlalchemy.orm import sessionmaker\n",
    "\n",
    "Session = sessionmaker(bind=engine)\n",
    "session = Session()\n",
    "\n",
    "animal_1 = Animals(petname='Timmy', age=2, weight=12)\n",
    "animal_2 = Animals(petnam='Tommy', age=3, weight=10)\n",
    "animal_3 = Animals(petname='Kitty', age=4, weight=14)\n",
    "\n",
    "session.add(animal_1)\n",
    "session.add(animal_2)\n",
    "session.add(animal_3)\n",
    "session.commit()"
   ],
   "outputs": [],
   "metadata": {}
  },
  {
   "cell_type": "markdown",
   "source": [
    "Đầu tiên ta cần define class `Session` với `sessionmaker()`, một configurable **session factory method** mà được bound với engine. Sau đó là set up `session` object bằng cách dùng default constructor `session = Session()`. Từ đó thì session sẽ luôn connect với engine cho đến khi ta commit thay đổi hoặc close session object. `session.add()` để add entry vào trong table. Cuối cùng khi ta muốn lưu thay đổi vào database thì ta thực hiện `session.commit()` để commit transaction, còn không có thể rollback bằng `session.rollback()`."
   ],
   "metadata": {}
  },
  {
   "cell_type": "markdown",
   "source": [
    "## SQL Alchemy Querying và Filtering\n",
    "\n",
    "Sau khi đã biết map class và tạo session, điều quan trọng tiếp theo là cách để *query* và *filter* data từ table.\n",
    "\n",
    "### Query constructor object\n",
    "\n",
    "Theo [document](https://docs.sqlalchemy.org/en/14/orm/query.html), một `Query` construction object là nguồn của mọi `SELECT` statement được tạo ra bởi ORM. Tức là `Query` object sẽ tạo một `SELECT` statement cho tất cả các column trong table và rename chúng thành các biến (attribute của Query object) theo PEP convention. Ví dụ như `Query(Animals)` thì sẽ tạo biến `animals_petname` cho cột `petname` của table, tương tự các cột khác. Do đó ta có thể truy cập các value trong các cột tương ứng qua biến này.\n",
    "\n",
    "Để dùng `Query` thì ta cần một mapped class, để pass như một argument. *Lưu ý: phải là mapped class bởi vì thông thường nếu ta pass một class bình thường thì sẽ raise `sqlalchemy.exc.ArgumentError` exception*"
   ],
   "metadata": {}
  },
  {
   "cell_type": "code",
   "execution_count": null,
   "source": [
    "from sqlalchemy.ext.declarative import declarative_base\n",
    "from sqlalchemy import Collumn, String, Integer\n",
    "from sqlalchemy.orm import Query  # new import\n",
    "\n",
    "Base = declarative_base()  # kinda a class so use UpperCamelCase :v \n",
    "\n",
    "class Animals(Base)\n",
    "    __tablename__ = 'animals'\n",
    "\n",
    "    id = Column(Integer, primary_key = True)\n",
    "\n",
    "    petname = Column(String(30))\n",
    "    age = Column(Integer)\n",
    "    weight = Column(Integer)\n",
    "\n",
    "query = Query(Animals)\n",
    "\n",
    "print(query) \n",
    "# SELECT animals.id AS animals_id,\n",
    "# animals.petname AS animals_petname, animals.age AS animals_age, animals.weight AS animals_weight\n",
    "# FROM animals"
   ],
   "outputs": [],
   "metadata": {}
  },
  {
   "cell_type": "markdown",
   "source": [
    "### Selecting from the table\n",
    "\n",
    "Trước khi work với data từ table, ta cần tạo session. Có 2 cách viết cú pháp handle data: Cách 1 là dùng `Query` constructor kèm với session như tham số thứ 2, cách 2 là dùng `with_session()`, cách 3 là dùng `query()` method của session"
   ],
   "metadata": {}
  },
  {
   "cell_type": "code",
   "execution_count": null,
   "source": [
    "from sqlalchemy.orm import sessionmaker, Query \n",
    "\n",
    "engine = create_engine(\"sqlite://:memory:\",echo=True)\n",
    "Base.metadata.create_all(engine)\n",
    "Session = sessionmaker(bind=engine)\n",
    "session = Session()\n",
    "\n",
    "# first way\n",
    "query = Query(Animals, session)\n",
    "\n",
    "# second way\n",
    "query = Query(Animals)\n",
    "query = query.with_session(session)\n",
    "\n",
    "# third way\n",
    "query = session.query(Animals)"
   ],
   "outputs": [],
   "metadata": {}
  },
  {
   "cell_type": "markdown",
   "source": [
    "### Retrieving all values\n",
    "\n",
    "Khi đã có query object, bây giờ ta có thẻ query được các value từ table. Nếu table đã có value (từ ở trên 'Timmy',...) thì ta có thể query tất cả và in ra các thông tin cần thiết như ví dụ dưới đây:"
   ],
   "metadata": {}
  },
  {
   "cell_type": "code",
   "execution_count": null,
   "source": [
    "animal_1 = Animals(petname='Timmy', age=2, weight=12)\n",
    "animal_2 = Animals(petnam='Tommy', age=3, weight=10)\n",
    "animal_3 = Animals(petname='Kitty', age=4, weight=14)\n",
    "\n",
    "session.add(animal_1)\n",
    "session.add(animal_2)\n",
    "session.add(animal_3)\n",
    "session.commit()\n",
    "\n",
    "all_rows = query.all()\n",
    "\n",
    "for row in all_rows:\n",
    "    print(type(row))  # <class '__main__.Animals'>\n",
    "    print(f'Pet name: {row.petname}, age: {row.age}, weight: {row.weight}')\n",
    "    # Pet name: Timmy, age: 2, weight: 12\n",
    "    # Pet name: Tommy, age: 3, weight: 10\n",
    "    # Pet name: Kitty, age: 4, weight: 14\n"
   ],
   "outputs": [],
   "metadata": {}
  },
  {
   "cell_type": "markdown",
   "source": [
    "### Retriving certain values\n",
    "\n",
    "Ta hoàn toàn có thể query thông tin của một vài cột mà không nhất thiết phải query hết tất cả (`Query.all()`) bằng các specify các cột cần query trong lúc query:"
   ],
   "metadata": {}
  },
  {
   "cell_type": "code",
   "execution_count": null,
   "source": [
    "query = session.query(Animals.petname, Animals.age)\n",
    "print(query)  # SELECT animals.petname AS animals_petnam, animals.age AS animals_age FROM animals\n",
    "\n",
    "for name, age in query:\n",
    "    print(name, age)\n",
    "    # Timmy 2\n",
    "    # Tommy 3\n",
    "    # Kitty 4"
   ],
   "outputs": [],
   "metadata": {}
  },
  {
   "cell_type": "markdown",
   "source": [
    "Ngoài ra còn có method `count()` cũng rất hữu ích"
   ],
   "metadata": {}
  },
  {
   "cell_type": "code",
   "execution_count": null,
   "source": [
    "query = session.query(Animals)\n",
    "print(query.count())  # 3"
   ],
   "outputs": [],
   "metadata": {}
  },
  {
   "cell_type": "markdown",
   "source": [
    "### Filtering the table\n",
    "\n",
    "Để filter data (kiểu giống như WHERE trong SQL), ta cần tham số để filter. Ví dụ ta muốn tìm tuổi và cân nặng của animal với tên là \"Tommy\":"
   ],
   "metadata": {}
  },
  {
   "cell_type": "code",
   "execution_count": null,
   "source": [
    "\n",
    "query = session.query(Animals)\n",
    "\n",
    "for row in query.filter(Animals.petname == 'Tommy'):\n",
    "    print(row.petname, row.age, row.weight)  # Tommy 3 10\n",
    "# SELECT animals.id AS animals_id, animals.petname AS animals_petname, \n",
    "# animals.age AS animals_age, animals.weight AS animals_weight \n",
    "# FROM animals\n",
    "# WHERE animals.petname = \"Tommy\""
   ],
   "outputs": [],
   "metadata": {}
  },
  {
   "cell_type": "markdown",
   "source": [
    "Các tham số của filter là các boolean expression nên hoàn toàn không có gì quá xa lạ hay bất kì giới hạn đặc biệt nào:"
   ],
   "metadata": {}
  },
  {
   "cell_type": "code",
   "execution_count": null,
   "source": [
    "query = session.query(Animals.age, Animals.weight)\n",
    "\n",
    "age_gr_than = Animals.age > 2\n",
    "weight_eq_gr_than = Animals.weight >= 11\n",
    "\n",
    "for age, weight in query.filter(age_gr_than, weight_eq_gr_than):\n",
    "    print(f\"Pet age: {age}, Pet weight: {weight}\")  # Pet age: 4, Pet weight: 14"
   ],
   "outputs": [],
   "metadata": {}
  },
  {
   "cell_type": "markdown",
   "source": [
    "## SQL Updating and Deleting Data\n",
    "\n",
    "### Updating\n",
    "\n",
    "Đầu tiên cần tạo một Table ví dụ trước: Table `Employee` với column `id`, `name`, `position`, `salary`.\n",
    "\n"
   ],
   "metadata": {}
  },
  {
   "cell_type": "code",
   "execution_count": 23,
   "source": [
    "\n",
    "from sqlalchemy import Column, String, Integer, create_engine\n",
    "from sqlalchemy.ext.declarative import declarative_base\n",
    "\n",
    "Base = declarative_base()\n",
    "\n",
    "class Employee(Base):\n",
    "    __tablename__ = 'Employee';\n",
    "\n",
    "    id = Column(Integer, primary_key=True)\n",
    "    name = Column(String(30))\n",
    "    position = Column(String(30))\n",
    "    salary = Column(Integer)\n",
    "\n",
    "    def __repr__(self):\n",
    "        return f\"Employee({self.name}, {self.position}, {self.salary})\"\n"
   ],
   "outputs": [],
   "metadata": {}
  },
  {
   "cell_type": "markdown",
   "source": [
    "Sau khi đã tạo table và mapped nó vào python object, ta cần thêm data vào table. Trước khi đó ta cần phải tạo session:"
   ],
   "metadata": {}
  },
  {
   "cell_type": "code",
   "execution_count": 24,
   "source": [
    "from sqlalchemy.orm import sessionmaker\n",
    "\n",
    "engine = create_engine(\"sqlite:///employee.db\",echo=True)\n",
    "Base.metadata.create_all(engine)\n",
    "\n",
    "Session= sessionmaker(bind=engine)\n",
    "session = Session()"
   ],
   "outputs": [
    {
     "output_type": "stream",
     "name": "stdout",
     "text": [
      "2021-09-17 15:40:27,808 INFO sqlalchemy.engine.Engine BEGIN (implicit)\n",
      "2021-09-17 15:40:27,809 INFO sqlalchemy.engine.Engine PRAGMA main.table_info(\"Employee\")\n",
      "2021-09-17 15:40:27,810 INFO sqlalchemy.engine.Engine [raw sql] ()\n",
      "2021-09-17 15:40:27,812 INFO sqlalchemy.engine.Engine PRAGMA temp.table_info(\"Employee\")\n",
      "2021-09-17 15:40:27,812 INFO sqlalchemy.engine.Engine [raw sql] ()\n",
      "2021-09-17 15:40:27,814 INFO sqlalchemy.engine.Engine \n",
      "CREATE TABLE \"Employee\" (\n",
      "\tid INTEGER NOT NULL, \n",
      "\tname VARCHAR(30), \n",
      "\tposition VARCHAR(30), \n",
      "\tsalary INTEGER, \n",
      "\tPRIMARY KEY (id)\n",
      ")\n",
      "\n",
      "\n",
      "2021-09-17 15:40:27,814 INFO sqlalchemy.engine.Engine [no key 0.00058s] ()\n",
      "2021-09-17 15:40:27,818 INFO sqlalchemy.engine.Engine COMMIT\n"
     ]
    }
   ],
   "metadata": {}
  },
  {
   "cell_type": "markdown",
   "source": [
    "Thêm data vào table:"
   ],
   "metadata": {}
  },
  {
   "cell_type": "code",
   "execution_count": 25,
   "source": [
    "session.add(Employee(name=\"William\", position=\"Data Scientist\", salary=12_000))\n",
    "session.add(Employee(name=\"Susan\", position=\"Product Manager\", salary=14_000))\n",
    "session.add(Employee(name=\"Andrew\", position=\"Senior Software Engineer\", salary=17_000))\n",
    "session.add(Employee(name=\"Nancy\", position=\"Account Executive\", salary=13_000))\n",
    "\n",
    "session.commit()"
   ],
   "outputs": [
    {
     "output_type": "stream",
     "name": "stdout",
     "text": [
      "2021-09-17 15:40:31,806 INFO sqlalchemy.engine.Engine BEGIN (implicit)\n",
      "2021-09-17 15:40:31,808 INFO sqlalchemy.engine.Engine INSERT INTO \"Employee\" (name, position, salary) VALUES (?, ?, ?)\n",
      "2021-09-17 15:40:31,809 INFO sqlalchemy.engine.Engine [generated in 0.00109s] ('William', 'Data Scientist', 12000)\n",
      "2021-09-17 15:40:31,811 INFO sqlalchemy.engine.Engine INSERT INTO \"Employee\" (name, position, salary) VALUES (?, ?, ?)\n",
      "2021-09-17 15:40:31,811 INFO sqlalchemy.engine.Engine [cached since 0.003406s ago] ('Susan', 'Product Manager', 14000)\n",
      "2021-09-17 15:40:31,812 INFO sqlalchemy.engine.Engine INSERT INTO \"Employee\" (name, position, salary) VALUES (?, ?, ?)\n",
      "2021-09-17 15:40:31,813 INFO sqlalchemy.engine.Engine [cached since 0.005355s ago] ('Andrew', 'Senior Software Engineer', 17000)\n",
      "2021-09-17 15:40:31,814 INFO sqlalchemy.engine.Engine INSERT INTO \"Employee\" (name, position, salary) VALUES (?, ?, ?)\n",
      "2021-09-17 15:40:31,815 INFO sqlalchemy.engine.Engine [cached since 0.006853s ago] ('Nancy', 'Account Executive', 13000)\n",
      "2021-09-17 15:40:31,816 INFO sqlalchemy.engine.Engine COMMIT\n"
     ]
    }
   ],
   "metadata": {}
  },
  {
   "cell_type": "markdown",
   "source": [
    "**Update method:**\n",
    "\n",
    "Ta cần có `query` cũng như biết field cần được update, giả sử ta muốn update cộng thêm tất cả salary của các rows lên `1000`"
   ],
   "metadata": {}
  },
  {
   "cell_type": "code",
   "execution_count": 26,
   "source": [
    "query = session.query(Employee)\n",
    "\n",
    "query.update({\"salary\": Employee.salary + 1000})\n",
    "session.commit()"
   ],
   "outputs": [
    {
     "output_type": "stream",
     "name": "stdout",
     "text": [
      "2021-09-17 15:40:40,164 INFO sqlalchemy.engine.Engine BEGIN (implicit)\n",
      "2021-09-17 15:40:40,166 INFO sqlalchemy.engine.Engine UPDATE \"Employee\" SET salary=(\"Employee\".salary + ?)\n",
      "2021-09-17 15:40:40,167 INFO sqlalchemy.engine.Engine [generated in 0.00109s] (1000,)\n"
     ]
    },
    {
     "output_type": "execute_result",
     "data": {
      "text/plain": [
       "4"
      ]
     },
     "metadata": {},
     "execution_count": 26
    }
   ],
   "metadata": {}
  },
  {
   "cell_type": "markdown",
   "source": [
    "Cú pháp giống như dict ở Python, cần chỉ rõ field nào của table cần được update. Ở đây là `salary` field được tăng `1000` từ giá trị hiện tại của `Employee.salary`"
   ],
   "metadata": {}
  },
  {
   "cell_type": "code",
   "execution_count": 29,
   "source": [
    "session.query(Employee).all()"
   ],
   "outputs": [
    {
     "output_type": "stream",
     "name": "stdout",
     "text": [
      "2021-09-17 15:44:44,108 INFO sqlalchemy.engine.Engine SELECT \"Employee\".id AS \"Employee_id\", \"Employee\".name AS \"Employee_name\", \"Employee\".position AS \"Employee_position\", \"Employee\".salary AS \"Employee_salary\" \n",
      "FROM \"Employee\"\n",
      "2021-09-17 15:44:44,109 INFO sqlalchemy.engine.Engine [cached since 239s ago] ()\n"
     ]
    },
    {
     "output_type": "execute_result",
     "data": {
      "text/plain": [
       "[Employee(William, Data Scientist, 13000),\n",
       " Employee(Susan, Product Manager, 15000),\n",
       " Employee(Andrew, Senior Software Engineer, 18000),\n",
       " Employee(Nancy, Account Executive, 14000)]"
      ]
     },
     "metadata": {},
     "execution_count": 29
    }
   ],
   "metadata": {}
  },
  {
   "cell_type": "markdown",
   "source": [
    "**Updating by criteria:**\n",
    "\n",
    "Khi muốn update với một điều kiện nhất định, ta kết hợp giữa `filter()` và `update()`"
   ],
   "metadata": {}
  },
  {
   "cell_type": "code",
   "execution_count": 31,
   "source": [
    "empl_filter = query.filter(Employee.name == \"William\")\n",
    "\n",
    "empl_filter.update({\"salary\": Employee.salary + 500})\n",
    "\n",
    "session.commit()"
   ],
   "outputs": [
    {
     "output_type": "stream",
     "name": "stdout",
     "text": [
      "2021-09-17 15:50:15,395 INFO sqlalchemy.engine.Engine UPDATE \"Employee\" SET salary=(\"Employee\".salary + ?) WHERE \"Employee\".name = ?\n",
      "2021-09-17 15:50:15,397 INFO sqlalchemy.engine.Engine [generated in 0.00308s] (500, 'William')\n",
      "2021-09-17 15:50:15,403 INFO sqlalchemy.engine.Engine COMMIT\n"
     ]
    }
   ],
   "metadata": {}
  },
  {
   "cell_type": "code",
   "execution_count": 32,
   "source": [
    "session.query(Employee).all()"
   ],
   "outputs": [
    {
     "output_type": "stream",
     "name": "stdout",
     "text": [
      "2021-09-17 15:50:29,194 INFO sqlalchemy.engine.Engine BEGIN (implicit)\n",
      "2021-09-17 15:50:29,196 INFO sqlalchemy.engine.Engine SELECT \"Employee\".id AS \"Employee_id\", \"Employee\".name AS \"Employee_name\", \"Employee\".position AS \"Employee_position\", \"Employee\".salary AS \"Employee_salary\" \n",
      "FROM \"Employee\"\n",
      "2021-09-17 15:50:29,197 INFO sqlalchemy.engine.Engine [cached since 584.1s ago] ()\n"
     ]
    },
    {
     "output_type": "execute_result",
     "data": {
      "text/plain": [
       "[Employee(William, Data Scientist, 13500),\n",
       " Employee(Susan, Product Manager, 15000),\n",
       " Employee(Andrew, Senior Software Engineer, 18000),\n",
       " Employee(Nancy, Account Executive, 14000)]"
      ]
     },
     "metadata": {},
     "execution_count": 32
    }
   ],
   "metadata": {}
  },
  {
   "cell_type": "markdown",
   "source": [
    "Code SQL tương ứng:\n",
    "```\n",
    "UPDATE Employee\n",
    "SET salary=(Employee + 500)\n",
    "WHERE Emplyee.name == 'William';\n",
    "```"
   ],
   "metadata": {}
  },
  {
   "cell_type": "markdown",
   "source": [
    "**Updating several fields:**\n",
    "\n",
    "Tương tự thì khi muốn update một vài fields thì ta thêm vào tham số của `update()`:\n"
   ],
   "metadata": {}
  },
  {
   "cell_type": "code",
   "execution_count": 33,
   "source": [
    "empl_filter = query.filter(Employee.position == \"Senior Software Engineer\")\n",
    "empl_filter.update({\n",
    "    \"salary\": Employee.salary - 1500,\n",
    "    \"position\": \"Middle Software Engineer\"\n",
    "})\n",
    "session.commit()"
   ],
   "outputs": [
    {
     "output_type": "stream",
     "name": "stdout",
     "text": [
      "2021-09-17 15:54:09,193 INFO sqlalchemy.engine.Engine UPDATE \"Employee\" SET position=?, salary=(\"Employee\".salary - ?) WHERE \"Employee\".position = ?\n",
      "2021-09-17 15:54:09,194 INFO sqlalchemy.engine.Engine [generated in 0.00135s] ('Middle Software Engineer', 1500, 'Senior Software Engineer')\n",
      "2021-09-17 15:54:09,196 INFO sqlalchemy.engine.Engine COMMIT\n"
     ]
    }
   ],
   "metadata": {}
  },
  {
   "cell_type": "code",
   "execution_count": 34,
   "source": [
    "session.query(Employee).all()"
   ],
   "outputs": [
    {
     "output_type": "stream",
     "name": "stdout",
     "text": [
      "2021-09-17 15:54:22,667 INFO sqlalchemy.engine.Engine BEGIN (implicit)\n",
      "2021-09-17 15:54:22,668 INFO sqlalchemy.engine.Engine SELECT \"Employee\".id AS \"Employee_id\", \"Employee\".name AS \"Employee_name\", \"Employee\".position AS \"Employee_position\", \"Employee\".salary AS \"Employee_salary\" \n",
      "FROM \"Employee\"\n",
      "2021-09-17 15:54:22,669 INFO sqlalchemy.engine.Engine [cached since 817.5s ago] ()\n"
     ]
    },
    {
     "output_type": "execute_result",
     "data": {
      "text/plain": [
       "[Employee(William, Data Scientist, 13500),\n",
       " Employee(Susan, Product Manager, 15000),\n",
       " Employee(Andrew, Middle Software Engineer, 16500),\n",
       " Employee(Nancy, Account Executive, 14000)]"
      ]
     },
     "metadata": {},
     "execution_count": 34
    }
   ],
   "metadata": {}
  },
  {
   "cell_type": "markdown",
   "source": [
    "\n",
    "\n",
    "### Deleting\n"
   ],
   "metadata": {}
  },
  {
   "cell_type": "markdown",
   "source": [
    "Method `delete()` có cách dùng cũng tương tự như method `update()` chỉ có một điều là delete không cần pass argument:"
   ],
   "metadata": {}
  },
  {
   "cell_type": "code",
   "execution_count": 35,
   "source": [
    "query = session.query(Employee)\n",
    "query.filter(Employee.name == \"Nancy\").delete()\n",
    "session.commit()"
   ],
   "outputs": [
    {
     "output_type": "stream",
     "name": "stdout",
     "text": [
      "2021-09-17 15:59:12,621 INFO sqlalchemy.engine.Engine DELETE FROM \"Employee\" WHERE \"Employee\".name = ?\n",
      "2021-09-17 15:59:12,622 INFO sqlalchemy.engine.Engine [generated in 0.00153s] ('Nancy',)\n",
      "2021-09-17 15:59:12,624 INFO sqlalchemy.engine.Engine COMMIT\n"
     ]
    }
   ],
   "metadata": {}
  },
  {
   "cell_type": "code",
   "execution_count": 36,
   "source": [
    "session.query(Employee).all()"
   ],
   "outputs": [
    {
     "output_type": "stream",
     "name": "stdout",
     "text": [
      "2021-09-17 15:59:38,095 INFO sqlalchemy.engine.Engine BEGIN (implicit)\n",
      "2021-09-17 15:59:38,096 INFO sqlalchemy.engine.Engine SELECT \"Employee\".id AS \"Employee_id\", \"Employee\".name AS \"Employee_name\", \"Employee\".position AS \"Employee_position\", \"Employee\".salary AS \"Employee_salary\" \n",
      "FROM \"Employee\"\n",
      "2021-09-17 15:59:38,098 INFO sqlalchemy.engine.Engine [cached since 1133s ago] ()\n"
     ]
    },
    {
     "output_type": "execute_result",
     "data": {
      "text/plain": [
       "[Employee(William, Data Scientist, 13500),\n",
       " Employee(Susan, Product Manager, 15000),\n",
       " Employee(Andrew, Middle Software Engineer, 16500)]"
      ]
     },
     "metadata": {},
     "execution_count": 36
    }
   ],
   "metadata": {}
  },
  {
   "cell_type": "markdown",
   "source": [
    "Code SQL tương ứng:\n",
    "```\n",
    "DELETE FROM Employee\n",
    "WHERE Employee.name == 'Nancy';\n",
    "```"
   ],
   "metadata": {}
  },
  {
   "cell_type": "markdown",
   "source": [
    "Fields chỉ được delete khi commit, nên trước khi dùng `session.commit()` nên cần chắc chắn đó là điều mà chúng ta muốn."
   ],
   "metadata": {}
  }
 ],
 "metadata": {
  "orig_nbformat": 4,
  "language_info": {
   "name": "python",
   "version": "3.8.11",
   "mimetype": "text/x-python",
   "codemirror_mode": {
    "name": "ipython",
    "version": 3
   },
   "pygments_lexer": "ipython3",
   "nbconvert_exporter": "python",
   "file_extension": ".py"
  },
  "kernelspec": {
   "name": "python3",
   "display_name": "Python 3.8.11 64-bit ('base': conda)"
  },
  "interpreter": {
   "hash": "8c41785d08d518d6063bd2cd334bc8e2fe211597cea3d9372d08927f9e7f72ef"
  }
 },
 "nbformat": 4,
 "nbformat_minor": 2
}