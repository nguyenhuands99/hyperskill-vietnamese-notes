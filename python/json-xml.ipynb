{
 "cells": [
  {
   "cell_type": "markdown",
   "id": "6f66b5f9-4bdd-48ca-a6fc-91f32094e3f2",
   "metadata": {},
   "source": [
    "# JSON và XML"
   ]
  },
  {
   "cell_type": "code",
   "execution_count": 3,
   "id": "5bae2675-c3c6-4b2f-b77e-f22f78de4774",
   "metadata": {},
   "outputs": [],
   "source": [
    "import lxml\n",
    "import json"
   ]
  },
  {
   "cell_type": "markdown",
   "id": "3b792f74-2639-408f-81fe-f53a5b423719",
   "metadata": {},
   "source": [
    "## JSON"
   ]
  },
  {
   "cell_type": "markdown",
   "id": "211c00af-418a-415d-901a-b5a6ce22abb3",
   "metadata": {},
   "source": [
    "**JSON** là một dạng text-based format để lưu trữ và truyền tải dữ liệu có cấu trúc. Nó xuất phát từ JavaScript, tuy nhiên vẫn được coi là một dạng language-independent. Với cú pháp đơn giản, nhẹ của JSON, ta có thể dễ dàng lưu và gửi từ số đến chuối, array và đối tượng đến các apps khác. Ta cũng có thể tạo ra các data phức tạp hơn bằng các link các array lại với nhau."
   ]
  },
  {
   "cell_type": "markdown",
   "id": "0d129372-552c-4310-b99c-6b54e58c4a48",
   "metadata": {
    "jp-MarkdownHeadingCollapsed": true,
    "tags": []
   },
   "source": [
    "### Cú pháp và cấu trúc căn bản"
   ]
  },
  {
   "cell_type": "markdown",
   "id": "455177ce-c945-4afa-b764-a6e39038785c",
   "metadata": {},
   "source": [
    "JSON text có thể xây dựng từ 1 trong 2 cấu trúc sau:\n",
    "- một collection of **key:value** pair\n",
    "- một orderly set of values (array of list)\n",
    "\n",
    "JSON object được viết trong `{}`, và key:value pair được các nhau bởi dấu `,`. Và các key và value được cách nhau bởi `:`. Key của object bắt buộc phải là string (đặt trong quote), value có thể là bất kỳ type nào (bao gồm cả object khác hay array):"
   ]
  },
  {
   "cell_type": "code",
   "execution_count": 1,
   "id": "9b301547-eab8-4964-8e31-1a559541e0a2",
   "metadata": {},
   "outputs": [
    {
     "data": {
      "text/plain": [
       "{'first_name': 'Sophie', 'last_name': 'Goodwin', 'age': 34}"
      ]
     },
     "execution_count": 1,
     "metadata": {},
     "output_type": "execute_result"
    }
   ],
   "source": [
    "{\n",
    "    \"first_name\": \"Sophie\",\n",
    "    \"last_name\": \"Goodwin\",\n",
    "    \"age\": 34\n",
    "}"
   ]
  },
  {
   "cell_type": "markdown",
   "id": "840068c0-a6e7-47a0-840b-9e570ec9d685",
   "metadata": {},
   "source": [
    "Array được viết trong square brackets `[]` và các giá trị được các nhau bởi `,`. Value của array có thể là bất kì type nào (bao gồm cả object và array khác):"
   ]
  },
  {
   "cell_type": "code",
   "execution_count": null,
   "id": "7275155d-955b-4392-ab56-b1c3e55f7468",
   "metadata": {},
   "outputs": [],
   "source": [
    "[\"night\", \"street\", false, [ 345, 23, 8, \"juice\"], \"fruit\"]"
   ]
  },
  {
   "cell_type": "markdown",
   "id": "82f06982-b88f-4afd-b6df-f1e642688d82",
   "metadata": {},
   "source": [
    "**NOTE**: *JSON không hỗ trợ COMMENT*"
   ]
  },
  {
   "cell_type": "markdown",
   "id": "1d8203b8-0470-4d7c-abde-f7bf38a5e466",
   "metadata": {
    "jp-MarkdownHeadingCollapsed": true,
    "tags": []
   },
   "source": [
    "### Nested objects\n",
    "\n",
    "JSON cực kì flexible, và ta hoàn toàn có thể lồng một object bên trong 1 object khác. Các nested object là hoàn toàn độc lập nhau và có thể có các properties hoàn toàn khác nhau:"
   ]
  },
  {
   "cell_type": "code",
   "execution_count": null,
   "id": "e3b95983-ad2e-4c93-9431-bb1a513e4f9f",
   "metadata": {},
   "outputs": [],
   "source": [
    "{\n",
    "  \"persons\": [\n",
    "    {\n",
    "      \"firstName\": \"Whitney\",\n",
    "      \"age\": 20\n",
    "    },\n",
    "    {\n",
    "      \"firstName\": \"Eugene\",\n",
    "      \"lastName\": \"Lang\"\n",
    "    }\n",
    "  ]\n",
    "}"
   ]
  },
  {
   "cell_type": "markdown",
   "id": "79a1fb7b-50db-480a-a5dd-71c600f36a10",
   "metadata": {
    "jp-MarkdownHeadingCollapsed": true,
    "tags": []
   },
   "source": [
    "### Style of compound word"
   ]
  },
  {
   "cell_type": "markdown",
   "id": "f1223022-92ed-4c19-a6eb-510220040b1a",
   "metadata": {},
   "source": [
    "Điều này hoàn toàn phụ thuộc vào ngôn ngữ cũng như library mà ta sử dụng. 2 style phổ biến có thể nhắc đến là: CamelCase và underscore. Cái nào cũng valid, nhưng cũng đừng mix 2 style này trong 1 file trông khá kì."
   ]
  },
  {
   "cell_type": "markdown",
   "id": "84136c20-5681-4bb1-8ac5-204ff06d66af",
   "metadata": {
    "tags": []
   },
   "source": [
    "### Advantages\n",
    "\n",
    "JSON được sử dụng cho data exchange trên Internet bởi vì các lí do sau:\n",
    "- compactness\n",
    "- flexibility\n",
    "- high readability\n",
    "- nhiều ngôn ngữ có các functions và lib để đọc/ tạo JSON structure.\n",
    "\n",
    "JSON là ngôn ngữ chung để pass structured data bởi vì sau khi ta serialize data sang JSON, ta có thể deserialize nó trở về lại mà không mất bất kì thông tin nào. Ưu điểm chính giữa nó và plain text là khả năng mô tả quan hệ giữa các object qua việc nesting cũng như key:value.\n",
    "\n",
    "Một application phổ biến khác của JSON đó là data storage và configuration file cho program khác."
   ]
  },
  {
   "cell_type": "markdown",
   "id": "b509c996-e6c1-4d30-9af3-d8065486cd8e",
   "metadata": {},
   "source": [
    "## JSON MODULE"
   ]
  },
  {
   "cell_type": "markdown",
   "id": "44796c43-e365-4a98-8312-956621f78272",
   "metadata": {},
   "source": [
    "Python có một built-in module để làm việc với JSON foramt: `json`, chỉ cần import vào đầu chương trình.\n",
    "\n",
    "Module này cho phép ta làm 2 procedures chính: convert Python data sang JSON và ngược lại. Ví dụ một JSON object dưới đây:\n"
   ]
  },
  {
   "cell_type": "code",
   "execution_count": 1,
   "id": "c3e8df31-2238-4bbc-8888-4ccb7d0e99e1",
   "metadata": {},
   "outputs": [
    {
     "data": {
      "text/plain": [
       "{'movies': [{'title': 'Inception',\n",
       "   'director': 'Christopher Nolan',\n",
       "   'year': 2010},\n",
       "  {'title': 'The Lord of the Rings: The Fellowship of the Ring',\n",
       "   'director': 'Peter Jackson',\n",
       "   'year': 2001},\n",
       "  {'title': 'Parasite', 'director': 'Bong Joon Ho', 'year': 2019}]}"
      ]
     },
     "execution_count": 1,
     "metadata": {},
     "output_type": "execute_result"
    }
   ],
   "source": [
    "{\n",
    "  \"movies\": [\n",
    "    {\n",
    "      \"title\": \"Inception\",\n",
    "      \"director\": \"Christopher Nolan\",\n",
    "      \"year\": 2010\n",
    "    },\n",
    "    {\n",
    "      \"title\": \"The Lord of the Rings: The Fellowship of the Ring\",\n",
    "      \"director\": \"Peter Jackson\",\n",
    "      \"year\": 2001\n",
    "    },\n",
    "    {\n",
    "      \"title\": \"Parasite\",\n",
    "      \"director\": \"Bong Joon Ho\",\n",
    "      \"year\": 2019\n",
    "    }\n",
    "  ]\n",
    "}"
   ]
  },
  {
   "cell_type": "markdown",
   "id": "c296c680-ef2b-4537-83e2-14c3b120d1cf",
   "metadata": {},
   "source": [
    "Có thể thấy có rất nhiều điểm chung giwuax JSON notation và Python data types: có string, có number, JSON object cũng khá giống Python dictionary, và JSON array - Python list. Điều này làm việc chuyển đổi giữa JSON và Python khá dễ dàng và intuitive. Dưới đây là bảng chuyển đổi (conversion table) toàn bộ cho encoding Python data to JSON:"
   ]
  },
  {
   "cell_type": "markdown",
   "id": "02b8449b-8e33-49da-a909-14f91d254556",
   "metadata": {},
   "source": [
    "|Python | JSON|\n",
    "|---|---|\n",
    "|`dict`|object|\n",
    "|`list`,`tuple`|array|\n",
    "|`str`|string|\n",
    "|`int`,`float`|number|\n",
    "|`True`|true|\n",
    "|`False`|false|\n",
    "|`None`|null|\n"
   ]
  },
  {
   "cell_type": "markdown",
   "id": "c6b4c2e0-886e-4f93-baf1-f0c67731e660",
   "metadata": {},
   "source": [
    "**NOTE**:*Các data types khác không được liệt kê trong bảng như custom classes, hay `datetime` object không thể converted sang JSON một các dễ dàng được*."
   ]
  },
  {
   "cell_type": "markdown",
   "id": "606673ca-b9bb-4c32-9324-f6efb9afe51c",
   "metadata": {},
   "source": [
    "### Encoding (from Python) to JSON\n",
    "\n",
    "Tổng quát, encoding to JSON format được gọi là **serialization**. Module `json` có 2 methods thực hiện việc này: `json.dump()` và `json.dumps()`. Điểm khác biệt quan trọng giữa 2 methods này là loại mà chúng ta serialize to: `json.dump()` viết vào file-like object trong khi `json.dumps()` viết vào string.\n",
    "\n",
    "Ví dụ, ta có một dictionary equivalent to JSON với nội dung giống ở bên trên:"
   ]
  },
  {
   "cell_type": "code",
   "execution_count": 2,
   "id": "0ed20bc6-dc85-4c52-add6-6b67c298fb18",
   "metadata": {},
   "outputs": [],
   "source": [
    "# Python dictionary \n",
    "movie_dict = {\n",
    "  \"movies\": [\n",
    "    {\n",
    "      \"title\": \"Inception\",\n",
    "      \"director\": \"Christopher Nolan\",\n",
    "      \"year\": 2010\n",
    "    },\n",
    "    {\n",
    "      \"title\": \"The Lord of the Rings: The Fellowship of the Ring\",\n",
    "      \"director\": \"Peter Jackson\",\n",
    "      \"year\": 2001\n",
    "    },\n",
    "    {\n",
    "      \"title\": \"Parasite\",\n",
    "      \"director\": \"Bong Joon Ho\",\n",
    "      \"year\": 2019\n",
    "    }\n",
    "  ]\n",
    "}"
   ]
  },
  {
   "cell_type": "markdown",
   "id": "054ad590-1923-46fb-a4bb-9ef8d5e98ebf",
   "metadata": {},
   "source": [
    "Giờ ta lưu vào trong file *movie.json*:"
   ]
  },
  {
   "cell_type": "code",
   "execution_count": 3,
   "id": "d331d90a-b5c4-4637-ae4d-d7b0b0a75da1",
   "metadata": {},
   "outputs": [],
   "source": [
    "import json\n",
    "\n",
    "\n",
    "with open(\"movies.json\", \"w\") as json_file:\n",
    "    json.dump(movie_dict, json_file)"
   ]
  },
  {
   "cell_type": "markdown",
   "id": "90b2cea4-f339-4ffd-a5b1-d8055b1f79b9",
   "metadata": {},
   "source": [
    "Method này nhận 2 argument: data và file-like object để write to. \n",
    "\n",
    "Các serialization thứ 2 là dùng `json.dumps()` để viết thành một string."
   ]
  },
  {
   "cell_type": "code",
   "execution_count": 4,
   "id": "9cca518b-4ff0-466f-b963-f346cbc2eefd",
   "metadata": {},
   "outputs": [
    {
     "name": "stdout",
     "output_type": "stream",
     "text": [
      "{\"movies\": [{\"title\": \"Inception\", \"director\": \"Christopher Nolan\", \"year\": 2010}, {\"title\": \"The Lord of the Rings: The Fellowship of the Ring\", \"director\": \"Peter Jackson\", \"year\": 2001}, {\"title\": \"Parasite\", \"director\": \"Bong Joon Ho\", \"year\": 2019}]}\n"
     ]
    }
   ],
   "source": [
    "json_str = json.dumps(movie_dict)\n",
    "\n",
    "print(json_str)"
   ]
  },
  {
   "cell_type": "markdown",
   "id": "829df711-81ed-439b-af5a-08565aab4b58",
   "metadata": {},
   "source": [
    "**NOTE**:\n",
    "\n",
    "*Cẩn thận với data types! JSON chỉ hỗ trợ key là string, do đó các basic Python types như integers sẽ được tự động convert sang string nhưng các type như tuple,.. sẽ nhận lỗi `TypeError` bởi vì `json.dump()` và `json.dumps()` không thể convert chúng sang string.*"
   ]
  },
  {
   "cell_type": "markdown",
   "id": "de1f955e-d749-43d9-9cc7-b34e3b308553",
   "metadata": {},
   "source": [
    "Còn một vài para nữa có thể dùng với 2 methods này, ví dụ như `indent`, nếu ta dùng có thể giúp prettyprint JSON object:"
   ]
  },
  {
   "cell_type": "code",
   "execution_count": 5,
   "id": "16831162-317a-4013-83da-5f0a5ec82c97",
   "metadata": {},
   "outputs": [
    {
     "name": "stdout",
     "output_type": "stream",
     "text": [
      "{\n",
      "    \"movies\": [\n",
      "        {\n",
      "            \"title\": \"Inception\",\n",
      "            \"director\": \"Christopher Nolan\",\n",
      "            \"year\": 2010\n",
      "        },\n",
      "        {\n",
      "            \"title\": \"The Lord of the Rings: The Fellowship of the Ring\",\n",
      "            \"director\": \"Peter Jackson\",\n",
      "            \"year\": 2001\n",
      "        },\n",
      "        {\n",
      "            \"title\": \"Parasite\",\n",
      "            \"director\": \"Bong Joon Ho\",\n",
      "            \"year\": 2019\n",
      "        }\n",
      "    ]\n",
      "}\n"
     ]
    }
   ],
   "source": [
    "json_str = json.dumps(movie_dict, indent=4)\n",
    "print(json_str)"
   ]
  },
  {
   "cell_type": "markdown",
   "id": "00c050dc-01d0-426f-82e9-09c1791233a6",
   "metadata": {},
   "source": [
    "### Decoding JSON (to Python)\n",
    "\n",
    "Thao tác ngược lại là **deserialization** module `json` cũng cung cấp 2 methods: `json.load()` và `json.loads()`. Điếm khác biết cũng chính là: file-like object và string.\n",
    "\n",
    "Giờ ta convert ngược lại từ file json sang Python dict bằng `json.load()`:"
   ]
  },
  {
   "cell_type": "code",
   "execution_count": 6,
   "id": "6848aee2-47bb-40c6-933c-6a8e811d1aa8",
   "metadata": {},
   "outputs": [
    {
     "name": "stdout",
     "output_type": "stream",
     "text": [
      "True\n"
     ]
    }
   ],
   "source": [
    "with open('movies.json', 'r') as json_file:\n",
    "    movie_dict_from_json = json.load(json_file)\n",
    "    \n",
    "print(movie_dict == movie_dict_from_json)"
   ]
  },
  {
   "cell_type": "markdown",
   "id": "80e0125b-1f2f-4652-9cda-0643384bd5a8",
   "metadata": {},
   "source": [
    "Ta có thể thấy là dict sau khi được deserialized hoàn toàn giống với dict ban đầu, không hề mất mát dữ liệu gì. Điều tương tự cũng xảy ra nếu ta dùng `json.loads()`:"
   ]
  },
  {
   "cell_type": "code",
   "execution_count": 7,
   "id": "2f6cbd6e-b08d-4210-b0c0-1ee1fdc5ee3e",
   "metadata": {},
   "outputs": [
    {
     "name": "stdout",
     "output_type": "stream",
     "text": [
      "True\n"
     ]
    }
   ],
   "source": [
    "# from string\n",
    "print(movie_dict == json.loads(json_str))  # True"
   ]
  },
  {
   "cell_type": "markdown",
   "id": "5dc2e90d-6593-4e0d-a1a7-4572dc38b8a0",
   "metadata": {},
   "source": [
    "## XML\n",
    "\n",
    "**XML (eXtensible Markup Language)** là một loại text-based format để lưu và truyền tải structured data trên Internet. Với format này, data được biểu diễn dưới dạng document với một cấu trúc clear và flexible. Một XML doc có thể được lưu xuống máy với `.xml` extension và cũng thường được sử dụng như một configuration file của một program.\n",
    "\n",
    "XML được coi là một trong những format phổ biến nhất và được sử dụng từ startup nhỏ cho đến tập đoàn lớn. XML rất quan trọng bởi vì tính dễ thể hiện của nó với con người và cả máy để xử lý.\n",
    "\n",
    "### Tags và elements\n",
    "\n",
    "Mỗi XMl doc bao gồm các **tags** và **elements**.\n",
    "\n",
    "Một tag là một string với một ý nghĩa gán vào nó e.g: book, a person. Điều thú vị là XML không hề cung cấp tags có sẵn nào, mà nó cho phép developers thoải mãi tạo ra tag của mình.\n",
    "\n",
    "Một element là một building block của một XML structure: nó có thể bao gồm text, tag, hoặc các elements khác hay attributes. \n",
    "\n",
    "Ví dụ dưới đây mô tả một cuốn sách với title và author:"
   ]
  },
  {
   "cell_type": "code",
   "execution_count": null,
   "id": "a75f6ac7-003f-449f-ab76-390d04ba8bf7",
   "metadata": {},
   "outputs": [],
   "source": [
    "<?xml version=\"1.0\" encoding=\"UTF-8\"?>\n",
    "<book>\n",
    "  <title>The Three-Body Problem</title>\n",
    "  <author>Liu Cixin</author>\n",
    "</book>"
   ]
  },
  {
   "cell_type": "markdown",
   "id": "fc014100-ef7a-4703-9e34-a68a2642e181",
   "metadata": {},
   "source": [
    "Doc này bao gồm 3 tag: `<book>`, `<title>`, `<author>`, 3 element: \n",
    "- `<book>...</book>`\n",
    "- `<title>The Three-Body Problem</title>`\n",
    "- `<author>Liu Cixin</author>`\n",
    "\n",
    "Tất cả các tag đều cần closing tag (vỡi `/` ở trước) hoặc `/>`.\n",
    "\n",
    "Dòng đầu tiên của XML doc gọi là **prologue**:"
   ]
  },
  {
   "cell_type": "code",
   "execution_count": null,
   "id": "89920695-433a-461a-879a-6dec078c3045",
   "metadata": {},
   "outputs": [],
   "source": [
    "<?xml version=\"1.0\" encoding=\"UTF-8\"?>"
   ]
  },
  {
   "cell_type": "markdown",
   "id": "2d29cffb-0e2c-477d-adf2-562f34bab982",
   "metadata": {},
   "source": [
    "### Child element\n",
    "\n",
    "Mỗi XML doc đều có một single element gọi là `root`. Element này chứa các element khác bên trong gọi là **child element**, và cũng có thể có các child element của riêng chúng.\n",
    "\n",
    "Ví dụ XML doc biểu diễn sách trong một thư viện:"
   ]
  },
  {
   "cell_type": "code",
   "execution_count": null,
   "id": "fdec1085-5793-4aaa-8bee-105749c63ec6",
   "metadata": {},
   "outputs": [],
   "source": [
    "<?xml version=\"1.0\" encoding=\"UTF-8\"?>\n",
    "<library>\n",
    "  <book>\n",
    "    <title>The Three-Body Problem</title>\n",
    "    <author>Liu Cixin</author>\n",
    "  </book>\n",
    "  <book>\n",
    "    <title>Modern Operating Systems</title>\n",
    "    <author>Andrew S. Tanenbaum</author>\n",
    "  </book>\n",
    "</library>"
   ]
  },
  {
   "cell_type": "markdown",
   "id": "b6e42121-cb9d-45f4-89b6-c11250f97133",
   "metadata": {},
   "source": [
    "Ở đây root element là `<library>` có 2 children `<book>`, trong khi `<author>` và `<title>` là children của book."
   ]
  },
  {
   "cell_type": "markdown",
   "id": "8ca36ac0-a666-4e4f-ac9f-ebed34df0166",
   "metadata": {},
   "source": [
    "### Attributes\n",
    "\n",
    "XML element có thể có các **attributes** mà cung cấp thêm thông tin cho các element.\n",
    "\n",
    "Các value của attribute luôn được đặt bên trong quote (đơn hay kép), nếu value cần phải có `\"` bên trong thì phải dùng single quote `'` để bọc ngoài lại (*ngược lại với Python*). Và một element cũng có thể có nhiều hơn 1 attribute."
   ]
  },
  {
   "cell_type": "code",
   "execution_count": null,
   "id": "d43a43a2-c507-4082-a0d2-9ad4c657d5f4",
   "metadata": {},
   "outputs": [],
   "source": [
    "<picture name='\"Sunset at Sea\", Ivan Aivazovsky'/>\n",
    "<!--or using &quot instead-->\n",
    "<picture name=\"&quot;Sunflowers&quot;, Vincent van Gogh\"/>"
   ]
  },
  {
   "cell_type": "markdown",
   "id": "17430fa3-70aa-43a9-adf1-feee25f28da6",
   "metadata": {},
   "source": [
    "XML doc dưới đây mô tả một art gallery, có thể thấy đôi khi attribute có thể dùng thay cho child element. Điều này thật sự không có quy tắc nào để nói rõ khi nào nên dùng attribute, khi nào nên dùng child element. Nó hoàn toàn phụ thuộc vào dữ liệu mà ta đang cố để model, tool for XML processing, và ai sẽ làm việc với data này."
   ]
  },
  {
   "cell_type": "code",
   "execution_count": null,
   "id": "712f60cd-5fc9-4f80-b034-a0a68e64cf1e",
   "metadata": {},
   "outputs": [],
   "source": [
    "<?xml version=\"1.0\" encoding=\"UTF-8\"?>\n",
    "<gallery>\n",
    "  <picture name='Sunset at Sea' author='Ivan Aivazovsky'/>\n",
    "  <picture name='The Black Square' author='Kazimir Malevich'/>\n",
    "  <picture name='Sunflowers' author='Vincent van Gogh'/>\n",
    "</gallery>"
   ]
  },
  {
   "cell_type": "markdown",
   "id": "09f1ffbd-595d-471d-9cf0-86a0b22f8f38",
   "metadata": {},
   "source": [
    "### Pros and cons of XML\n",
    "\n",
    "Ưu điểm của XML là:\n",
    "- dễ dàng hiểu bởi machine và con người\n",
    "- format dựa trên international standard\n",
    "- well-defined structure để tối ưu search và extract thông tin\n",
    "- ngôn ngữ lập trình hiện đại có nhiều lib để hỗ trợ processing XML doc tự động.\n",
    "\n",
    "Khuyết điểm: redundant syntax tốn nhiều bộ nhớ hơn và transportation cost. Khi cần transport hoặc store một lương data lớn thì ta nên cân nhắc liệu XML có phải là phương án tối ưu hay không."
   ]
  }
 ],
 "metadata": {
  "kernelspec": {
   "display_name": "Python 3 (ipykernel)",
   "language": "python",
   "name": "python3"
  },
  "language_info": {
   "codemirror_mode": {
    "name": "ipython",
    "version": 3
   },
   "file_extension": ".py",
   "mimetype": "text/x-python",
   "name": "python",
   "nbconvert_exporter": "python",
   "pygments_lexer": "ipython3",
   "version": "3.8.12"
  }
 },
 "nbformat": 4,
 "nbformat_minor": 5
}
