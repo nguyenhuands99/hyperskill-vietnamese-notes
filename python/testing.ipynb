{
 "cells": [
  {
   "cell_type": "markdown",
   "metadata": {
    "collapsed": true,
    "pycharm": {
     "name": "#%% md\n"
    }
   },
   "source": [
    "# SOFTWARE QUALITY VÀ TESTING TRONG PYTHON"
   ]
  },
  {
   "cell_type": "markdown",
   "source": [
    "## Bug"
   ],
   "metadata": {
    "collapsed": false,
    "pycharm": {
     "name": "#%% md\n"
    }
   }
  },
  {
   "cell_type": "markdown",
   "source": [
    "### Bug là gì?\n",
    "\n",
    "**Software bug** là một vấn đề làm cho chương trình crash hoặc tạo ra một output không hợp lệ. Và có rất nhiều lý do gây ra software bugs; nhưng mà phổ biến nhất đó là do lỗi của con người trong quá trình software design, coding, hoặc understanding requirements.\n",
    "\n",
    "Một chương trình được gọi là **stable** nếu như nó không có quá nhiều obvious bugs. Nếu như chương trình có một lượng lớn bugs mà ảnh hưởng đến functionality và gây ra nhiều kết quả sai, thì nó được gọi là **buggy** hoặc **unstable**. Trong trường hợp đó, user không thể nào tương tác với các software đó một cách thành công được. Do đó, việc tìm ra bug **before** users bắt đầu sử dụng với chương trình của bạn là một điều hết sức quan trọng."
   ],
   "metadata": {
    "collapsed": false,
    "pycharm": {
     "name": "#%% md\n"
    }
   }
  },
  {
   "cell_type": "markdown",
   "source": [
    "### Bug etymology\n",
    "\n",
    "Có nhiều phiên bản cho câu chuyện nguồn gốc từ \"bug\", đây là một trong các phiên bản:\n",
    "\n",
    "Con bug đầu tiên được phát hiện bởi Grace Murray tại Harvard University vào năm 1947, trong khi bà đang làm việc với Mark II computer. Trong quá trình điều tra một vấn đề đang gặp phải, một con bướm đêm (moth) được tìm thấy ở giữa công-tắc của rơ-le (relay). Con bug được loại bỏ và thêm vào trong logbook mà bây giờ vẫn được lưu giữ tại Smithsonian Institution's National of American History, Washington, D.C.\n",
    "\n",
    "Về sau, computer errors thường được gọi là bugs. Từ này cũng được dùng để mô tả bất kì incorrect program behavior cho đến khi căn nguyên của lỗi được xác định."
   ],
   "metadata": {
    "collapsed": false,
    "pycharm": {
     "name": "#%% md\n"
    }
   }
  },
  {
   "cell_type": "markdown",
   "source": [
    "### Why do programs have bugs?\n",
    "\n",
    "Developers thường nói rằng \"a program without bugs doesn't exist\". Có một vài lý do để có bugs trong software:\n",
    "- communication issues giữa các team\n",
    "- misunderstanding of the requirements\n",
    "- software complexity\n",
    "- programming errors (người lập trình, như mọi người, đều mắc lỗi)\n",
    "- time pressure\n",
    "- use of unfamiliar technologies\n",
    "- an error in a third-party library (yes, that happens too)"
   ],
   "metadata": {
    "collapsed": false,
    "pycharm": {
     "name": "#%% md\n"
    }
   }
  },
  {
   "cell_type": "markdown",
   "source": [
    "### Avoiding bugs\n",
    "\n",
    "Gần như là không thể tránh khỏi tất cả các bugs trong một chương trình lớn, nhưng mà việc giảm thiểu chúng là hoàn toàn có thể. Dưới đây là **5 steps** để giúp chúng ta giảm bugs trong cả việc lập trình học tập và lập trình thực sự trong công nghiệp:\n",
    "- **Make sure you know what to do**: Là một programmer, bạn cần phải hiểu requirements của một program mà bạn đang làm. Nếu bạn có bất cứ nghi ngờ nào, bạn hoàn toán có thể nhờ một vài sự giúp đỡ từ Internet hoặc giữa các đồng nghiệp developers.\n",
    "- **Decompose a program** thành các phần nhỏ mà có thể dễ dàng hiểu và kiểm tra. Một kiến trúc tốt giảm thiểu software complexity và, as a consequence, số lượng lỗi.\n",
    "- **Write easy-to-read-code** và follow the standards of the language. Điều này sẽ giúp bạn make ít errors hơn.\n",
    "- **Run the program** với boudary input values. Đừng quên consider different cases: 0 hoặc một số cực lớn as a input value, 0 hoặc 1 element as a input sequence. Nhưng cases như vậy thường reveal bugs.\n",
    "- **Write automated tets** có thể check chương trình trong lúc build time."
   ],
   "metadata": {
    "collapsed": false,
    "pycharm": {
     "name": "#%% md\n"
    }
   }
  },
  {
   "cell_type": "markdown",
   "source": [
    "### Debugging\n",
    "\n",
    "Giả sử bạn biết rằng chương trình của mình không work correctly với một vài input values. Để fix this bug, ban cần phải tìm nó trong code và thay đổi phần code đó.\n",
    "\n",
    "Để xác định the buggy place, ta có thể:\n",
    "- đọc code và thử hiểu nó sẽ làm gì với input values\n",
    "- start the debugger và xem current value của variable và the control flow của chương trình\n",
    "- print trạng thái hiện tại của chương trình trong critical parts of the code (gọi là logging) và phân tích nó."
   ],
   "metadata": {
    "collapsed": false,
    "pycharm": {
     "name": "#%% md\n"
    }
   }
  },
  {
   "cell_type": "markdown",
   "source": [
    "## Logging"
   ],
   "metadata": {
    "collapsed": false,
    "pycharm": {
     "name": "#%% md\n"
    }
   }
  },
  {
   "cell_type": "markdown",
   "source": [
    "## Introduction to Logging\n",
    "### Log là gì?\n",
    "Log ám chỉ hành động ghi (record) lại trong quá trình execution của một ứng dụng. **Logs** là record cho chúng ta biết thông tin của một events trong software application. Record này có thể là một message mà chứa đủ thông tin cho biết là event này đã xảy ra, hoặc có thể chứa timestamp, description, và mức độ nghiêm trọng (severity level). Những events có thể do user-generated hoặc system-generated. Ta có thể dùng hoặc là log file, hay đôi khi, là standart output để tạo những records này.\n",
    "\n",
    "Ta cần log vì một vài lý do:\n",
    "- Tiết kiệm thời gian khi ta **troubleshooting** ứng dụng ở một giai đoạn trễ. Ví dụ, một chương trình broke hoặc có vấn đề gì sai sót, ta có thể tìm lại được thời điểm mà error xảy ra trong log. Và từ đó giúp quá trình debug trở nên dễ dàng hơn nhiều.\n",
    "- Ta có thể trace ai là đã dùng program bằng log. Ví dụ, với trường hợp của một site, ta có thể tìm ra ai là người gửi requests. Và logs cũng có thể giúp ta monitor the operation của một system cụ thể. Điều này giúp verification và report trở nên dễ dàng hơn nhiều. Với cách này, ta có thể luôn hình dung được chương trình của chúng ta chạy và perform ra sao.\n",
    "\n",
    "### When, What, How we log?\n",
    "\n",
    "Như đã dược đề cập ở trên, một vài lý do để generate logs:\n",
    "- troubleshooting\n",
    "- auditing\n",
    "- profiling\n",
    "- statistics\n",
    "\n",
    "What we log? điều này phụ thuộc vào application. Trong bất kỳ trường hợp nào, ta cũng nên có khả năng hiểu được the execution path của một program through the logs. Tránh logging quá mức bởi vì nó cực kỳ tốn kém. Ví dụ, không cần thiết phải log việc start và end của tất cả các method, tham số của chúng, bởi vì những thứ này dễ dàng track được. Logs are meant to cover server issues, database issues, networking issues, lỗi từ unanticipated user inputs, states of dynamically created objects, và configuration values.\n",
    "\n",
    "Cung cấp contextual information trong log messages cũng rất quan trọng không kém. Thường thì việc success hoặc failure của một chương trình phụ thuộc vào user inputs. Do đó, ta cần phải bỏ chúng trong log messages nếu cần thiết. Ví dụ, khi authenticate một user, log username mà được inputted. Context cũng rất quan trọng khi mà chương trình chạy trong môi trường đồng thời/ song song (concurrent environment). Trong những cases như vậy, thread name cũng có thể được thêm vào the log mesage.\n",
    "\n",
    "### Log levels\n",
    "\n",
    "Ta có nói ở trên rằng có nhiều thông tin quan trọng có thể được thêm vào trong log. Nhưng những thông tin đó thuộc những loại nào? Có một số loại tương ứng với một số logging levels được chấp nhận là: Debug, Info, Warn, Eror, Fatal (từ ít critical cho tới critical nhất):\n",
    "- **Debug** logs được dùng để diagnose applications. Debugging messages báo cho chúng ta biết program đang làm gì ở từng bước cụ thể và nó nhận được gì từ kết quả của các bước làm này. Ví dụ, một message có thể chứa thông tin về output của một số function, nhờ đó mà ta có thể tìm được chỗ nào cần được fixed.\n",
    "- **Info** được dùng để log thông tin quan trọng về application: lúc service start, service stop, configurations, assumptions. Ví dụ, info về user vừa mới register on the website.\n",
    "- **Warn** logs được coi như first-level của application failure. Nó thường được áp dụng để log repeated attempts để truy cập một resource, hoặc log missing sencondary data, hoặc switching from a primary server to a back-up server. Ví dụ, có thể có một message về một possible disconnection với server. Tuy nhiên, những thứ này chưa ảnh hưởng đến user lúc này.\n",
    "- **Error** log level được dùng với vấn đề critical hơn. Những loại issues này thường affect trức tiếp để result của operation nhưng mà chưa thực sự terminate the program. Errors được coi như second level của application failures. Ví dụ, có thể có message thông báo rằng user không thể log in bời vì database hiện tại tạm thời unavailable.\n",
    "- **Fatal** là third level of application failure. Nó được dùng để indicate một lỗi nghiêm trọng hơn nhiều mà có thể gây ra terminate the program. Message như vầy có thể nói rằng the program hoàn toàn failed và tùy thuộc vào thời gian và điều kiện của this failure mà developers có thể tìm ra cách nào để fix the problem.\n",
    "\n",
    "### Log format\n",
    "\n",
    "Để mà investigate một bug, ta cần biết khi nào nó xảy ra, nó nghiêm trọng ra sao, và ai came accross nó. Do đó, format của log có thể nhìn chung trông như sau:\n",
    "```\n",
    "[date time][log level][message]\n",
    "```\n",
    "\n",
    "Ví dụ, ta muốn coi log tương ứng với việc monitor ai mới register vào trang của chúng ta, ta có thể xem logs với **Info** level. Một vài ví dụ log có thể được trông đại loại như vầy:\n",
    "```\n",
    "[2021-02-02 15:00:00] [INFO] User 'demo' has registered\n",
    "...\n",
    "[2021-02-02 19:00:01] [ERROR] User 'alex98' can not log in because the database is temporarily unavailable\n",
    "```\n",
    "\n",
    "*Ngoài ra còn có một phiên bản phức tạp hơn của log format đó là [The Common Log Format](https://en.wikipedia.org/wiki/Common_Log_Format)*"
   ],
   "metadata": {
    "collapsed": false,
    "pycharm": {
     "name": "#%% md\n"
    }
   }
  },
  {
   "cell_type": "markdown",
   "source": [
    "## Testing"
   ],
   "metadata": {
    "collapsed": false,
    "pycharm": {
     "name": "#%% md\n"
    }
   }
  },
  {
   "cell_type": "markdown",
   "source": [
    "## Functional Testing\n",
    "\n",
    "Thử tưởng tượng bạn và development team của ban dã tạo ra xong một product, ví dụ, một ứng dụng mobile. Trước khi bạn upload ứng dụng của mình lên một số download service, ban cần đảm bảo rằng mọi thứ works as intended. Để làm điều này, bạn cần conduct functional testing. Nó sẽ giúp bạn verify rằng ứng dụng performs những tasks mong muốn trong approriate context. Cùng xem thử functional testing là gì và nó được chia làm bao nhiều loại test.\n",
    "\n",
    "### What is functional testing\n",
    "\n",
    "**Functional testing** kiểm tra nếu như output có thỏa mãn một số requirements cụ thể hay không. Nhiệm vụ chính của nó là confirm that the functionality của một ứng dụng hoặc một system có behave as expected.\n",
    "\n",
    "Cần có một vài thứ để định nghĩa cái gì được coi là chấp nhận được và cái gì không. Thường thì những thứ này được viết sẵn ở requirements. Requirements là một document mà mô tả những expected behavior của một program. Thêm vào đó, thỉnh thoảng một vài specifications cũng cần bao gồm những business scenarios to be validated.\n",
    "\n",
    "Bây giờ, ta sẽ tìm hiểu một vài loại functional testing.\n",
    "\n",
    "### Test pyramid\n",
    "\n",
    "The key concept mà đại diện (represent) cho các loại test khác nhau đó là the **test pyramid**. Đây là một hình minh họa rất hay thể hiện những level của các loại test khác nhau. Nó cũng show được mức độ bao phủ của the tests tại từng level."
   ],
   "metadata": {
    "collapsed": false,
    "pycharm": {
     "name": "#%% md\n"
    }
   }
  },
  {
   "cell_type": "code",
   "source": [
    "from IPython.core.display import display, HTML\n",
    "display(HTML(open('./img/test-pyramid.svg').read()))"
   ],
   "metadata": {
    "collapsed": false,
    "pycharm": {
     "name": "#%%\n"
    }
   },
   "execution_count": 3,
   "outputs": [
    {
     "data": {
      "text/plain": "<IPython.core.display.HTML object>",
      "text/html": "<svg width=\"1474\" height=\"1016\" viewBox=\"0 0 1474 1016\" fill=\"none\" xmlns=\"http://www.w3.org/2000/svg\">\n<g clip-path=\"url(#clip0)\">\n<rect width=\"1474\" height=\"1016\" fill=\"white\"/>\n<mask id=\"mask0\" mask-type=\"alpha\" maskUnits=\"userSpaceOnUse\" x=\"33\" y=\"29\" width=\"1410\" height=\"942\">\n<path d=\"M738 29L1442.94 971H33.0553L738 29Z\" fill=\"#C4C4C4\"/>\n</mask>\n<g mask=\"url(#mask0)\">\n<rect y=\"739\" width=\"1474\" height=\"235\" fill=\"#274867\"/>\n<rect y=\"502\" width=\"1474\" height=\"230\" fill=\"#007BFF\"/>\n<rect y=\"265\" width=\"1474\" height=\"230\" fill=\"#CCE5FF\"/>\n<rect y=\"29\" width=\"1474\" height=\"229\" fill=\"#A5BBD2\"/>\n</g>\n<path d=\"M561.778 365.26V347.97H584.738V342.23H561.778V326.76H590.268V321.02H555.478V371H591.388V365.26H561.778ZM631.872 371V348.6C631.872 340.13 627.112 334.81 618.432 334.81C613.672 334.81 609.752 336.77 607.792 339.5H606.252V335.72H600.512V371H606.462V351.89C606.462 345.66 610.662 340.13 616.962 340.13C622.912 340.13 625.922 343.35 625.922 349.86V371H631.872ZM668.379 320.11V339.5H666.839C664.879 336.98 661.659 334.81 656.059 334.81C646.329 334.81 640.589 342.72 640.589 353.36C640.589 363.79 646.329 371.91 656.059 371.91C661.659 371.91 665.089 369.67 667.049 367.22H668.589V371H674.329V320.11H668.379ZM657.389 366.73C650.319 366.73 646.539 361.2 646.539 353.36C646.539 345.52 650.319 339.99 657.389 339.99C665.229 339.99 668.449 346.43 668.449 353.36C668.449 360.29 665.229 366.73 657.389 366.73ZM702.625 354.2V348.95H683.515V354.2H702.625ZM719.992 335.72V325.08H714.042V335.72H707.952V340.9H714.042V361.13C714.042 368.62 718.522 371 726.152 371H728.882V365.68H726.292C721.532 365.68 719.992 363.86 719.992 360.29V340.9H728.882V335.72H719.992ZM753.31 334.81C742.25 334.81 735.95 342.93 735.95 353.36C735.95 363.79 742.25 371.91 753.31 371.91C764.3 371.91 770.67 363.79 770.67 353.36C770.67 342.93 764.3 334.81 753.31 334.81ZM753.31 366.73C745.47 366.73 741.9 360.29 741.9 353.36C741.9 346.43 745.47 339.99 753.31 339.99C761.08 339.99 764.72 346.43 764.72 353.36C764.72 360.29 761.08 366.73 753.31 366.73ZM797.781 354.2V348.95H778.671V354.2H797.781ZM838.573 351.26C838.363 342.58 833.323 334.81 822.823 334.81C812.113 334.81 805.813 342.16 805.813 353.01C805.813 363.86 811.973 371.91 822.963 371.91C831.713 371.91 836.823 367.29 837.943 361.27H831.923C830.873 364.63 827.933 366.73 822.963 366.73C815.683 366.73 811.903 361.69 811.693 353.29H838.573V351.26ZM822.683 339.99C828.633 339.99 832.063 343.84 832.413 348.32H812.043C812.813 343.84 816.313 339.99 822.683 339.99ZM879.197 371V348.6C879.197 340.13 874.437 334.81 865.757 334.81C860.997 334.81 857.077 336.77 855.117 339.5H853.577V335.72H847.837V371H853.787V351.89C853.787 345.66 857.987 340.13 864.287 340.13C870.237 340.13 873.247 343.35 873.247 349.86V371H879.197ZM915.703 320.11V339.5H914.163C912.203 336.98 908.983 334.81 903.383 334.81C893.653 334.81 887.913 342.72 887.913 353.36C887.913 363.79 893.653 371.91 903.383 371.91C908.983 371.91 912.413 369.67 914.373 367.22H915.913V371H921.653V320.11H915.703ZM904.713 366.73C897.643 366.73 893.863 361.2 893.863 353.36C893.863 345.52 897.643 339.99 904.713 339.99C912.553 339.99 915.773 346.43 915.773 353.36C915.773 360.29 912.553 366.73 904.713 366.73ZM645.89 409.72V399.08H639.94V409.72H633.85V414.9H639.94V435.13C639.94 442.62 644.42 445 652.05 445H654.78V439.68H652.19C647.43 439.68 645.89 437.86 645.89 434.29V414.9H654.78V409.72H645.89ZM694.608 425.26C694.398 416.58 689.358 408.81 678.858 408.81C668.148 408.81 661.848 416.16 661.848 427.01C661.848 437.86 668.008 445.91 678.998 445.91C687.748 445.91 692.858 441.29 693.978 435.27H687.958C686.908 438.63 683.968 440.73 678.998 440.73C671.718 440.73 667.938 435.69 667.728 427.29H694.608V425.26ZM678.718 413.99C684.668 413.99 688.098 417.84 688.448 422.32H668.078C668.848 417.84 672.348 413.99 678.718 413.99ZM713.672 423.02C710.102 422.46 708.352 421.41 708.352 418.68C708.352 415.67 711.432 413.99 715.982 413.99C720.392 413.99 723.752 415.53 724.242 418.89H730.192C729.422 412.73 724.592 408.81 716.262 408.81C706.742 408.81 702.332 413.36 702.332 419.24C702.332 424.56 705.762 427.22 710.802 428.13L718.712 429.46C723.192 430.23 725.152 431.91 725.152 434.99C725.152 438.84 721.652 440.73 716.332 440.73C711.012 440.73 707.512 438.77 706.952 434.78H700.932C701.702 441.5 706.602 445.91 716.612 445.91C726.132 445.91 731.102 440.66 731.102 434.85C731.102 428.41 727.182 425.26 721.022 424.21L717.032 423.58L713.672 423.02ZM748.019 409.72V399.08H742.069V409.72H735.979V414.9H742.069V435.13C742.069 442.62 746.549 445 754.179 445H756.909V439.68H754.319C749.559 439.68 748.019 437.86 748.019 434.29V414.9H756.909V409.72H748.019ZM772.994 400.55V394.11H766.694V400.55H772.994ZM772.784 409.72H766.834V445H772.784V409.72ZM815.828 445V422.6C815.828 414.13 811.068 408.81 802.388 408.81C797.628 408.81 793.708 410.77 791.748 413.5H790.208V409.72H784.468V445H790.418V425.89C790.418 419.66 794.618 414.13 800.918 414.13C806.868 414.13 809.878 417.35 809.878 423.86V445H815.828ZM852.544 409.72V413.5H851.004C849.114 411.05 845.754 408.81 840.224 408.81C830.494 408.81 824.544 416.51 824.544 426.87C824.544 437.16 830.494 444.86 840.224 444.86C845.544 444.86 848.904 442.62 850.794 440.17H852.334V442.97C852.334 450.04 849.044 454.45 841.764 454.45C836.444 454.45 832.804 452.91 831.754 448.71H825.874C826.924 455.71 832.804 459.49 841.834 459.49C852.124 459.49 858.284 453.12 858.284 443.25V409.72H852.544ZM841.344 439.68C834.414 439.68 830.494 434.5 830.494 426.87C830.494 419.1 834.414 413.99 841.344 413.99C848.904 413.99 852.474 420.08 852.474 426.87C852.474 433.59 848.904 439.68 841.344 439.68Z\" fill=\"#274867\"/>\n<path d=\"M561.279 591.02V641H567.579V591.02H561.279ZM611.482 641V618.6C611.482 610.13 606.722 604.81 598.042 604.81C593.282 604.81 589.362 606.77 587.402 609.5H585.862V605.72H580.122V641H586.072V621.89C586.072 615.66 590.272 610.13 596.572 610.13C602.522 610.13 605.532 613.35 605.532 619.86V641H611.482ZM630.558 605.72V595.08H624.608V605.72H618.518V610.9H624.608V631.13C624.608 638.62 629.088 641 636.718 641H639.448V635.68H636.858C632.098 635.68 630.558 633.86 630.558 630.29V610.9H639.448V605.72H630.558ZM679.276 621.26C679.066 612.58 674.026 604.81 663.526 604.81C652.816 604.81 646.516 612.16 646.516 623.01C646.516 633.86 652.676 641.91 663.666 641.91C672.416 641.91 677.526 637.29 678.646 631.27H672.626C671.576 634.63 668.636 636.73 663.666 636.73C656.386 636.73 652.606 631.69 652.396 623.29H679.276V621.26ZM663.386 609.99C669.336 609.99 672.766 613.84 673.116 618.32H652.746C653.516 613.84 657.016 609.99 663.386 609.99ZM714.37 605.72V609.5H712.83C710.94 607.05 707.58 604.81 702.05 604.81C692.32 604.81 686.37 612.51 686.37 622.87C686.37 633.16 692.32 640.86 702.05 640.86C707.37 640.86 710.73 638.62 712.62 636.17H714.16V638.97C714.16 646.04 710.87 650.45 703.59 650.45C698.27 650.45 694.63 648.91 693.58 644.71H687.7C688.75 651.71 694.63 655.49 703.66 655.49C713.95 655.49 720.11 649.12 720.11 639.25V605.72H714.37ZM703.17 635.68C696.24 635.68 692.32 630.5 692.32 622.87C692.32 615.1 696.24 609.99 703.17 609.99C710.73 609.99 714.3 616.08 714.3 622.87C714.3 629.59 710.73 635.68 703.17 635.68ZM751.766 605.72H749.106C743.996 605.72 740.636 607.75 738.886 609.92H737.346V605.72H731.606V641H737.556V623.36C737.556 615.59 741.826 611.32 748.826 611.32H751.766V605.72ZM782.035 641H787.635V616.99C787.635 609.08 781.965 604.81 773.075 604.81C765.165 604.81 759.565 608.59 759.075 615.1H765.025C765.305 612.02 767.965 609.99 773.215 609.99C779.375 609.99 781.825 613.07 781.825 617.34V618.74H770.345C760.545 618.74 756.835 624.76 756.835 630.43C756.835 636.45 761.385 641.91 769.505 641.91C774.545 641.91 778.325 640.02 780.495 637.29H782.035V641ZM770.975 636.73C765.725 636.73 762.785 634.21 762.785 630.22C762.785 626.02 765.445 623.5 771.255 623.5H781.825V626.72C781.825 632.32 776.855 636.73 770.975 636.73ZM806.72 605.72V595.08H800.77V605.72H794.68V610.9H800.77V631.13C800.77 638.62 805.25 641 812.88 641H815.61V635.68H813.02C808.26 635.68 806.72 633.86 806.72 630.29V610.9H815.61V605.72H806.72ZM831.695 596.55V590.11H825.395V596.55H831.695ZM831.485 605.72H825.535V641H831.485V605.72ZM858.359 604.81C847.299 604.81 840.999 612.93 840.999 623.36C840.999 633.79 847.299 641.91 858.359 641.91C869.349 641.91 875.719 633.79 875.719 623.36C875.719 612.93 869.349 604.81 858.359 604.81ZM858.359 636.73C850.519 636.73 846.949 630.29 846.949 623.36C846.949 616.43 850.519 609.99 858.359 609.99C866.129 609.99 869.769 616.43 869.769 623.36C869.769 630.29 866.129 636.73 858.359 636.73ZM916.365 641V618.6C916.365 610.13 911.605 604.81 902.925 604.81C898.165 604.81 894.245 606.77 892.285 609.5H890.745V605.72H885.005V641H890.955V621.89C890.955 615.66 895.155 610.13 901.455 610.13C907.405 610.13 910.415 613.35 910.415 619.86V641H916.365Z\" fill=\"white\"/>\n<path d=\"M708.419 819.02V851.08C708.419 858.92 703.799 864.17 695.049 864.17C686.299 864.17 681.679 858.92 681.679 851.08V819.02H675.379V851.15C675.379 862.98 682.239 869.91 695.049 869.91C707.859 869.91 714.719 862.98 714.719 851.15V819.02H708.419ZM758.066 869V846.6C758.066 838.13 753.306 832.81 744.626 832.81C739.866 832.81 735.946 834.77 733.986 837.5H732.446V833.72H726.706V869H732.656V849.89C732.656 843.66 736.856 838.13 743.156 838.13C749.106 838.13 752.116 841.35 752.116 847.86V869H758.066ZM775.252 824.55V818.11H768.952V824.55H775.252ZM775.042 833.72H769.092V869H775.042V833.72ZM794.915 833.72V823.08H788.965V833.72H782.875V838.9H788.965V859.13C788.965 866.62 793.445 869 801.075 869H803.805V863.68H801.215C796.455 863.68 794.915 861.86 794.915 858.29V838.9H803.805V833.72H794.915Z\" fill=\"white\"/>\n<path d=\"M741.416 153.02V185.08C741.416 192.92 736.796 198.17 728.046 198.17C719.296 198.17 714.676 192.92 714.676 185.08V153.02H708.376V185.15C708.376 196.98 715.236 203.91 728.046 203.91C740.856 203.91 747.716 196.98 747.716 185.15V153.02H741.416ZM760.752 153.02V203H767.052V153.02H760.752Z\" fill=\"#274867\"/>\n</g>\n<defs>\n<clipPath id=\"clip0\">\n<rect width=\"1474\" height=\"1016\" fill=\"white\"/>\n</clipPath>\n</defs>\n</svg>\n"
     },
     "metadata": {},
     "output_type": "display_data"
    }
   ]
  },
  {
   "cell_type": "markdown",
   "source": [
    "Ở level thấp nhất, sẽ có nhiều tests hơn và chúng cũng chạy nhanh hơn, bởi vì những test này nhỏ và mục đích cũng chỉ cho những functions/ features đơn lẻ. Ở level cao hơn, sẽ có ít test hơn và chúng cũng sẽ phức tạp hơn và đồ sộ hơn, những test này cũng yêu cầu nhiều effort và time hơn.\n",
    "\n",
    "### Unit testing\n",
    "\n",
    "Loại cơ bản nhất của việc test đó là **unit testing**. Nó cấu thành từ những tests được viết cho mỗi non-trivial function hoặc method. Với unit test, ta có thể nhanh chóng check những thay đổi mới trong code có dẫn đến lỗi trong những phần đã test của chương trình hay không, góp phần lớn trong quá trình việc tìm lỗi và sửa lỗi này. Mục tiêu của unit testing là cô lập từng phần lẻ của chương trình và chỉ ra rằng từng phần này works.\n",
    "\n",
    "Unit testing được thực hiện ở giai đoạn đầu tiên của development process, trong nhiều cases nó được executed bởi chính developers trước khi đưa the software đến testing team.\n",
    "\n",
    "Những lợi ích của detect bất lì lỗi trong software từ sớm sẽ giảm thiểu nguy cơ phát triển phần mềm (software development risk), cũng như giảm thiểu thời gian, tiền bạc lãng phí vào việc going back và undoing những vấn đề căn bản trong chương trình trong khi chương trình đã gần như sẵn sàng.\n",
    "\n",
    "### Integration testing\n",
    "\n",
    "Mọi ứng dụng phức tạp đều được tích hợp với nhiều phần khác nhau, ví dụ databases, file system, vv.. Do đó, dẫn đến việc developers cũng cần test những phần này all work together như thế nào. **Integration test** dùng cho việc này.\n",
    "\n",
    "Input của chúng sẽ là những unit đã được test, group chúng lại thành những set lớn hơn, chạy những tests được defined trong test plan cho những set này, và present chúng thành output và cũng là input cho những subsequent system testing. Mục tiêu của integeration test là check tính integration của application với tất cả những outside components.\n",
    "\n",
    "Do đó, trong quá trình test, ta cần chạy không chỉ ứng dụng mà còn là những components mà được integrated. Ví dụ, nếu mà ta muốn check integration với database, thì ta cũng phải chạy database khi mà executing the tests.\n",
    "\n",
    "### End-to-end testing\n",
    "\n",
    "Sau integration tests, ta có thể check toàn bộ hệ thống từ start to end. Đây gọi là end-to-end testing.\n",
    "\n",
    "**End-to-end testing** là một software testing methodology để test toàn bộ một application flow. Mục tiêu của nó là để mô phỏng (simulate) những senario của real user và validate hệ thống đã được tested, cũng như những components, for integration và data integrity/.\n",
    "\n",
    "End-to-end testing được thực hiện dưới những real-word senarios như giao tiếp giữa application với hardware, network, databases, và những ứng dụng khác.\n",
    "\n",
    "Loại test này rất useful, nhưng mà chúng rất expensive để thực hiện và có thể khó để mà bảo trì khi mà mọi thứ được tự động. Nên người ta khuyên rằng nên có một ít key end-to-end tests, còn lại nên phụ thuộc hơn vào những lower-level tests khách (unit, integration tests) để có thể quickly identify new errors.\n",
    "\n",
    "### UI testing\n",
    "\n",
    "**UI testing** là từ viết tắt của **User Interface testing**. Ý tưởng là QA engineer sẽ simulate user actions, i.e click vào button và links, và những actions kiểu tương tự. Mục đích là để check giao diện giữa các components. Nếu như bạn, giả sử, tạo một site mới, thì trong quá trình UI testing bạn sẽ phải check, ví dụ, search hoạt động ra sao, user có thể log in/ log out không, các section được opened như thế nào, vv.\n",
    "\n",
    "UI testing có thể thực hiện bởi không chỉ developer mà còn là user. Loại functional testing này được gọi là **Beta testing**.\n",
    "\n",
    "**Beta** hay **Acceptance testing** được thực thi ở bước very end khi mà bản raw hay beta của sản phẩm đã sẵn sàng. Beta testing là việc sử dụng một cách dày đặc của bản gần-hoàn-thành của một sản phẩm cốt để xác định được nhiều bugs có thể trước khi product được released ra market. Nó không yêu cầu developers như ở những bước testing trước, mà là những volunteers mà dùng product một thời gian và chỉ ra những điểm hạn chế của sản phẩm.\n",
    "\n",
    "Đến đây thì ta đã tới đỉnh của testing pyramid, tuy nhiên vẫn có một vài loại tests mà ta cần đề cập tới: smoke and regression.\n",
    "\n",
    "### Smoke and regression\n",
    "\n",
    "**Smoke testing** là một testing technique được inspired bởi hardware testing, đó là \"kiểm tra khói từ những bộ phận hardware khi mà những phần đó được bật điện lên\". Smoke testing là một set nhỏ để phát hiện những lỗi obvious. Nó được executed để verify những phần chức năng thiết yếu perform như kì vọng và toàn bộ hệ thống stable. Cho nên nếu program không pass được test này thì không cần thiết phải thực hiện những test sâu hơn.\n",
    "\n",
    "**Regression testing** thường được thự thi sau một smoke test và một vài phần code đã được thay đổi để fix. Mục tiêu là những thay đổi này không ảnh hưởng tiêu cực đến những chức năng/ functionality set đã có trước. Regression test cases có thể được tạo từ functional requirements hay specifications, user manual, và được thực thi bất kể cái gì mà developers đã fixed.\n",
    "\n",
    "Hai loại test này có thể được áp dụng ở bất kì level nào bởi vì developers có thể thay đổi ở bất kì level nào. Điều này nghĩa là mỗi lần developers thay đổi cái gì, ta cần phải kiểm tra lại hệ thống có ổn định và mọi thức có hoạt động đúng không."
   ],
   "metadata": {
    "collapsed": false,
    "pycharm": {
     "name": "#%% md\n"
    }
   }
  },
  {
   "cell_type": "markdown",
   "source": [
    "### Unit Testing For Details, Unit Testing in Python\n",
    "\n",
    "**Unit testing** được thực thi phần lớn bởi chính developers, và cũng được coi là một phương pháp test phổ biến nhất. Nó kiểm tra behaviour của từng unit of application (unit là 1 phần code mà làm đúng 1 công việc và cũng là phần nhỏ nhất có thể test trong application).\n",
    "\n",
    "Unit test thường được thực hiện bởi chính author của phần code đó để chứng minh/ xác nhận rằng phần code đó hoạt động đúng. Trong OOP, unit có thể là một class hoặc 1 function; trong procedural programming, unit có thể là một function hoặc một procedure.\n",
    "\n",
    "#### Steps to test a unit\n",
    "\n",
    "Again, ý tưởng của unit test là isolate một specific unit và kiểm tra nó có work properly không.\n",
    "\n",
    "Nhìn chung, một unit sẽ behave: consume input data, perform actions on it and produce output data. Quy trình test sẽ qua các bước sau:\n",
    "- Tạo 2 datasets: input và expected output\n",
    "- Định nghĩa những acceptance criteria: some conditions xác định nếu unit work as expected (mà thường là so sánh giữa output thật và output dự kiến)\n",
    "- Pass dataset của input vào trong tested unit\n",
    "- The input gọi đến phần code của tested unit\n",
    "- Code tạo ra output\n",
    "- Output tạo ra sẽ được checked bởi acceptance criteria\n",
    "- Acceptance criteria trả về kết quả: pass hoặc fail."
   ],
   "metadata": {
    "collapsed": false
   }
  },
  {
   "cell_type": "markdown",
   "source": [
    "from IPython.core.display import display, HTML\n",
    "display(HTML(open('./img/unit-test.svg').read()))"
   ],
   "metadata": {
    "collapsed": false,
    "pycharm": {
     "name": "#%% md\n"
    }
   }
  },
  {
   "cell_type": "markdown",
   "source": [
    "*Trong unit test, ta không thực sự biết về việc unit sẽ làm gì với input argument, nhưng ta biết chính xác những results kỳ vọng cho từng set của input arguments.*"
   ],
   "metadata": {
    "collapsed": false,
    "pycharm": {
     "name": "#%% md\n"
    }
   }
  },
  {
   "cell_type": "markdown",
   "source": [
    "#### Manual vs Automated testing\n",
    "\n",
    "Những bước này có thể được thực hiện thủ công hoặc tự động. Nhưng thực tế cho thấy rất ai mong muốn manual unit testing. Lý do là testing thật sự là một quá trình lặp lại: mỗi lần bạn thay đổi nhỏ trong code, bạn cần phải re-test nó. Ngoài ra, unit test có thể dễ dàng tự động, cho nên đơn giản là không có lý do gì phải làm unit testing thủ công.\n",
    "\n",
    "Automated test cases có thể reusable. Giả sử bạn thêm một feature vào program; bạn có thể execute những test case đang có mỗi khi new feature ảnh hưởng đến application.\n",
    "\n",
    "#### Benefits\n",
    "\n",
    "Lợi ích đầu tiên, unit testing giúp developer **find bugs** ở thởi điểm **early-stages** của development - khác với các testing khác, unit test được thực hiện ở quá trình development process. Càng sớm tìm được lỗi, càng ít tốn công fix lỗi, càng tiết kiệm tiền và thời gian\n",
    "\n",
    "Lợi ích thứ hai, unit testing bảo vệ code bạn khỏi việc further **incorrect changes**. Như là việc cánh bướm đập có thể gây ra bão vậy, ngay cả những thay đổi nhỏ nhất có thể dẫn đến việc ảnh hưởng nghiêm trọng đến behaviour của một chương trình. Trong trường hợp đó, unit testing là một phần của regression testing, khi mà ta re-run tests to đảm bảo rằng code vẫn hoạt động như mong đợi sau khi đã được thay đổi.\n",
    "\n",
    "Cuối cùng, unit testing giúp **integration process** trở nên dễ dàng hơn. Tính chính xác của chương trình phụ thuộc vào từng unit và interaction giữa chúng. Bởi vì tính đúng đắn của từng unit lẻ tẻ được xác nhận bởi unit tests, nên developer có thể tập trung build những interaction giữa chúng.\n",
    "\n",
    "#### Example: add two numbers"
   ],
   "metadata": {
    "collapsed": false,
    "pycharm": {
     "name": "#%% md\n"
    }
   }
  },
  {
   "cell_type": "code",
   "execution_count": null,
   "outputs": [],
   "source": [
    "x = 2\n",
    "y = 2\n",
    "expected = 4\n",
    "\n",
    "output = add(x, y)\n",
    "\n",
    "if expected == output:\n",
    "    print('Passed')\n",
    "else:\n",
    "    print('Failed')"
   ],
   "metadata": {
    "collapsed": false,
    "pycharm": {
     "name": "#%%\n"
    }
   }
  },
  {
   "cell_type": "markdown",
   "source": [
    "Ví dụ đơn giản ở trên, giả sử ta viết một ứng dụng calculator với 4 basic function: add, substract, multiply, divide. Ứng dụng có thể được chia làm 4 unit tướng ứng và ở trên là cách ví dụ khi ta áp dụng unit testing vào unit: add. Phần psuedocode trên bao gồm 3 phần: phần intialize data (tạo input dataset, expected output); phần invoke test subject: hàm add; và so sánh kết quả với expected result.\n",
    "\n",
    "Có thể thấy unit testing không phụ thuộc vào implementation của unit. Không cần thiết phái \"look under the hood\" nếu như unit test của chúng ta không fail."
   ],
   "metadata": {
    "collapsed": false,
    "pycharm": {
     "name": "#%% md\n"
    }
   }
  },
  {
   "cell_type": "markdown",
   "source": [
    "### Module `unittest` for unit testing in Python\n",
    "\n",
    "Python cung cấp rất nhiều instruments để test automatically. `unittest` là test framework phổ biến nhất của Python (một số framework khác: nose, pytest, doctest).\n",
    "\n",
    "`unittest` là module từ standard library với nhiều tools để viết test. Ví dụ như sau:"
   ],
   "metadata": {
    "collapsed": false,
    "pycharm": {
     "name": "#%% md\n"
    }
   }
  },
  {
   "cell_type": "code",
   "execution_count": 2,
   "outputs": [],
   "source": [
    "# this code is in the calculator.py file\n",
    "\n",
    "def add(a, b):\n",
    "    \"\"\" Addition \"\"\"\n",
    "    return a + b\n",
    "\n",
    "\n",
    "def multiply(a, b):\n",
    "    \"\"\" Multiplication \"\"\"\n",
    "    return a * b\n",
    "\n",
    "\n",
    "def subtract(a, b):\n",
    "    \"\"\" Subtraction \"\"\"\n",
    "    return a - b\n",
    "\n",
    "\n",
    "def divide(x, y):\n",
    "    \"\"\" Division \"\"\"\n",
    "    if y == 0:\n",
    "        raise ValueError('Can not divide by zero!')\n",
    "    return x / y"
   ],
   "metadata": {
    "collapsed": false,
    "pycharm": {
     "name": "#%%\n"
    }
   }
  },
  {
   "cell_type": "markdown",
   "source": [
    "Vẫn là application cũ Calculator với 4 unit cơ bản. Bây giờ ta sẽ viết unit test cho các unit này. Tốt hơn là lưu test file trong một file riêng `test_calculator.py`, trong đó import thư viện `unittest` và module được test `calculator` (lưu chung directory)."
   ],
   "metadata": {
    "collapsed": false,
    "pycharm": {
     "name": "#%% md\n"
    }
   }
  },
  {
   "cell_type": "code",
   "execution_count": 3,
   "outputs": [],
   "source": [
    "import unittest\n",
    "import calculator"
   ],
   "metadata": {
    "collapsed": false,
    "pycharm": {
     "name": "#%%\n"
    }
   }
  },
  {
   "cell_type": "markdown",
   "source": [
    "#### Time to test\n",
    "\n",
    "Bây giờ sẵn sàng để test chương trình, ta cần viết một hoặc vài test cases. Một **test case** là một basic unit of testing, nó kiểm tra tested unit có produce ra right output với input. Ta tạo test case bằng subclassing the general `unittest.TestCase` class:"
   ],
   "metadata": {
    "collapsed": false,
    "pycharm": {
     "name": "#%% md\n"
    }
   }
  },
  {
   "cell_type": "code",
   "execution_count": null,
   "outputs": [],
   "source": [
    "class TestCalculator(unittest.TestCase):"
   ],
   "metadata": {
    "collapsed": false,
    "pycharm": {
     "name": "#%%\n"
    }
   }
  },
  {
   "cell_type": "markdown",
   "source": [
    "Ở trường hợp này, test unit là nguyên file `calculator.py` module, nhưng ta hoàn toàn có thể viết test case cho từng function/ method.\n"
   ],
   "metadata": {
    "collapsed": false,
    "pycharm": {
     "name": "#%% md\n"
    }
   }
  },
  {
   "cell_type": "markdown",
   "source": [
    "Mọi test sẽ được defined như một methods bên trong class."
   ],
   "metadata": {
    "collapsed": false,
    "pycharm": {
     "name": "#%% md\n"
    }
   }
  },
  {
   "cell_type": "code",
   "execution_count": null,
   "outputs": [],
   "source": [
    "class TestCalculator(unittest.TestCase):\n",
    "\n",
    "    def test_add(self):\n",
    "        self.assertEqual(calculator.add(6, 4), 10)\n",
    "        self.assertEqual(calculator.add(6, -4), 2)\n",
    "        self.assertEqual(calculator.add(-6, 4), -2)\n",
    "        self.assertEqual(calculator.add(-6, -4), -10)"
   ],
   "metadata": {
    "collapsed": false,
    "pycharm": {
     "name": "#%%\n"
    }
   }
  },
  {
   "cell_type": "markdown",
   "source": [
    "*Tên của test methods **MUST** bắt đầu bằng test. Nếu không thì nó sẽ không work properly.*"
   ],
   "metadata": {
    "collapsed": false,
    "pycharm": {
     "name": "#%% md\n"
    }
   }
  },
  {
   "cell_type": "markdown",
   "source": [
    "Trường hợp này, ta sử dụng `assertEqual()` method từ `unittest.TestCase` class; nó sẽ check 2 giá trị bằng nhau, nếu không thì ta sẽ nhận được `AssertionError` và test sẽ marked là failed.\n",
    "\n",
    "Ở mỗi test ta phải check một vài cases, và đảm bảo các cases cover đủ những giới hạn có thể có. Ở code phía trên là cộng 2 số dương, số âm số dương, 2 số âm.\n",
    "\n",
    "Các test còn lại áp dụng tương tự.\n",
    "\n",
    "#### Assert methods\n",
    "\n",
    "Lớp `unittest.TestCase` cung cấp assert methods mà được dùng cho việc testing. Ví dụ ở trên ta đã dùng `assertEqual`, mọi hàm assert đều nhận message argument khi mà test fails:"
   ],
   "metadata": {
    "collapsed": false,
    "pycharm": {
     "name": "#%% md\n"
    }
   }
  },
  {
   "cell_type": "code",
   "execution_count": null,
   "outputs": [],
   "source": [
    "class TestCalculator(unittest.TestCase):  # a test case for the calculator.py module\n",
    "\n",
    "    def test_add(self):\n",
    "        # tests for the add() function\n",
    "        self.assertEqual(calculator.add(6, 4), 10, 'Error when adding two positive numbers')"
   ],
   "metadata": {
    "collapsed": false,
    "pycharm": {
     "name": "#%%\n"
    }
   }
  },
  {
   "cell_type": "markdown",
   "source": [
    "Riêng với trường hợp của method divide, ngoài dùng `assertEqual`, ta còn có thể dùng hàm `assertRaises()` để làm việc này và còn raise exception giúp ta khi hàm divide chia cho 0. Cách dùng dưới đây:b"
   ],
   "metadata": {
    "collapsed": false,
    "pycharm": {
     "name": "#%% md\n"
    }
   }
  },
  {
   "cell_type": "markdown",
   "source": [
    "Cách dùng 1: pass argument vào hàm này"
   ],
   "metadata": {
    "collapsed": false,
    "pycharm": {
     "name": "#%% md\n"
    }
   }
  },
  {
   "cell_type": "code",
   "execution_count": null,
   "outputs": [],
   "source": [
    "class TestCalculator(unittest.TestCase):  # a test case for the calculator.py module\n",
    "\n",
    "    def test_divide(self):\n",
    "        # tests for the divide() function\n",
    "        # ...\n",
    "        self.assertRaises(ValueError, calculator.divide, 5, 0)"
   ],
   "metadata": {
    "collapsed": false,
    "pycharm": {
     "name": "#%%\n"
    }
   }
  },
  {
   "cell_type": "markdown",
   "source": [
    "Cách dùng 2: Dùng context manager"
   ],
   "metadata": {
    "collapsed": false,
    "pycharm": {
     "name": "#%% md\n"
    }
   }
  },
  {
   "cell_type": "code",
   "execution_count": null,
   "outputs": [],
   "source": [
    "class TestCalculator(unittest.TestCase):  # a test case for the calculator.py module\n",
    "\n",
    "    def test_divide(self):\n",
    "        # tests for the divide() function\n",
    "        # ...\n",
    "        with self.assertRaises(ValueError):\n",
    "            calculator.divide(5, 0)"
   ],
   "metadata": {
    "collapsed": false,
    "pycharm": {
     "name": "#%%\n"
    }
   }
  },
  {
   "cell_type": "markdown",
   "source": [
    "Những assert còn lại đều tương tự với `assertEqual` nên ta sẽ không thảo luận nhiều ở đây, dưới đây là bảng một số assert methods được sử dụng rộng rãi:"
   ],
   "metadata": {
    "collapsed": false,
    "pycharm": {
     "name": "#%% md\n"
    }
   }
  },
  {
   "cell_type": "markdown",
   "source": [
    "|**Method**|**What it checks**|\n",
    "|---|---|\n",
    "|`assertEqual(a, b)`| a == b|\n",
    "|`assertNotEqual(a, b)`| a != b|\n",
    "| `assertTrue(x)`| bool(x) is True|\n",
    "|`assertIsFalse(x)`|bool(x) is False|\n",
    "|`assertIsNone(x)`| x is None|\n",
    "|`assertIsNotNone(x)`| x is not None|\n",
    "|`assertGreater(a, b)`| a > b|\n",
    "|`assertLess(a, b)`| a < b|\n",
    "|`assertIsInstance(a, b)`| isinstance(a, b)|\n",
    "|`assertRaises(exception, function, arguments)`|The function raises the exception when given the arguments|"
   ],
   "metadata": {
    "collapsed": false,
    "pycharm": {
     "name": "#%% md\n"
    }
   }
  },
  {
   "cell_type": "markdown",
   "source": [
    "#### Running tests\n",
    "\n",
    "Khi mà test đã sẵn sàng, nếu ta chạy file `test_calculator.py` thì ta sẽ không thấy kết quả test. Thay vào đó ta phải chạy như sau:\n",
    "```\n",
    "python -m unittest test_calculator\n",
    "```\n",
    "hoặc ngắn hơn\n",
    "```\n",
    "python -m unittest\n",
    "```\n",
    "\n",
    "Nếu ta không chỉ rõ là file nào thì file python nào bắt đầu bằng chữ \"test\" sẽ được chạy.\n",
    "\n",
    "Ngoài ra ta cón có thể chạy test từ editor với dòng này ở cuối file:"
   ],
   "metadata": {
    "collapsed": false,
    "pycharm": {
     "name": "#%% md\n"
    }
   }
  },
  {
   "cell_type": "code",
   "execution_count": null,
   "outputs": [],
   "source": [
    "if __name__ == '__main__':\n",
    "    unittest.main()"
   ],
   "metadata": {
    "collapsed": false,
    "pycharm": {
     "name": "#%%\n"
    }
   }
  },
  {
   "cell_type": "markdown",
   "source": [
    "Chi tiết hơn, nếu bạn để file `calculator.py` ở thư mục khác, ta có thể specify nó bằng absolute path đến đó:\n",
    "\n",
    "```\n",
    "python -m unittest test_calculator /home/huan/calculator/calculator.py\n",
    "```\n",
    "\n",
    "hoặc nếu có nhiều class TestCase trong file `test_calculator` thì ta muốn chỉ rõ thực thi test case nào bằng:\n",
    "\n",
    "```\n",
    "python -m unittest test_calculator.TestCalculator\n",
    "```\n",
    "\n",
    "Một số argument khác có thể kể đến như `-v` (verbosity) để hiện chi tiết mỗi test, `-f` để force test stop khi có fail, `-h` (help) để tìm hiểu thêm về command.\n"
   ],
   "metadata": {
    "collapsed": false,
    "pycharm": {
     "name": "#%% md\n"
    }
   }
  },
  {
   "cell_type": "markdown",
   "source": [
    "#### Test outcomes\n",
    "\n",
    "Khi chạy test nếu thành công thì sẽ hiện 'OK' (tất cả các cases đều passed)\n",
    "\n",
    "```\n",
    "....\n",
    "----------------------------------------------------------------------\n",
    "Ran 4 tests in 0.001s\n",
    "\n",
    "OK\n",
    "```\n",
    "\n",
    "Bây giờ nếu thay đổi code để test chạy sai thì sẽ in ra như sau:\n",
    "```\n",
    "F...\n",
    "======================================================================\n",
    "FAIL: test_add (__main__.TestCalculator)\n",
    "----------------------------------------------------------------------\n",
    "Traceback (most recent call last):\n",
    "  File \"C:\\Users\\...\\test_calculator.py\", line 11, in test_add\n",
    "    self.assertEqual(calculator.add(6, 4), 10, 'Error when adding two positive numbers')\n",
    "AssertionError: 2 != 10 : Error when adding two positive numbers\n",
    "\n",
    "----------------------------------------------------------------------\n",
    "Ran 4 tests in 0.003s\n",
    "\n",
    "FAILED (failures=1)\n",
    "```\n",
    "\n",
    "Đọc có thể hiểu:\n",
    "- 4 test chạy, 3 test pass, 1 test fail (F... tượng trưng cho Fail-pass-pass-pass). Lưu ý là tests được thực thi alphabetically cho nên thứ tự của chấm với F không hề tương ứng với thứ tự của test trong code.\n",
    "- Ngoài ra còn có thể có E (ứng với Error) nếu như test raise exception ngoài `AssertionError`.\n",
    "- Traceback được in ra"
   ],
   "metadata": {
    "collapsed": false,
    "pycharm": {
     "name": "#%% md\n"
    }
   }
  },
  {
   "cell_type": "markdown",
   "source": [
    "### Uniitest In More Details\n",
    "\n",
    "Một vài developers viết test cho ứng dụng trước khi viết code, người ta còn gọi đó là **test-driven development (TDD)**.\n",
    "\n",
    "#### setUp and tearDown methods\n",
    "\n",
    "Đôi khi ta cần tạo class instances, file tạm, hoặc truy cập web khi test. Những resource này gọi là **fixture**. Giả sử bạn cần viết một vài test từ một class test giống nhau, bạn cần tạo instance của class đó cho mỗi test thủ công, điều rất tốn thời gian và lặp. Cơ chế `setUp()` và `teadDown()` của `unittest.TestCase` giúp việc configure và clean up fixture dễ hơn nhiều.\n",
    "\n",
    "Code bên trong `setUp()` và `tearDown()` lần lượt là code được thực thi *trước* mỗi test method và *sau* test method.\n",
    "\n",
    "Xem ví dụ sau: với class Calculator và TestCalculator"
   ],
   "metadata": {
    "collapsed": false,
    "pycharm": {
     "name": "#%% md\n"
    }
   }
  },
  {
   "cell_type": "code",
   "execution_count": null,
   "outputs": [],
   "source": [
    "# this code is in the calculator.py file\n",
    "\n",
    "class Calculator:\n",
    "\n",
    "    def __init__(self, first, second):\n",
    "        self.first = first\n",
    "        self.second = second\n",
    "\n",
    "    def add(self):\n",
    "        \"\"\" Addition \"\"\"\n",
    "        return self.first + self.second\n",
    "\n",
    "    def subtract(self):\n",
    "        \"\"\" Subtraction \"\"\"\n",
    "        return self.first - self.second"
   ],
   "metadata": {
    "collapsed": false,
    "pycharm": {
     "name": "#%%\n"
    }
   }
  },
  {
   "cell_type": "markdown",
   "source": [
    "Bây giờ tới lượt viết TestCalculator với `tearDown()` và `setUp()`. Hiện tại thì ta sẽ initialize một Calculator instance trong method `setUp()`, còn `tearDown()` thì để trông vì hiện tại không cần làm gì. Sau đó ta sẽ viết các hàm test như `test_add` và `test_substract`"
   ],
   "metadata": {
    "collapsed": false,
    "pycharm": {
     "name": "#%% md\n"
    }
   }
  },
  {
   "cell_type": "code",
   "execution_count": null,
   "outputs": [],
   "source": [
    "\n",
    "import unittest\n",
    "import calculator\n",
    "\n",
    "\n",
    "class TestCalculator(unittest.TestCase):\n",
    "\n",
    "    def setUp(self):\n",
    "        self.calc = calculator.Calculator(5, 1)\n",
    "        print('setUp method')\n",
    "\n",
    "    def tearDown(self):\n",
    "        print('tearDown method')\n",
    "\n",
    "    def test_add(self):\n",
    "        self.assertEqual(self.calc.add(), 6)\n",
    "        self.calc.first = 8\n",
    "        self.calc.second = 2\n",
    "        self.assertEqual(self.calc.add(), 10)\n",
    "        print('test_add method')\n",
    "\n",
    "    def test_subtract(self):\n",
    "        self.assertEqual(self.calc.subtract(), 4)\n",
    "        self.calc.first = 8\n",
    "        self.calc.second = 2\n",
    "        self.assertEqual(self.calc.subtract(), 6)\n",
    "        print('test_subtract method')"
   ],
   "metadata": {
    "collapsed": false,
    "pycharm": {
     "name": "#%%\n"
    }
   }
  },
  {
   "cell_type": "markdown",
   "source": [
    "Khi chạy test, ta sẽ thấy được thứ tự thực thi các method bằng lệnh print, nếu mọi thứ OK thì ta sẽ thấy như thế này:\n",
    "```\n",
    "setUp method\n",
    "test_add method\n",
    "tearDown method\n",
    ".setUp method\n",
    "test_subtract method\n",
    "tearDown method\n",
    ".\n",
    "----------------------------------------------------------------------\n",
    "Ran 2 tests in 0.003s\n",
    "\n",
    "OK\n",
    "```\n",
    "\n",
    "Ta cũng có thể để ý vì `setUp()` chạy trước mỗi test method cho nên dù ta có sửa `self.calc.first` hay `self.calc.second` thì sau đó khi gọi tiếp `test_substract` vẫn không đổi giá trị ban đầu khởi tạo bên trong setUp(). `tearDown()` dù trong TH này chỉ in ra để biết là có thực thi nhưng thực chất không làm gì nhiều, nhưng ở một số TH test với file ngoài hoặc truy cập web thì ta có thể tận dụng để clean up ở `tearDown()`.\n",
    "\n",
    "Một số class và module fixture khác có thể tham khảo ở [document](https://docs.python.org/3/library/unittest.html#class-and-module-fixtures) của `unittest`."
   ],
   "metadata": {
    "collapsed": false,
    "pycharm": {
     "name": "#%% md\n"
    }
   }
  }
 ],
 "metadata": {
  "kernelspec": {
   "display_name": "Python 3",
   "language": "python",
   "name": "python3"
  },
  "language_info": {
   "codemirror_mode": {
    "name": "ipython",
    "version": 2
   },
   "file_extension": ".py",
   "mimetype": "text/x-python",
   "name": "python",
   "nbconvert_exporter": "python",
   "pygments_lexer": "ipython2",
   "version": "2.7.6"
  }
 },
 "nbformat": 4,
 "nbformat_minor": 0
}