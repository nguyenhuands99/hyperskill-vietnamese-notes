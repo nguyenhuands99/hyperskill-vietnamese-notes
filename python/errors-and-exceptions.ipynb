{
 "cells": [
  {
   "cell_type": "markdown",
   "id": "06f922f8-2fea-4e9d-8128-4f545ede0911",
   "metadata": {},
   "source": [
    "# ERRORS AND EXCEPTIONS"
   ]
  },
  {
   "cell_type": "markdown",
   "id": "4787930c-0558-45fe-9f1a-6042111ee5e2",
   "metadata": {},
   "source": [
    "## Errors\n",
    "\n",
    "Lỗi là điều không thể tránh khỏi trong quá trình lập trình. Với Python, khi bạn muốn chạy chương trình đơn giản như `Hello, world!` cũng có thể có errors:"
   ]
  },
  {
   "cell_type": "code",
   "execution_count": 2,
   "id": "2490a2b3-afd0-4287-9b3c-7b3ac78093e2",
   "metadata": {},
   "outputs": [
    {
     "ename": "SyntaxError",
     "evalue": "unexpected EOF while parsing (3911780018.py, line 1)",
     "output_type": "error",
     "traceback": [
      "\u001b[0;36m  File \u001b[0;32m\"/tmp/ipykernel_16153/3911780018.py\"\u001b[0;36m, line \u001b[0;32m1\u001b[0m\n\u001b[0;31m    print(\"Hello, world\"\u001b[0m\n\u001b[0m                        ^\u001b[0m\n\u001b[0;31mSyntaxError\u001b[0m\u001b[0;31m:\u001b[0m unexpected EOF while parsing\n"
     ]
    }
   ],
   "source": [
    "print(\"Hello, world\""
   ]
  },
  {
   "cell_type": "markdown",
   "id": "a01e4497-c697-448f-a9bb-039797d94392",
   "metadata": {},
   "source": [
    "**Traceback** là một stack trace mà mỗi khi code bạn gây ra error, nó sẽ report lại thông tin chi tiết về error cụ thể đó, chỉ ra **file cụ thể** mà error đó xuất hiện. Nhìn vào đây thì thấy nó chỉ rõ chỗ mistake trong code của bạn.\n",
    "\n",
    "Trông thì có vẻ phiền phức nhưng nói chung thì error thực chất thiết kế để Python có thể giao tiếp với bạn. Cho nên, mỗi khi thấy error, don't panic! Điều ta cần làm là đọc kỹ xem nó nói gì.\n",
    "\n",
    "### Syntax errors\n",
    "\n",
    "Trong ví dụ ở trên, chúng ta có thể thấy magic word ở đây đó là `SyntaxError`, thứ mà có thể \"ám\" chúng ta trong suốt quá trình làm quen với Python. Một lượng lớn các loại errors được coi như là syntax errors. Điều đó có nghĩa là Python đang gặp vấn đề khi **compile** chương trình và thậm chí nó còn không thể thực thi.\n",
    "\n",
    "Nếu bạn đọc kỹ traceback, bạn có thể tìm được error và sửa nó dễ dàng, **mũi tên** chỉ vào đúng chỗ Python thấy lỗi trong code của bạn. Mỗi syntax error đều có một **associated value**. Trong ví dụ, \"EOF\" trong message \"SyntaxError: unexpected EOF while parsing\" có nghĩa là End Of File. Điều này có nghĩa là có gì đó đáng lẽ phải có sau statement, mà bạn lại không pass no cho interpreter, ở đây chính là `)`.\n",
    "\n",
    "Đôi khi lỗi không hề rõ ràng như vậy. Sẽ có trường hợp bạn chỉ nhận được kiểu như \"invalid syntax\" không thực sự giúp được gì nhiều. Nhưng dù sao thì locate được problem của khá đủ để biết lỗi syntax chỗ nào.\n",
    "\n",
    "## Common errors for beginners\n",
    "\n",
    "- **wrong spelling** các keywords và function names\n",
    "- sai số lượng **parentheses** trong lúc gọi hàm\n",
    "- **indents** cũng là một vấn đề thường gặp, do đó hãy dùng space và tab cẩn thận\n",
    "- **quotes**. Đừng quên đóng string với quotes cùng loại\n",
    "\n",
    "IDE thường sẽ check những thứ này cho bạn và highlight chúng ngay lập tức để bạn kịp thời sửa chữa. Vì khi Python gặp **first** syntax error, nó sẽ ngừng ngay lập tức."
   ]
  },
  {
   "cell_type": "markdown",
   "id": "9eea0cca-05a3-48ce-a938-ff74fa90be25",
   "metadata": {},
   "source": [
    "## Exceptions\n",
    "\n",
    "Bây giờ có thể coi là code của chúng ta đã đúng cú pháp, và nó sẽ được thực thi mà không có vấn đề gì. Wait! Rõ ràng là không đơn giản như vậy. Với trường hợp dưới đây, chương trình chỉ thực thi một phần.\n",
    "\n",
    "Có một vài loại errors trong code sẽ không thực sự ngăn chương trình thực thi. Chương trình chỉ thực sự crash khi đang thực thi \"broken line\": một dòng với một error gọi là một **exception**. Hay nói cách khác, exception là error phát hiện khi chương trình đang **execute** (interpretation), trong khi syntax error được phát khi compile chương trìng sang byte-code.\n"
   ]
  },
  {
   "cell_type": "code",
   "execution_count": 5,
   "id": "d78b3794-6909-481a-8906-85947504a6ee",
   "metadata": {},
   "outputs": [
    {
     "name": "stdout",
     "output_type": "stream",
     "text": [
      "I will be the first\n",
      "And I will be the second\n",
      "Here comes an error!..\n"
     ]
    },
    {
     "ename": "ZeroDivisionError",
     "evalue": "division by zero",
     "output_type": "error",
     "traceback": [
      "\u001b[0;31m---------------------------------------------------------------------------\u001b[0m",
      "\u001b[0;31mZeroDivisionError\u001b[0m                         Traceback (most recent call last)",
      "\u001b[0;32m/tmp/ipykernel_16153/3589828815.py\u001b[0m in \u001b[0;36m<module>\u001b[0;34m\u001b[0m\n\u001b[1;32m      4\u001b[0m \u001b[0mb\u001b[0m \u001b[0;34m=\u001b[0m \u001b[0;36m5\u001b[0m\u001b[0;34m\u001b[0m\u001b[0;34m\u001b[0m\u001b[0m\n\u001b[1;32m      5\u001b[0m \u001b[0mprint\u001b[0m\u001b[0;34m(\u001b[0m\u001b[0;34m\"Here comes an error!..\"\u001b[0m\u001b[0;34m)\u001b[0m\u001b[0;34m\u001b[0m\u001b[0;34m\u001b[0m\u001b[0m\n\u001b[0;32m----> 6\u001b[0;31m \u001b[0mprint\u001b[0m\u001b[0;34m(\u001b[0m\u001b[0mb\u001b[0m \u001b[0;34m/\u001b[0m \u001b[0ma\u001b[0m\u001b[0;34m)\u001b[0m\u001b[0;34m\u001b[0m\u001b[0;34m\u001b[0m\u001b[0m\n\u001b[0m\u001b[1;32m      7\u001b[0m \u001b[0mprint\u001b[0m\u001b[0;34m(\u001b[0m\u001b[0;34m\"I won't be printed\"\u001b[0m\u001b[0;34m)\u001b[0m\u001b[0;34m\u001b[0m\u001b[0;34m\u001b[0m\u001b[0m\n",
      "\u001b[0;31mZeroDivisionError\u001b[0m: division by zero"
     ]
    }
   ],
   "source": [
    "print(\"I will be the first\")\n",
    "print(\"And I will be the second\")\n",
    "a = 0\n",
    "b = 5\n",
    "print(\"Here comes an error!..\")\n",
    "print(b / a)\n",
    "print(\"I won't be printed\")"
   ]
  },
  {
   "cell_type": "markdown",
   "id": "39e9107e-0458-4d92-a0be-c0a27683ba02",
   "metadata": {},
   "source": [
    "Ta có thể nhìn thấy dòng cuối không hề được print ra, cũng như dòng `print(b / a)` nơi mà chứa error. Tức là tất cả các dòng **trước** exception được thực thi bình thường, còn tất cả những gì **sau** exception thì không.\n",
    "\n",
    "Trong trường hợp này, ta thấy **ZeroDivisionError** nghĩa là \"không chia được cho 0\". Và cũng giống như errors, gần như tất cả các built-in Python exceptions đều có **associated values** chỉ rõ chi tiết thứ gây ra error. Exceptions không phải là không thể \"đỡ được\", ta sẽ xem cách \"đỡ\" exception ở phần sau.\n",
    "\n",
    "### Most common exceptions for learners\n",
    "\n",
    "Có lẽ những exceptions thường gặp với người học Python đó là `NameError`, `TypeError`, `ValueError`.\n",
    "\n",
    "`NameError` thường raised khi mà bạn chưa define một biến trước khi sử dụng nó hoặc bạn đã làm điều đó không đúng cách. Ví dụ như:"
   ]
  },
  {
   "cell_type": "code",
   "execution_count": 9,
   "id": "ab95e290-40e8-4817-ae00-7c29941fea0e",
   "metadata": {},
   "outputs": [
    {
     "ename": "NameError",
     "evalue": "name 'x' is not defined",
     "output_type": "error",
     "traceback": [
      "\u001b[0;31m---------------------------------------------------------------------------\u001b[0m",
      "\u001b[0;31mNameError\u001b[0m                                 Traceback (most recent call last)",
      "\u001b[0;32m/tmp/ipykernel_16153/4214068176.py\u001b[0m in \u001b[0;36m<module>\u001b[0;34m\u001b[0m\n\u001b[0;32m----> 1\u001b[0;31m \u001b[0mprint\u001b[0m\u001b[0;34m(\u001b[0m\u001b[0mx\u001b[0m \u001b[0;34m+\u001b[0m \u001b[0my\u001b[0m\u001b[0;34m)\u001b[0m\u001b[0;34m\u001b[0m\u001b[0;34m\u001b[0m\u001b[0m\n\u001b[0m\u001b[1;32m      2\u001b[0m \u001b[0mx\u001b[0m \u001b[0;34m=\u001b[0m \u001b[0;36m0\u001b[0m\u001b[0;34m\u001b[0m\u001b[0;34m\u001b[0m\u001b[0m\n\u001b[1;32m      3\u001b[0m \u001b[0my\u001b[0m \u001b[0;34m=\u001b[0m \u001b[0;36m5\u001b[0m\u001b[0;34m\u001b[0m\u001b[0;34m\u001b[0m\u001b[0m\n",
      "\u001b[0;31mNameError\u001b[0m: name 'x' is not defined"
     ]
    }
   ],
   "source": [
    "print(x + y)\n",
    "x = 0\n",
    "y = 5"
   ]
  },
  {
   "cell_type": "markdown",
   "id": "e5050936-2281-4551-aba3-fcfeb3d7e955",
   "metadata": {},
   "source": [
    "`TypeError` xuất hiện khi một operation/ function được áp dụng cho một object với **inapproriate type**. Associated value sẽ là một string đưa chi tiết về loại mà bạn đã mismatch. Ví dụ như:"
   ]
  },
  {
   "cell_type": "code",
   "execution_count": 7,
   "id": "2dbf68a6-a5ed-41cd-b993-846370ff58f0",
   "metadata": {},
   "outputs": [
    {
     "ename": "TypeError",
     "evalue": "can only concatenate str (not \"int\") to str",
     "output_type": "error",
     "traceback": [
      "\u001b[0;31m---------------------------------------------------------------------------\u001b[0m",
      "\u001b[0;31mTypeError\u001b[0m                                 Traceback (most recent call last)",
      "\u001b[0;32m/tmp/ipykernel_16153/2446357686.py\u001b[0m in \u001b[0;36m<module>\u001b[0;34m\u001b[0m\n\u001b[0;32m----> 1\u001b[0;31m \u001b[0mprint\u001b[0m\u001b[0;34m(\u001b[0m\u001b[0;34m\"15\"\u001b[0m \u001b[0;34m+\u001b[0m \u001b[0;36m2\u001b[0m\u001b[0;34m)\u001b[0m\u001b[0;34m\u001b[0m\u001b[0;34m\u001b[0m\u001b[0m\n\u001b[0m",
      "\u001b[0;31mTypeError\u001b[0m: can only concatenate str (not \"int\") to str"
     ]
    }
   ],
   "source": [
    "print(\"15\" + 2)\n"
   ]
  },
  {
   "cell_type": "markdown",
   "id": "d0a49487-9441-49cc-af1f-cd6548579020",
   "metadata": {},
   "source": [
    "`ValueError`  có thể được raised khi mà bạn sử dụng biến đã đúng type rồi, nhưng với **inproriate value**. Ví dụ như bạn muốn convert int từ một string số, hàm `int()` sẽ làm điều đó, nhưng vấn đề ở đây là string bạn pass vào có value không hợp lệ:"
   ]
  },
  {
   "cell_type": "code",
   "execution_count": 6,
   "id": "3fdd5b30-0bc4-489f-b90a-630f2a59af68",
   "metadata": {},
   "outputs": [
    {
     "ename": "ValueError",
     "evalue": "invalid literal for int() with base 10: 'five'",
     "output_type": "error",
     "traceback": [
      "\u001b[0;31m---------------------------------------------------------------------------\u001b[0m",
      "\u001b[0;31mValueError\u001b[0m                                Traceback (most recent call last)",
      "\u001b[0;32m/tmp/ipykernel_16153/3767435332.py\u001b[0m in \u001b[0;36m<module>\u001b[0;34m\u001b[0m\n\u001b[0;32m----> 1\u001b[0;31m \u001b[0mprint\u001b[0m\u001b[0;34m(\u001b[0m\u001b[0mint\u001b[0m\u001b[0;34m(\u001b[0m\u001b[0;34m\"five\"\u001b[0m\u001b[0;34m)\u001b[0m\u001b[0;34m)\u001b[0m\u001b[0;34m\u001b[0m\u001b[0;34m\u001b[0m\u001b[0m\n\u001b[0m",
      "\u001b[0;31mValueError\u001b[0m: invalid literal for int() with base 10: 'five'"
     ]
    }
   ],
   "source": [
    "print(int(\"five\"))"
   ]
  },
  {
   "cell_type": "markdown",
   "id": "81811605-8d75-4a27-82f4-e27d9e6370cb",
   "metadata": {},
   "source": [
    "Nếu mà bạn có vấn đề nào với bất kì loại error nào, bạn có thể copy-paste dòng cuối cùng của traceback vào google để tìm hiểu thêm. "
   ]
  },
  {
   "cell_type": "markdown",
   "id": "efa4d339-61f4-45b3-bc41-1d5bb8838917",
   "metadata": {},
   "source": [
    "## Built-in exceptions\n",
    "\n",
    "### Hierarchy of Exceptions\n",
    "\n",
    "Ta nên biết rằng built-in exception của Python có phân cấp (hierarchy), một vài exception chia nhỏ ra nhiều exception cụ thể hơn:\n"
   ]
  },
  {
   "cell_type": "markdown",
   "id": "c55ce86e-a32b-4e00-9190-c0d0d5ccf5b8",
   "metadata": {},
   "source": [
    "```\n",
    "BaseException\n",
    " +-- SystemExit\n",
    " +-- KeyboardInterrupt\n",
    " +-- GeneratorExit\n",
    " +-- Exception\n",
    "      +-- StopIteration\n",
    "      +-- StopAsyncIteration\n",
    "      +-- ArithmeticError\n",
    "      |    +-- FloatingPointError\n",
    "      |    +-- OverflowError\n",
    "      |    +-- ZeroDivisionError\n",
    "      +-- AssertionError\n",
    "      +-- AttributeError\n",
    "      +-- BufferError\n",
    "      +-- EOFError\n",
    "      +-- ImportError\n",
    "      |    +-- ModuleNotFoundError\n",
    "      +-- LookupError\n",
    "      |    +-- IndexError\n",
    "      |    +-- KeyError\n",
    "      +-- MemoryError\n",
    "      +-- NameError\n",
    "      |    +-- UnboundLocalError\n",
    "      +-- OSError\n",
    "      |    +-- BlockingIOError\n",
    "      |    +-- ChildProcessError\n",
    "      |    +-- ConnectionError\n",
    "      |    |    +-- BrokenPipeError\n",
    "      |    |    +-- ConnectionAbortedError\n",
    "      |    |    +-- ConnectionRefusedError\n",
    "      |    |    +-- ConnectionResetError\n",
    "      |    +-- FileExistsError\n",
    "      |    +-- FileNotFoundError\n",
    "      |    +-- InterruptedError\n",
    "      |    +-- IsADirectoryError\n",
    "      |    +-- NotADirectoryError\n",
    "      |    +-- PermissionError\n",
    "      |    +-- ProcessLookupError\n",
    "      |    +-- TimeoutError\n",
    "      +-- ReferenceError\n",
    "      +-- RuntimeError\n",
    "      |    +-- NotImplementedError\n",
    "      |    +-- RecursionError\n",
    "      +-- SyntaxError\n",
    "      |    +-- IndentationError\n",
    "      |         +-- TabError\n",
    "      +-- SystemError\n",
    "      +-- TypeError\n",
    "      +-- ValueError\n",
    "      |    +-- UnicodeError\n",
    "      |         +-- UnicodeDecodeError\n",
    "      |         +-- UnicodeEncodeError\n",
    "      |         +-- UnicodeTranslateError\n",
    "      +-- Warning\n",
    "           +-- DeprecationWarning\n",
    "           +-- PendingDeprecationWarning\n",
    "           +-- RuntimeWarning\n",
    "           +-- SyntaxWarning\n",
    "           +-- UserWarning\n",
    "           +-- FutureWarning\n",
    "           +-- ImportWarning\n",
    "           +-- UnicodeWarning\n",
    "           +-- BytesWarning\n",
    "           +-- ResourceWarning\n",
    "```      "
   ]
  },
  {
   "cell_type": "markdown",
   "id": "cdedbcba-254e-4fd1-9660-5a24c9342ac5",
   "metadata": {},
   "source": [
    "Don't be afraid, rất khó có thể nhớ được nguyên cái hierarchy này một lần. Bây giờ ta nên tập trung vào feature chính của cấu trúc này.\n",
    "\n",
    "Đầu tiên, nhớ rằng `BaseException` class là một base class cho tất cả các built-in exceptions, có thể coi như là root của tất cả các exceptions. Exception này không bao giờ được raised mà là được kế thừa bởi các exception class khác. Về mặt phân cấp, các class khác được gọi là **subclass** của root class. Ví dụ, `IndexError` class là subclass của `LookupError` class. Và đồng thời `LookupError` class là môt subclass của `Exception` class.\n",
    "\n",
    "`BaseException` class có các subclasses bao gồm `SystemExit`, `KeyboardInterrupt`, `GeneratorExit` và `Exception`. \n",
    "\n",
    "- `SystemExit` được raised khi mà `sys.exit()` fucntion được dùng để terminate chương trình.\n",
    "- `KeyboardInterrupt` được raised khi mà user nhấn Ctrl+C khi đang thực thi chương trình.\n",
    "- `GeneratorExit` xuất hiện khi generator của bạn bị closed (ta sẽ nói đến vấn đề này sau).\n",
    "- Và cái mà thường gặp nhất: `Exception` class. Nó chứa tất cả các exceptions mà được coi là **errors** và **warnings**."
   ]
  },
  {
   "cell_type": "markdown",
   "id": "704a88a2-74ea-4dc0-8dd3-7b8f77dedfa6",
   "metadata": {},
   "source": [
    "### Built-in Exceptions Types\n",
    "\n"
   ]
  },
  {
   "cell_type": "markdown",
   "id": "b985d8e7-9adb-4047-9943-5b4e12210f64",
   "metadata": {},
   "source": [
    "## Handling exceptions"
   ]
  },
  {
   "cell_type": "markdown",
   "id": "62bbac50-3a90-4412-b746-a9e00824d58e",
   "metadata": {},
   "source": [
    "Thử viết một chương trình nhập 2 số và tính phép chia. Nếu chương trình gặp phải số chia là 0 thì sẽ như thế nào:"
   ]
  },
  {
   "cell_type": "code",
   "execution_count": 3,
   "id": "e8190575-925f-4150-8ee4-621b1af5092b",
   "metadata": {},
   "outputs": [
    {
     "name": "stdin",
     "output_type": "stream",
     "text": [
      "Please, enter the first number:  2\n",
      "Please, enter the second number:  0\n"
     ]
    },
    {
     "ename": "ZeroDivisionError",
     "evalue": "division by zero",
     "output_type": "error",
     "traceback": [
      "\u001b[0;31m---------------------------------------------------------------------------\u001b[0m",
      "\u001b[0;31mZeroDivisionError\u001b[0m                         Traceback (most recent call last)",
      "\u001b[0;32m/tmp/ipykernel_16153/896126553.py\u001b[0m in \u001b[0;36m<module>\u001b[0;34m\u001b[0m\n\u001b[1;32m      1\u001b[0m \u001b[0mnumber_one\u001b[0m \u001b[0;34m=\u001b[0m \u001b[0mint\u001b[0m\u001b[0;34m(\u001b[0m\u001b[0minput\u001b[0m\u001b[0;34m(\u001b[0m\u001b[0;34m\"Please, enter the first number: \"\u001b[0m\u001b[0;34m)\u001b[0m\u001b[0;34m)\u001b[0m\u001b[0;34m\u001b[0m\u001b[0;34m\u001b[0m\u001b[0m\n\u001b[1;32m      2\u001b[0m \u001b[0mnumber_two\u001b[0m \u001b[0;34m=\u001b[0m \u001b[0mint\u001b[0m\u001b[0;34m(\u001b[0m\u001b[0minput\u001b[0m\u001b[0;34m(\u001b[0m\u001b[0;34m\"Please, enter the second number: \"\u001b[0m\u001b[0;34m)\u001b[0m\u001b[0;34m)\u001b[0m\u001b[0;34m\u001b[0m\u001b[0;34m\u001b[0m\u001b[0m\n\u001b[0;32m----> 3\u001b[0;31m \u001b[0mresult\u001b[0m \u001b[0;34m=\u001b[0m \u001b[0mnumber_one\u001b[0m \u001b[0;34m/\u001b[0m \u001b[0mnumber_two\u001b[0m\u001b[0;34m\u001b[0m\u001b[0;34m\u001b[0m\u001b[0m\n\u001b[0m\u001b[1;32m      4\u001b[0m \u001b[0mprint\u001b[0m\u001b[0;34m(\u001b[0m\u001b[0;34m\"The result of your division is: \"\u001b[0m\u001b[0;34m,\u001b[0m \u001b[0mresult\u001b[0m\u001b[0;34m)\u001b[0m\u001b[0;34m\u001b[0m\u001b[0;34m\u001b[0m\u001b[0m\n",
      "\u001b[0;31mZeroDivisionError\u001b[0m: division by zero"
     ]
    }
   ],
   "source": [
    "number_one = int(input(\"Please, enter the first number: \"))\n",
    "number_two = int(input(\"Please, enter the second number: \"))\n",
    "result = number_one / number_two\n",
    "print(\"The result of your division is: \", result)"
   ]
  },
  {
   "cell_type": "markdown",
   "id": "1f3f6393-1ec2-4688-94e5-2f4e96d4aa14",
   "metadata": {},
   "source": [
    "Và ta gặp traceback này, và chương trình ta crash! Để ngăn tình trạng này, ta cần dùng **try-except statements**. Cụ thể như sau:"
   ]
  },
  {
   "cell_type": "code",
   "execution_count": 4,
   "id": "f9d7aaa9-5a48-40ca-8274-8214bcbec50c",
   "metadata": {},
   "outputs": [
    {
     "name": "stdin",
     "output_type": "stream",
     "text": [
      "Please, enter the first number:  2\n",
      "Please, enter the second number:  0\n"
     ]
    },
    {
     "name": "stdout",
     "output_type": "stream",
     "text": [
      "We achieve it thanks to except ***You can not divide by zero!!\n",
      "It is done through finally ***Thanks for using our calculator! Come again!\n"
     ]
    }
   ],
   "source": [
    "number_one = int(input(\"Please, enter the first number: \"))\n",
    "number_two = int(input(\"Please, enter the second number: \"))\n",
    "try:\n",
    "    result = number_one / number_two\n",
    "except ZeroDivisionError:\n",
    "    print(\"We achieve it thanks to except ***You can not divide by zero!!\")\n",
    "else:\n",
    "    print(\"The result of your division is: \", result)\n",
    "finally:\n",
    "    print(\"It is done through finally ***Thanks for using our calculator! Come again!\")"
   ]
  },
  {
   "cell_type": "markdown",
   "id": "51160e7b-d45a-45a2-9baf-25b90792781f",
   "metadata": {},
   "source": [
    "### Exception handling keywords"
   ]
  },
  {
   "cell_type": "markdown",
   "id": "71db7a0f-01f5-4fb2-b55f-8dc762c9990e",
   "metadata": {},
   "source": [
    "## User-defined exceptions"
   ]
  }
 ],
 "metadata": {
  "kernelspec": {
   "display_name": "Python 3 (ipykernel)",
   "language": "python",
   "name": "python3"
  },
  "language_info": {
   "codemirror_mode": {
    "name": "ipython",
    "version": 3
   },
   "file_extension": ".py",
   "mimetype": "text/x-python",
   "name": "python",
   "nbconvert_exporter": "python",
   "pygments_lexer": "ipython3",
   "version": "3.8.12"
  }
 },
 "nbformat": 4,
 "nbformat_minor": 5
}
