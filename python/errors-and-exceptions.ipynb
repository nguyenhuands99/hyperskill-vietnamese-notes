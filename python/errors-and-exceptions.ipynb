{
 "cells": [
  {
   "cell_type": "markdown",
   "id": "06f922f8-2fea-4e9d-8128-4f545ede0911",
   "metadata": {},
   "source": [
    "# ERRORS AND EXCEPTIONS"
   ]
  },
  {
   "cell_type": "markdown",
   "id": "4787930c-0558-45fe-9f1a-6042111ee5e2",
   "metadata": {},
   "source": [
    "## Errors\n",
    "\n",
    "Lỗi là điều không thể tránh khỏi trong quá trình lập trình. Với Python, khi bạn muốn chạy chương trình đơn giản như `Hello, world!` cũng có thể có errors:"
   ]
  },
  {
   "cell_type": "code",
   "execution_count": 2,
   "id": "2490a2b3-afd0-4287-9b3c-7b3ac78093e2",
   "metadata": {},
   "outputs": [
    {
     "ename": "SyntaxError",
     "evalue": "unexpected EOF while parsing (3911780018.py, line 1)",
     "output_type": "error",
     "traceback": [
      "\u001b[0;36m  File \u001b[0;32m\"/tmp/ipykernel_16153/3911780018.py\"\u001b[0;36m, line \u001b[0;32m1\u001b[0m\n\u001b[0;31m    print(\"Hello, world\"\u001b[0m\n\u001b[0m                        ^\u001b[0m\n\u001b[0;31mSyntaxError\u001b[0m\u001b[0;31m:\u001b[0m unexpected EOF while parsing\n"
     ]
    }
   ],
   "source": [
    "print(\"Hello, world\""
   ]
  },
  {
   "cell_type": "markdown",
   "id": "a01e4497-c697-448f-a9bb-039797d94392",
   "metadata": {},
   "source": [
    "**Traceback** là một stack trace mà mỗi khi code bạn gây ra error, nó sẽ report lại thông tin chi tiết về error cụ thể đó, chỉ ra **file cụ thể** mà error đó xuất hiện. Nhìn vào đây thì thấy nó chỉ rõ chỗ mistake trong code của bạn.\n",
    "\n",
    "Trông thì có vẻ phiền phức nhưng nói chung thì error thực chất thiết kế để Python có thể giao tiếp với bạn. Cho nên, mỗi khi thấy error, don't panic! Điều ta cần làm là đọc kỹ xem nó nói gì.\n",
    "\n",
    "### Syntax errors\n",
    "\n",
    "Trong ví dụ ở trên, chúng ta có thể thấy magic word ở đây đó là `SyntaxError`, thứ mà có thể \"ám\" chúng ta trong suốt quá trình làm quen với Python. Một lượng lớn các loại errors được coi như là syntax errors. Điều đó có nghĩa là Python đang gặp vấn đề khi **compile** chương trình và thậm chí nó còn không thể thực thi.\n",
    "\n",
    "Nếu bạn đọc kỹ traceback, bạn có thể tìm được error và sửa nó dễ dàng, **mũi tên** chỉ vào đúng chỗ Python thấy lỗi trong code của bạn. Mỗi syntax error đều có một **associated value**. Trong ví dụ, \"EOF\" trong message \"SyntaxError: unexpected EOF while parsing\" có nghĩa là End Of File. Điều này có nghĩa là có gì đó đáng lẽ phải có sau statement, mà bạn lại không pass no cho interpreter, ở đây chính là `)`.\n",
    "\n",
    "Đôi khi lỗi không hề rõ ràng như vậy. Sẽ có trường hợp bạn chỉ nhận được kiểu như \"invalid syntax\" không thực sự giúp được gì nhiều. Nhưng dù sao thì locate được problem của khá đủ để biết lỗi syntax chỗ nào.\n",
    "\n",
    "## Common errors for beginners\n",
    "\n",
    "- **wrong spelling** các keywords và function names\n",
    "- sai số lượng **parentheses** trong lúc gọi hàm\n",
    "- **indents** cũng là một vấn đề thường gặp, do đó hãy dùng space và tab cẩn thận\n",
    "- **quotes**. Đừng quên đóng string với quotes cùng loại\n",
    "\n",
    "IDE thường sẽ check những thứ này cho bạn và highlight chúng ngay lập tức để bạn kịp thời sửa chữa. Vì khi Python gặp **first** syntax error, nó sẽ ngừng ngay lập tức."
   ]
  },
  {
   "cell_type": "markdown",
   "id": "9eea0cca-05a3-48ce-a938-ff74fa90be25",
   "metadata": {},
   "source": [
    "## Exceptions\n",
    "\n",
    "Bây giờ có thể coi là code của chúng ta đã đúng cú pháp, và nó sẽ được thực thi mà không có vấn đề gì. Wait! Rõ ràng là không đơn giản như vậy. Với trường hợp dưới đây, chương trình chỉ thực thi một phần.\n",
    "\n",
    "Có một vài loại errors trong code sẽ không thực sự ngăn chương trình thực thi. Chương trình chỉ thực sự crash khi đang thực thi \"broken line\": một dòng với một error gọi là một **exception**. Hay nói cách khác, exception là error phát hiện khi chương trình đang **execute** (interpretation), trong khi syntax error được phát khi compile chương trìng sang byte-code.\n"
   ]
  },
  {
   "cell_type": "code",
   "execution_count": 5,
   "id": "d78b3794-6909-481a-8906-85947504a6ee",
   "metadata": {},
   "outputs": [
    {
     "name": "stdout",
     "output_type": "stream",
     "text": [
      "I will be the first\n",
      "And I will be the second\n",
      "Here comes an error!..\n"
     ]
    },
    {
     "ename": "ZeroDivisionError",
     "evalue": "division by zero",
     "output_type": "error",
     "traceback": [
      "\u001b[0;31m---------------------------------------------------------------------------\u001b[0m",
      "\u001b[0;31mZeroDivisionError\u001b[0m                         Traceback (most recent call last)",
      "\u001b[0;32m/tmp/ipykernel_16153/3589828815.py\u001b[0m in \u001b[0;36m<module>\u001b[0;34m\u001b[0m\n\u001b[1;32m      4\u001b[0m \u001b[0mb\u001b[0m \u001b[0;34m=\u001b[0m \u001b[0;36m5\u001b[0m\u001b[0;34m\u001b[0m\u001b[0;34m\u001b[0m\u001b[0m\n\u001b[1;32m      5\u001b[0m \u001b[0mprint\u001b[0m\u001b[0;34m(\u001b[0m\u001b[0;34m\"Here comes an error!..\"\u001b[0m\u001b[0;34m)\u001b[0m\u001b[0;34m\u001b[0m\u001b[0;34m\u001b[0m\u001b[0m\n\u001b[0;32m----> 6\u001b[0;31m \u001b[0mprint\u001b[0m\u001b[0;34m(\u001b[0m\u001b[0mb\u001b[0m \u001b[0;34m/\u001b[0m \u001b[0ma\u001b[0m\u001b[0;34m)\u001b[0m\u001b[0;34m\u001b[0m\u001b[0;34m\u001b[0m\u001b[0m\n\u001b[0m\u001b[1;32m      7\u001b[0m \u001b[0mprint\u001b[0m\u001b[0;34m(\u001b[0m\u001b[0;34m\"I won't be printed\"\u001b[0m\u001b[0;34m)\u001b[0m\u001b[0;34m\u001b[0m\u001b[0;34m\u001b[0m\u001b[0m\n",
      "\u001b[0;31mZeroDivisionError\u001b[0m: division by zero"
     ]
    }
   ],
   "source": [
    "print(\"I will be the first\")\n",
    "print(\"And I will be the second\")\n",
    "a = 0\n",
    "b = 5\n",
    "print(\"Here comes an error!..\")\n",
    "print(b / a)\n",
    "print(\"I won't be printed\")"
   ]
  },
  {
   "cell_type": "markdown",
   "id": "39e9107e-0458-4d92-a0be-c0a27683ba02",
   "metadata": {},
   "source": [
    "Ta có thể nhìn thấy dòng cuối không hề được print ra, cũng như dòng `print(b / a)` nơi mà chứa error. Tức là tất cả các dòng **trước** exception được thực thi bình thường, còn tất cả những gì **sau** exception thì không.\n",
    "\n",
    "Trong trường hợp này, ta thấy **ZeroDivisionError** nghĩa là \"không chia được cho 0\". Và cũng giống như errors, gần như tất cả các built-in Python exceptions đều có **associated values** chỉ rõ chi tiết thứ gây ra error. Exceptions không phải là không thể \"đỡ được\", ta sẽ xem cách \"đỡ\" exception ở phần sau.\n",
    "\n",
    "### Most common exceptions for learners\n",
    "\n",
    "Có lẽ những exceptions thường gặp với người học Python đó là `NameError`, `TypeError`, `ValueError`.\n",
    "\n",
    "`NameError` thường raised khi mà bạn chưa define một biến trước khi sử dụng nó hoặc bạn đã làm điều đó không đúng cách. Ví dụ như:"
   ]
  },
  {
   "cell_type": "code",
   "execution_count": 9,
   "id": "ab95e290-40e8-4817-ae00-7c29941fea0e",
   "metadata": {},
   "outputs": [
    {
     "ename": "NameError",
     "evalue": "name 'x' is not defined",
     "output_type": "error",
     "traceback": [
      "\u001b[0;31m---------------------------------------------------------------------------\u001b[0m",
      "\u001b[0;31mNameError\u001b[0m                                 Traceback (most recent call last)",
      "\u001b[0;32m/tmp/ipykernel_16153/4214068176.py\u001b[0m in \u001b[0;36m<module>\u001b[0;34m\u001b[0m\n\u001b[0;32m----> 1\u001b[0;31m \u001b[0mprint\u001b[0m\u001b[0;34m(\u001b[0m\u001b[0mx\u001b[0m \u001b[0;34m+\u001b[0m \u001b[0my\u001b[0m\u001b[0;34m)\u001b[0m\u001b[0;34m\u001b[0m\u001b[0;34m\u001b[0m\u001b[0m\n\u001b[0m\u001b[1;32m      2\u001b[0m \u001b[0mx\u001b[0m \u001b[0;34m=\u001b[0m \u001b[0;36m0\u001b[0m\u001b[0;34m\u001b[0m\u001b[0;34m\u001b[0m\u001b[0m\n\u001b[1;32m      3\u001b[0m \u001b[0my\u001b[0m \u001b[0;34m=\u001b[0m \u001b[0;36m5\u001b[0m\u001b[0;34m\u001b[0m\u001b[0;34m\u001b[0m\u001b[0m\n",
      "\u001b[0;31mNameError\u001b[0m: name 'x' is not defined"
     ]
    }
   ],
   "source": [
    "print(x + y)\n",
    "x = 0\n",
    "y = 5"
   ]
  },
  {
   "cell_type": "markdown",
   "id": "e5050936-2281-4551-aba3-fcfeb3d7e955",
   "metadata": {},
   "source": [
    "`TypeError` xuất hiện khi một operation/ function được áp dụng cho một object với **inapproriate type**. Associated value sẽ là một string đưa chi tiết về loại mà bạn đã mismatch. Ví dụ như:"
   ]
  },
  {
   "cell_type": "code",
   "execution_count": 7,
   "id": "2dbf68a6-a5ed-41cd-b993-846370ff58f0",
   "metadata": {},
   "outputs": [
    {
     "ename": "TypeError",
     "evalue": "can only concatenate str (not \"int\") to str",
     "output_type": "error",
     "traceback": [
      "\u001b[0;31m---------------------------------------------------------------------------\u001b[0m",
      "\u001b[0;31mTypeError\u001b[0m                                 Traceback (most recent call last)",
      "\u001b[0;32m/tmp/ipykernel_16153/2446357686.py\u001b[0m in \u001b[0;36m<module>\u001b[0;34m\u001b[0m\n\u001b[0;32m----> 1\u001b[0;31m \u001b[0mprint\u001b[0m\u001b[0;34m(\u001b[0m\u001b[0;34m\"15\"\u001b[0m \u001b[0;34m+\u001b[0m \u001b[0;36m2\u001b[0m\u001b[0;34m)\u001b[0m\u001b[0;34m\u001b[0m\u001b[0;34m\u001b[0m\u001b[0m\n\u001b[0m",
      "\u001b[0;31mTypeError\u001b[0m: can only concatenate str (not \"int\") to str"
     ]
    }
   ],
   "source": [
    "print(\"15\" + 2)\n"
   ]
  },
  {
   "cell_type": "markdown",
   "id": "d0a49487-9441-49cc-af1f-cd6548579020",
   "metadata": {},
   "source": [
    "`ValueError`  có thể được raised khi mà bạn sử dụng biến đã đúng type rồi, nhưng với **inproriate value**. Ví dụ như bạn muốn convert int từ một string số, hàm `int()` sẽ làm điều đó, nhưng vấn đề ở đây là string bạn pass vào có value không hợp lệ:"
   ]
  },
  {
   "cell_type": "code",
   "execution_count": 6,
   "id": "3fdd5b30-0bc4-489f-b90a-630f2a59af68",
   "metadata": {},
   "outputs": [
    {
     "ename": "ValueError",
     "evalue": "invalid literal for int() with base 10: 'five'",
     "output_type": "error",
     "traceback": [
      "\u001b[0;31m---------------------------------------------------------------------------\u001b[0m",
      "\u001b[0;31mValueError\u001b[0m                                Traceback (most recent call last)",
      "\u001b[0;32m/tmp/ipykernel_16153/3767435332.py\u001b[0m in \u001b[0;36m<module>\u001b[0;34m\u001b[0m\n\u001b[0;32m----> 1\u001b[0;31m \u001b[0mprint\u001b[0m\u001b[0;34m(\u001b[0m\u001b[0mint\u001b[0m\u001b[0;34m(\u001b[0m\u001b[0;34m\"five\"\u001b[0m\u001b[0;34m)\u001b[0m\u001b[0;34m)\u001b[0m\u001b[0;34m\u001b[0m\u001b[0;34m\u001b[0m\u001b[0m\n\u001b[0m",
      "\u001b[0;31mValueError\u001b[0m: invalid literal for int() with base 10: 'five'"
     ]
    }
   ],
   "source": [
    "print(int(\"five\"))"
   ]
  },
  {
   "cell_type": "markdown",
   "id": "81811605-8d75-4a27-82f4-e27d9e6370cb",
   "metadata": {},
   "source": [
    "Nếu mà bạn có vấn đề nào với bất kì loại error nào, bạn có thể copy-paste dòng cuối cùng của traceback vào google để tìm hiểu thêm. "
   ]
  },
  {
   "cell_type": "markdown",
   "id": "efa4d339-61f4-45b3-bc41-1d5bb8838917",
   "metadata": {},
   "source": [
    "## Built-in exceptions\n",
    "\n",
    "### Hierarchy of Exceptions\n",
    "\n",
    "Ta nên biết rằng built-in exception của Python có phân cấp (hierarchy), một vài exception chia nhỏ ra nhiều exception cụ thể hơn:\n"
   ]
  },
  {
   "cell_type": "markdown",
   "id": "c55ce86e-a32b-4e00-9190-c0d0d5ccf5b8",
   "metadata": {},
   "source": [
    "```\n",
    "BaseException\n",
    " +-- SystemExit\n",
    " +-- KeyboardInterrupt\n",
    " +-- GeneratorExit\n",
    " +-- Exception\n",
    "      +-- StopIteration\n",
    "      +-- StopAsyncIteration\n",
    "      +-- ArithmeticError\n",
    "      |    +-- FloatingPointError\n",
    "      |    +-- OverflowError\n",
    "      |    +-- ZeroDivisionError\n",
    "      +-- AssertionError\n",
    "      +-- AttributeError\n",
    "      +-- BufferError\n",
    "      +-- EOFError\n",
    "      +-- ImportError\n",
    "      |    +-- ModuleNotFoundError\n",
    "      +-- LookupError\n",
    "      |    +-- IndexError\n",
    "      |    +-- KeyError\n",
    "      +-- MemoryError\n",
    "      +-- NameError\n",
    "      |    +-- UnboundLocalError\n",
    "      +-- OSError\n",
    "      |    +-- BlockingIOError\n",
    "      |    +-- ChildProcessError\n",
    "      |    +-- ConnectionError\n",
    "      |    |    +-- BrokenPipeError\n",
    "      |    |    +-- ConnectionAbortedError\n",
    "      |    |    +-- ConnectionRefusedError\n",
    "      |    |    +-- ConnectionResetError\n",
    "      |    +-- FileExistsError\n",
    "      |    +-- FileNotFoundError\n",
    "      |    +-- InterruptedError\n",
    "      |    +-- IsADirectoryError\n",
    "      |    +-- NotADirectoryError\n",
    "      |    +-- PermissionError\n",
    "      |    +-- ProcessLookupError\n",
    "      |    +-- TimeoutError\n",
    "      +-- ReferenceError\n",
    "      +-- RuntimeError\n",
    "      |    +-- NotImplementedError\n",
    "      |    +-- RecursionError\n",
    "      +-- SyntaxError\n",
    "      |    +-- IndentationError\n",
    "      |         +-- TabError\n",
    "      +-- SystemError\n",
    "      +-- TypeError\n",
    "      +-- ValueError\n",
    "      |    +-- UnicodeError\n",
    "      |         +-- UnicodeDecodeError\n",
    "      |         +-- UnicodeEncodeError\n",
    "      |         +-- UnicodeTranslateError\n",
    "      +-- Warning\n",
    "           +-- DeprecationWarning\n",
    "           +-- PendingDeprecationWarning\n",
    "           +-- RuntimeWarning\n",
    "           +-- SyntaxWarning\n",
    "           +-- UserWarning\n",
    "           +-- FutureWarning\n",
    "           +-- ImportWarning\n",
    "           +-- UnicodeWarning\n",
    "           +-- BytesWarning\n",
    "           +-- ResourceWarning\n",
    "```      "
   ]
  },
  {
   "cell_type": "markdown",
   "id": "cdedbcba-254e-4fd1-9660-5a24c9342ac5",
   "metadata": {},
   "source": [
    "Don't be afraid, rất khó có thể nhớ được nguyên cái hierarchy này một lần. Bây giờ ta nên tập trung vào feature chính của cấu trúc này.\n",
    "\n",
    "Đầu tiên, nhớ rằng `BaseException` class là một base class cho tất cả các built-in exceptions, có thể coi như là root của tất cả các exceptions. Exception này không bao giờ được raised mà là được kế thừa bởi các exception class khác. Về mặt phân cấp, các class khác được gọi là **subclass** của root class. Ví dụ, `IndexError` class là subclass của `LookupError` class. Và đồng thời `LookupError` class là môt subclass của `Exception` class.\n",
    "\n",
    "`BaseException` class có các subclasses bao gồm `SystemExit`, `KeyboardInterrupt`, `GeneratorExit` và `Exception`. \n",
    "\n",
    "- `SystemExit` được raised khi mà `sys.exit()` fucntion được dùng để terminate chương trình.\n",
    "- `KeyboardInterrupt` được raised khi mà user nhấn Ctrl+C khi đang thực thi chương trình.\n",
    "- `GeneratorExit` xuất hiện khi generator của bạn bị closed (ta sẽ nói đến vấn đề này sau).\n",
    "- Và cái mà thường gặp nhất: `Exception` class. Nó chứa tất cả các exceptions mà được coi là **errors** và **warnings**."
   ]
  },
  {
   "cell_type": "markdown",
   "id": "704a88a2-74ea-4dc0-8dd3-7b8f77dedfa6",
   "metadata": {},
   "source": [
    "### Built-in Exceptions Types\n",
    "\n",
    "Dưới đây là bảng chứa tất cả các built-in exceptions mà chúng ta sẽ thường gặp phải:\n",
    "\n",
    "|Exception|Explanation\n",
    "|---|---|\n",
    "|`SyntaxError`| khi mà statement viết sai syntax|\n",
    "|`TypeError`| khi operation/ function applied vào object với type không hợp lệ|\n",
    "|`ValueError`| khi mà operation/ function nhận argument với value không hợp lệ|\n",
    "|`OSError`| khi system function returns a system-related error|\n",
    "|`ImportError`| khi mà imported library is not found|\n",
    "|`EOFError`| khi `input()` reach EOF mà không đọc được|\n",
    "|`NameError`| khi local hoặc global name is not found|\n",
    "|`IndexError`| raised when sequence of subscript is out of range|"
   ]
  },
  {
   "cell_type": "markdown",
   "id": "b985d8e7-9adb-4047-9943-5b4e12210f64",
   "metadata": {},
   "source": [
    "## Handling exceptions"
   ]
  },
  {
   "cell_type": "markdown",
   "id": "62bbac50-3a90-4412-b746-a9e00824d58e",
   "metadata": {},
   "source": [
    "Thử viết một chương trình nhập 2 số và tính phép chia. Nếu chương trình gặp phải số chia là 0 thì sẽ như thế nào:"
   ]
  },
  {
   "cell_type": "code",
   "execution_count": 3,
   "id": "e8190575-925f-4150-8ee4-621b1af5092b",
   "metadata": {},
   "outputs": [
    {
     "name": "stdin",
     "output_type": "stream",
     "text": [
      "Please, enter the first number:  2\n",
      "Please, enter the second number:  0\n"
     ]
    },
    {
     "ename": "ZeroDivisionError",
     "evalue": "division by zero",
     "output_type": "error",
     "traceback": [
      "\u001b[0;31m---------------------------------------------------------------------------\u001b[0m",
      "\u001b[0;31mZeroDivisionError\u001b[0m                         Traceback (most recent call last)",
      "\u001b[0;32m/tmp/ipykernel_16153/896126553.py\u001b[0m in \u001b[0;36m<module>\u001b[0;34m\u001b[0m\n\u001b[1;32m      1\u001b[0m \u001b[0mnumber_one\u001b[0m \u001b[0;34m=\u001b[0m \u001b[0mint\u001b[0m\u001b[0;34m(\u001b[0m\u001b[0minput\u001b[0m\u001b[0;34m(\u001b[0m\u001b[0;34m\"Please, enter the first number: \"\u001b[0m\u001b[0;34m)\u001b[0m\u001b[0;34m)\u001b[0m\u001b[0;34m\u001b[0m\u001b[0;34m\u001b[0m\u001b[0m\n\u001b[1;32m      2\u001b[0m \u001b[0mnumber_two\u001b[0m \u001b[0;34m=\u001b[0m \u001b[0mint\u001b[0m\u001b[0;34m(\u001b[0m\u001b[0minput\u001b[0m\u001b[0;34m(\u001b[0m\u001b[0;34m\"Please, enter the second number: \"\u001b[0m\u001b[0;34m)\u001b[0m\u001b[0;34m)\u001b[0m\u001b[0;34m\u001b[0m\u001b[0;34m\u001b[0m\u001b[0m\n\u001b[0;32m----> 3\u001b[0;31m \u001b[0mresult\u001b[0m \u001b[0;34m=\u001b[0m \u001b[0mnumber_one\u001b[0m \u001b[0;34m/\u001b[0m \u001b[0mnumber_two\u001b[0m\u001b[0;34m\u001b[0m\u001b[0;34m\u001b[0m\u001b[0m\n\u001b[0m\u001b[1;32m      4\u001b[0m \u001b[0mprint\u001b[0m\u001b[0;34m(\u001b[0m\u001b[0;34m\"The result of your division is: \"\u001b[0m\u001b[0;34m,\u001b[0m \u001b[0mresult\u001b[0m\u001b[0;34m)\u001b[0m\u001b[0;34m\u001b[0m\u001b[0;34m\u001b[0m\u001b[0m\n",
      "\u001b[0;31mZeroDivisionError\u001b[0m: division by zero"
     ]
    }
   ],
   "source": [
    "number_one = int(input(\"Please, enter the first number: \"))\n",
    "number_two = int(input(\"Please, enter the second number: \"))\n",
    "result = number_one / number_two\n",
    "print(\"The result of your division is: \", result)"
   ]
  },
  {
   "cell_type": "markdown",
   "id": "1f3f6393-1ec2-4688-94e5-2f4e96d4aa14",
   "metadata": {},
   "source": [
    "Và ta gặp traceback này, và chương trình ta crash! Để ngăn tình trạng này, ta cần dùng **try-except statements**. Cụ thể như sau:"
   ]
  },
  {
   "cell_type": "code",
   "execution_count": 4,
   "id": "f9d7aaa9-5a48-40ca-8274-8214bcbec50c",
   "metadata": {},
   "outputs": [
    {
     "name": "stdin",
     "output_type": "stream",
     "text": [
      "Please, enter the first number:  2\n",
      "Please, enter the second number:  0\n"
     ]
    },
    {
     "name": "stdout",
     "output_type": "stream",
     "text": [
      "We achieve it thanks to except ***You can not divide by zero!!\n",
      "It is done through finally ***Thanks for using our calculator! Come again!\n"
     ]
    }
   ],
   "source": [
    "number_one = int(input(\"Please, enter the first number: \"))\n",
    "number_two = int(input(\"Please, enter the second number: \"))\n",
    "try:\n",
    "    result = number_one / number_two\n",
    "except ZeroDivisionError:\n",
    "    print(\"We achieve it thanks to except ***You can not divide by zero!!\")\n",
    "else:\n",
    "    print(\"The result of your division is: \", result)\n",
    "finally:\n",
    "    print(\"It is done through finally ***Thanks for using our calculator! Come again!\")"
   ]
  },
  {
   "cell_type": "markdown",
   "id": "51160e7b-d45a-45a2-9baf-25b90792781f",
   "metadata": {
    "tags": []
   },
   "source": [
    "### Exception handling keywords\n",
    "\n",
    "Ở đây ta không chỉ thấy `try` và `except` block, mà còn có `else` và `finally`. Cả quá trình handling exception như sau:\n",
    "- Đầu tiên, Python thực thi trong `try` block trước: mọi thứ giữa `try` và `except`.\n",
    "- Nếu không có exception xảy ra, try block được thực thi thành công và hoàn thành.\n",
    "- Nếu có một exception xảy ra, phần còn lại của try block bị skipped. Sau đó, Python sẽ check loại exception có matched với loại mà `except` keyword đang cố handle hay không, nếu đúng thì nó sẽ thực thi `except` block và tiếp tục thực thi chương trình **sau** try-except block.\n",
    "- Nếu exception không matched, khi đó người ta gọi là **unhandled exception** và chương trình sẽ dừng thực thi với một **traceback**.\n",
    "- `else` block trong trường hợp này chỉ thực thi nếu không có exception xảy ra.\n",
    "- `finally` block **luôn luôn** được thực thi trước khi rời khỏi try-except block, dù exception có xảy ra hay không.\n",
    "\n",
    "![](img/try-except-block-diagram.svg)\n",
    "\n",
    "### Handling several exceptions\n",
    "\n",
    "Nếu như user không hiểu thực sự \"number\" là gì và nhập vào, ví dụ như \"one\"?\n",
    "\n",
    "```\n",
    ">>> Please, enter the first number: 5\n",
    ">>> Please, enter the second number: one\n",
    "Traceback (most recent call last):\n",
    "File \"<input>\", line 1, in <module>\n",
    "File \"C:/Users/User/.PyCharm2018.2/config/scratches/scratch_9.py\", line 2, in <module>\n",
    "    number_two = int(input(\"Please, enter the second number: \"))\n",
    "ValueError: invalid literal for int() with base 10: 'one'\n",
    "```\n",
    "\n",
    "Bởi vì ta chỉ xác định `ZeroDivisionError` exception trong try-except block. Và bây giờ là `ValueError` nếu Python không biết cách handle với exception này trong chương trình.\n",
    "\n",
    "Như được biết thì python exception có cấu trúc phân cấp, do đó có thể làm như sau mà không cần phải chỉ ra một loại exception nào cụ thể:"
   ]
  },
  {
   "cell_type": "code",
   "execution_count": null,
   "id": "6a29dd54-2dac-4e4e-819b-2293ad3bf26f",
   "metadata": {},
   "outputs": [],
   "source": [
    "except:\n",
    "    print(\"An error occurred! Try again.\")"
   ]
  },
  {
   "cell_type": "markdown",
   "id": "50b8ab20-95f4-4cc7-b127-71c594bf74ce",
   "metadata": {},
   "source": [
    "Do đó bạn có thể catch bất kỳ loại exception nào từ trong hierarchy đó, tuy nhiên cách này được coi là \"bad tone\" trong lập trinh, tốt hơn ta nên specify **hơn 2** `except` block:"
   ]
  },
  {
   "cell_type": "code",
   "execution_count": null,
   "id": "bc142a78-ca69-4aca-b905-cf581ca8b5be",
   "metadata": {},
   "outputs": [],
   "source": [
    "except ZeroDivisionError:\n",
    "    print(\"We achieve it thanks to except ***You can't divide by zero!!\")\n",
    "except ValueError:\n",
    "    print(\"You can only enter numbers consisting of digits, not text!!\")"
   ]
  },
  {
   "cell_type": "markdown",
   "id": "92fed0ed-c6ee-4490-ba6b-9c3f420e2063",
   "metadata": {},
   "source": [
    "Hoặc viết chung lại trong 1 block:"
   ]
  },
  {
   "cell_type": "code",
   "execution_count": null,
   "id": "4e6b9b3c-35a3-4791-9f8f-c937c5e30f7e",
   "metadata": {},
   "outputs": [],
   "source": [
    "except (ValueError, TypeError):\n",
    "    print(\"You can only enter numbers consisting of digits, not text!!\")"
   ]
  },
  {
   "cell_type": "markdown",
   "id": "0dcdd0d3-8021-49f7-995e-0e52cc48866e",
   "metadata": {},
   "source": [
    "Và một loại exception có thể catch nhiều loại exception (subclass):"
   ]
  },
  {
   "cell_type": "code",
   "execution_count": null,
   "id": "8a3edc99-33d4-45a8-81f8-38e30c28cae2",
   "metadata": {},
   "outputs": [],
   "source": [
    "except ArithmeticError:\n",
    "    print(\"I will also catch FloatingPointError, OverflowError, and ZeroDivisionError\")"
   ]
  },
  {
   "cell_type": "markdown",
   "id": "d5a3a4ff-13bc-4f44-9947-7d6f168d8613",
   "metadata": {},
   "source": [
    "Đôi khi ta không thể đoán được loại exception nào sẽ xảy ra, do đó ta nêu dùng `except Exception` thay vì chỉ đơn giản là `except` mà không có gì sau."
   ]
  },
  {
   "cell_type": "code",
   "execution_count": null,
   "id": "49ee5fba-fecb-4fde-8da2-6334d5f7cc8a",
   "metadata": {},
   "outputs": [],
   "source": [
    "# instead of\n",
    "except:\n",
    "    # do something\n",
    "# should be\n",
    "except Exception:\n",
    "    # do something"
   ]
  },
  {
   "cell_type": "markdown",
   "id": "8184e6fc-db8b-41ae-9517-0e7042c0d6f7",
   "metadata": {},
   "source": [
    "`except Exception` bao gồm tất cả Python exceptions trừ ba loại: `GeneratorExit`, `KeyboardInterrupt`, `SystemExit`. Do đó nếu bạn dùng cấu trúc này, bạn hoàn toàn có thể finish chương trình của mình bằng keyboard/ commands, tức làm `SystemExit`."
   ]
  },
  {
   "cell_type": "markdown",
   "id": "71db7a0f-01f5-4fb2-b55f-8dc762c9990e",
   "metadata": {},
   "source": [
    "## User-defined exceptions\n",
    "\n",
    "Chương trình không chỉ deal với built-in exceptions, mà đôi khi còn cần deal với một số loại exception đặc biệt do chúng ta tự define. ví dụ như ta muốn cộng 2 số nguyên dương, số âm không được \"chào đón\". Vì Python hoàn toàn có thể cộng chúng như bình thường, do đó ta phải tạo một custom exception để raise nếu bất kì số âm nào xuất hiện.\n",
    "\n",
    "### Raising user-defined exceptions\n",
    "\n",
    "Nếu mà ta muốn chương trình *dừng chạy* khi có vấn đề gì đó sai, ta có thể chỉ cần dùng `raise` với `Exception` class khi mà điều kiện thoả: Cả built-in hay user-defined exception. Feedback có thể được thêm vào trong ngoặc để giải thích error.\n",
    "\n"
   ]
  },
  {
   "cell_type": "code",
   "execution_count": 3,
   "id": "dae8ca69-5283-4448-b328-414bb5c6bc6f",
   "metadata": {},
   "outputs": [],
   "source": [
    "def example_exceptions_1(x, y):\n",
    "    if y == 0:\n",
    "        raise ZeroDivisionError(\"The denominator is 0! Try again, please!\")\n",
    "    elif y < 0:\n",
    "        raise Exception(\"The denominator is negative!\")\n",
    "    else:\n",
    "        print(x / y)"
   ]
  },
  {
   "cell_type": "code",
   "execution_count": 4,
   "id": "1ad944e8-8a9d-4449-acb5-a26ce29098f2",
   "metadata": {},
   "outputs": [
    {
     "ename": "ZeroDivisionError",
     "evalue": "The denominator is 0! Try again, please!",
     "output_type": "error",
     "traceback": [
      "\u001b[0;31m---------------------------------------------------------------------------\u001b[0m",
      "\u001b[0;31mZeroDivisionError\u001b[0m                         Traceback (most recent call last)",
      "\u001b[0;32m/tmp/ipykernel_4659/1147140303.py\u001b[0m in \u001b[0;36m<module>\u001b[0;34m\u001b[0m\n\u001b[0;32m----> 1\u001b[0;31m \u001b[0mexample_exceptions_1\u001b[0m\u001b[0;34m(\u001b[0m\u001b[0;36m10\u001b[0m\u001b[0;34m,\u001b[0m\u001b[0;36m0\u001b[0m\u001b[0;34m)\u001b[0m\u001b[0;34m\u001b[0m\u001b[0;34m\u001b[0m\u001b[0m\n\u001b[0m",
      "\u001b[0;32m/tmp/ipykernel_4659/3129118467.py\u001b[0m in \u001b[0;36mexample_exceptions_1\u001b[0;34m(x, y)\u001b[0m\n\u001b[1;32m      1\u001b[0m \u001b[0;32mdef\u001b[0m \u001b[0mexample_exceptions_1\u001b[0m\u001b[0;34m(\u001b[0m\u001b[0mx\u001b[0m\u001b[0;34m,\u001b[0m \u001b[0my\u001b[0m\u001b[0;34m)\u001b[0m\u001b[0;34m:\u001b[0m\u001b[0;34m\u001b[0m\u001b[0;34m\u001b[0m\u001b[0m\n\u001b[1;32m      2\u001b[0m     \u001b[0;32mif\u001b[0m \u001b[0my\u001b[0m \u001b[0;34m==\u001b[0m \u001b[0;36m0\u001b[0m\u001b[0;34m:\u001b[0m\u001b[0;34m\u001b[0m\u001b[0;34m\u001b[0m\u001b[0m\n\u001b[0;32m----> 3\u001b[0;31m         \u001b[0;32mraise\u001b[0m \u001b[0mZeroDivisionError\u001b[0m\u001b[0;34m(\u001b[0m\u001b[0;34m\"The denominator is 0! Try again, please!\"\u001b[0m\u001b[0;34m)\u001b[0m\u001b[0;34m\u001b[0m\u001b[0;34m\u001b[0m\u001b[0m\n\u001b[0m\u001b[1;32m      4\u001b[0m     \u001b[0;32melif\u001b[0m \u001b[0my\u001b[0m \u001b[0;34m<\u001b[0m \u001b[0;36m0\u001b[0m\u001b[0;34m:\u001b[0m\u001b[0;34m\u001b[0m\u001b[0;34m\u001b[0m\u001b[0m\n\u001b[1;32m      5\u001b[0m         \u001b[0;32mraise\u001b[0m \u001b[0mException\u001b[0m\u001b[0;34m(\u001b[0m\u001b[0;34m\"The denominator is negative!\"\u001b[0m\u001b[0;34m)\u001b[0m\u001b[0;34m\u001b[0m\u001b[0;34m\u001b[0m\u001b[0m\n",
      "\u001b[0;31mZeroDivisionError\u001b[0m: The denominator is 0! Try again, please!"
     ]
    }
   ],
   "source": [
    "example_exceptions_1(10,0)"
   ]
  },
  {
   "cell_type": "code",
   "execution_count": 5,
   "id": "f3aa7f31-49eb-4361-9954-8680c03168f3",
   "metadata": {},
   "outputs": [
    {
     "ename": "Exception",
     "evalue": "The denominator is negative!",
     "output_type": "error",
     "traceback": [
      "\u001b[0;31m---------------------------------------------------------------------------\u001b[0m",
      "\u001b[0;31mException\u001b[0m                                 Traceback (most recent call last)",
      "\u001b[0;32m/tmp/ipykernel_4659/4091955958.py\u001b[0m in \u001b[0;36m<module>\u001b[0;34m\u001b[0m\n\u001b[0;32m----> 1\u001b[0;31m \u001b[0mexample_exceptions_1\u001b[0m\u001b[0;34m(\u001b[0m\u001b[0;36m10\u001b[0m\u001b[0;34m,\u001b[0m \u001b[0;34m-\u001b[0m\u001b[0;36m2\u001b[0m\u001b[0;34m)\u001b[0m\u001b[0;34m\u001b[0m\u001b[0;34m\u001b[0m\u001b[0m\n\u001b[0m",
      "\u001b[0;32m/tmp/ipykernel_4659/3129118467.py\u001b[0m in \u001b[0;36mexample_exceptions_1\u001b[0;34m(x, y)\u001b[0m\n\u001b[1;32m      3\u001b[0m         \u001b[0;32mraise\u001b[0m \u001b[0mZeroDivisionError\u001b[0m\u001b[0;34m(\u001b[0m\u001b[0;34m\"The denominator is 0! Try again, please!\"\u001b[0m\u001b[0;34m)\u001b[0m\u001b[0;34m\u001b[0m\u001b[0;34m\u001b[0m\u001b[0m\n\u001b[1;32m      4\u001b[0m     \u001b[0;32melif\u001b[0m \u001b[0my\u001b[0m \u001b[0;34m<\u001b[0m \u001b[0;36m0\u001b[0m\u001b[0;34m:\u001b[0m\u001b[0;34m\u001b[0m\u001b[0;34m\u001b[0m\u001b[0m\n\u001b[0;32m----> 5\u001b[0;31m         \u001b[0;32mraise\u001b[0m \u001b[0mException\u001b[0m\u001b[0;34m(\u001b[0m\u001b[0;34m\"The denominator is negative!\"\u001b[0m\u001b[0;34m)\u001b[0m\u001b[0;34m\u001b[0m\u001b[0;34m\u001b[0m\u001b[0m\n\u001b[0m\u001b[1;32m      6\u001b[0m     \u001b[0;32melse\u001b[0m\u001b[0;34m:\u001b[0m\u001b[0;34m\u001b[0m\u001b[0;34m\u001b[0m\u001b[0m\n\u001b[1;32m      7\u001b[0m         \u001b[0mprint\u001b[0m\u001b[0;34m(\u001b[0m\u001b[0mx\u001b[0m \u001b[0;34m/\u001b[0m \u001b[0my\u001b[0m\u001b[0;34m)\u001b[0m\u001b[0;34m\u001b[0m\u001b[0;34m\u001b[0m\u001b[0m\n",
      "\u001b[0;31mException\u001b[0m: The denominator is negative!"
     ]
    }
   ],
   "source": [
    "example_exceptions_1(10, -2)"
   ]
  },
  {
   "cell_type": "markdown",
   "id": "26af3723-5c2d-4a52-b358-b9b19aace841",
   "metadata": {},
   "source": [
    "### Creating a user-defined exception class\n",
    "\n",
    "Để tạo exception tự định nghĩa thì ta phải dùng class. Lớp này phải kế thừa từ class `Exception`, trong ví dụ này ta sẽ định nghĩa lớp `NegativeResultError`, tốt nhất nên có \"Error\" hay \"Exception\" trong tên class. Ở đây đơn giản lớp này chỉ là print ra thông báo đại loại như:"
   ]
  },
  {
   "cell_type": "code",
   "execution_count": 11,
   "id": "ea315df7-1164-47cc-905a-d43dbd1f2e6b",
   "metadata": {},
   "outputs": [
    {
     "name": "stdout",
     "output_type": "stream",
     "text": [
      "Hooray! My first exception is working!!\n"
     ]
    }
   ],
   "source": [
    "class NegativeResultError(Exception):\n",
    "    print(\"Hooray! My first exception is working!!\")"
   ]
  },
  {
   "cell_type": "markdown",
   "id": "7d773129-c3d3-4c8d-8e3a-96f5b139bbdc",
   "metadata": {},
   "source": [
    "Bây giờ viết lại hàm ví dụ ở trên với exception tự định nghĩa này:"
   ]
  },
  {
   "cell_type": "code",
   "execution_count": 12,
   "id": "0a0f1594-ee7a-48f2-badc-84e6e97f0893",
   "metadata": {},
   "outputs": [],
   "source": [
    "def example_exceptions_2(x, y):\n",
    "    try:\n",
    "        res = x / y\n",
    "        if res < 0:\n",
    "            raise NegativeResultError\n",
    "        else:\n",
    "            print(res)\n",
    "    except NegativeResultError:\n",
    "        print(\"There is a negative result!\")"
   ]
  },
  {
   "cell_type": "code",
   "execution_count": 9,
   "id": "9510da4a-70ca-4eda-97af-bbb7c14acf10",
   "metadata": {},
   "outputs": [
    {
     "name": "stdout",
     "output_type": "stream",
     "text": [
      "0.4\n"
     ]
    }
   ],
   "source": [
    "example_exceptions_2(2,5)"
   ]
  },
  {
   "cell_type": "code",
   "execution_count": 13,
   "id": "0989c0c2-efd8-4da1-8d50-3f2f7e067414",
   "metadata": {},
   "outputs": [
    {
     "name": "stdout",
     "output_type": "stream",
     "text": [
      "There is a negative result!\n"
     ]
    }
   ],
   "source": [
    "example_exceptions_2(2, -5)"
   ]
  },
  {
   "cell_type": "markdown",
   "id": "91456481-85fd-4441-a44a-220946ad2fb2",
   "metadata": {},
   "source": [
    "Lưu ý là dòng print bên trong class exception không được in ra, ngay cả khi ta raise nó. Do đó trường hợp đơn giản này cứ pass cái class này mà không cần in gì cả.\n",
    "\n",
    "Ngoài ra ta còn có thể tạo một vài loại exception khác nhau:"
   ]
  },
  {
   "cell_type": "code",
   "execution_count": 14,
   "id": "a82896e7-e541-475b-8761-5ffa1e6647f0",
   "metadata": {},
   "outputs": [],
   "source": [
    "class OutOfBoundsError(Exception):\n",
    "    pass\n",
    "\n",
    "class LessThanOneError(Exception):\n",
    "    pass\n",
    "\n",
    "def example_exceptions_3(x):\n",
    "    try:\n",
    "        if 3 < x < 16:\n",
    "            raise OutOfBoundsError\n",
    "        elif x < 1:\n",
    "            raise LessThanOneError\n",
    "        else:\n",
    "            print(x)\n",
    "    except OutOfBoundsError:\n",
    "        print(\"The value can't be between 3 and 16!\")\n",
    "    except LessThanOneError:\n",
    "        print(\"The value can't be less than 1!\")\n"
   ]
  },
  {
   "cell_type": "code",
   "execution_count": 15,
   "id": "dd139f9c-2882-41fb-98cc-13932b1471c2",
   "metadata": {},
   "outputs": [
    {
     "name": "stdout",
     "output_type": "stream",
     "text": [
      "2\n",
      "The value can't be between 3 and 16!\n",
      "The value can't be less than 1!\n"
     ]
    }
   ],
   "source": [
    "example_exceptions_3(2)    # 2\n",
    "example_exceptions_3(5)    # The value can't be between 3 and 16!\n",
    "example_exceptions_3(-10)  # The value can't be less than 1!"
   ]
  },
  {
   "cell_type": "markdown",
   "id": "c37c3ce8-c7bd-4e5b-a51a-1813dbc08643",
   "metadata": {},
   "source": [
    "### Specifying exception classes\n",
    "\n",
    "Ờ phía trên ta in thông báo lỗi bằng cách print trong block except. Tuy nhiên, ta có thể tạo message bên trong exception code bằng cách dùng `__str__` (và nên làm như vậy):"
   ]
  },
  {
   "cell_type": "code",
   "execution_count": 16,
   "id": "39257372-b896-4afe-8106-f763b74838c0",
   "metadata": {},
   "outputs": [],
   "source": [
    "class NotInBoundError(Exception):\n",
    "    def __str__(self):\n",
    "        return \"Wrong\"\n",
    "\n",
    "def example_exception_4(num):\n",
    "    try:\n",
    "        if not 57 < num < 150:\n",
    "            raise NotInBoundError\n",
    "        else:\n",
    "            print(num)\n",
    "    except NotInBoundError as err:\n",
    "        print(err)"
   ]
  },
  {
   "cell_type": "code",
   "execution_count": 17,
   "id": "c0cfe918-86d2-4fd6-8d6a-2707537aea85",
   "metadata": {},
   "outputs": [
    {
     "name": "stdout",
     "output_type": "stream",
     "text": [
      "Wrong\n"
     ]
    }
   ],
   "source": [
    "example_exception_4(200)"
   ]
  },
  {
   "cell_type": "markdown",
   "id": "6e433a4f-a232-4f0b-8d13-6d4779dbe6c4",
   "metadata": {},
   "source": [
    "*Để ý kĩ phần `except {class} as {variable}` construction. Nó giúp ta in ra message mà được specified bên trong class.*"
   ]
  },
  {
   "cell_type": "markdown",
   "id": "1dddaeb1-1fe1-42d3-9771-135813d7abec",
   "metadata": {},
   "source": [
    "`__str__` không phải là method duy nhất để specify exception. `__init__` cũng được dùng. Trong class dưới đây, `__init__` còn nhận argument để thêm vào trong message."
   ]
  },
  {
   "cell_type": "code",
   "execution_count": 18,
   "id": "c646c0be-435b-429d-8fc3-c494247db2e7",
   "metadata": {},
   "outputs": [],
   "source": [
    "class LessThanFiveHundredError(Exception):\n",
    "    def __init__(self, num):\n",
    "        self.message = \"The integer %s is less than 500!\" % str(num)\n",
    "        super().__init__(self.message)\n",
    "    \n",
    "def example_exception_5(num):\n",
    "    if num < 500:\n",
    "        raise LessThanFiveHundredError(num)\n",
    "    else:\n",
    "        print(num)"
   ]
  },
  {
   "cell_type": "code",
   "execution_count": 19,
   "id": "ef04af95-b439-41e1-bb84-67c329e8b4d5",
   "metadata": {},
   "outputs": [
    {
     "name": "stdout",
     "output_type": "stream",
     "text": [
      "501\n"
     ]
    },
    {
     "ename": "LessThanFiveHundredError",
     "evalue": "The integer 400 is less than 500!",
     "output_type": "error",
     "traceback": [
      "\u001b[0;31m---------------------------------------------------------------------------\u001b[0m",
      "\u001b[0;31mLessThanFiveHundredError\u001b[0m                  Traceback (most recent call last)",
      "\u001b[0;32m/tmp/ipykernel_4659/2841794772.py\u001b[0m in \u001b[0;36m<module>\u001b[0;34m\u001b[0m\n\u001b[1;32m      1\u001b[0m \u001b[0mexample_exception_5\u001b[0m\u001b[0;34m(\u001b[0m\u001b[0;36m501\u001b[0m\u001b[0;34m)\u001b[0m\u001b[0;34m\u001b[0m\u001b[0;34m\u001b[0m\u001b[0m\n\u001b[0;32m----> 2\u001b[0;31m \u001b[0mexample_exception_5\u001b[0m\u001b[0;34m(\u001b[0m\u001b[0;36m400\u001b[0m\u001b[0;34m)\u001b[0m\u001b[0;34m\u001b[0m\u001b[0;34m\u001b[0m\u001b[0m\n\u001b[0m",
      "\u001b[0;32m/tmp/ipykernel_4659/1402629970.py\u001b[0m in \u001b[0;36mexample_exception_5\u001b[0;34m(num)\u001b[0m\n\u001b[1;32m      6\u001b[0m \u001b[0;32mdef\u001b[0m \u001b[0mexample_exception_5\u001b[0m\u001b[0;34m(\u001b[0m\u001b[0mnum\u001b[0m\u001b[0;34m)\u001b[0m\u001b[0;34m:\u001b[0m\u001b[0;34m\u001b[0m\u001b[0;34m\u001b[0m\u001b[0m\n\u001b[1;32m      7\u001b[0m     \u001b[0;32mif\u001b[0m \u001b[0mnum\u001b[0m \u001b[0;34m<\u001b[0m \u001b[0;36m500\u001b[0m\u001b[0;34m:\u001b[0m\u001b[0;34m\u001b[0m\u001b[0;34m\u001b[0m\u001b[0m\n\u001b[0;32m----> 8\u001b[0;31m         \u001b[0;32mraise\u001b[0m \u001b[0mLessThanFiveHundredError\u001b[0m\u001b[0;34m(\u001b[0m\u001b[0mnum\u001b[0m\u001b[0;34m)\u001b[0m\u001b[0;34m\u001b[0m\u001b[0;34m\u001b[0m\u001b[0m\n\u001b[0m\u001b[1;32m      9\u001b[0m     \u001b[0;32melse\u001b[0m\u001b[0;34m:\u001b[0m\u001b[0;34m\u001b[0m\u001b[0;34m\u001b[0m\u001b[0m\n\u001b[1;32m     10\u001b[0m         \u001b[0mprint\u001b[0m\u001b[0;34m(\u001b[0m\u001b[0mnum\u001b[0m\u001b[0;34m)\u001b[0m\u001b[0;34m\u001b[0m\u001b[0;34m\u001b[0m\u001b[0m\n",
      "\u001b[0;31mLessThanFiveHundredError\u001b[0m: The integer 400 is less than 500!"
     ]
    }
   ],
   "source": [
    "example_exception_5(501)\n",
    "example_exception_5(400)"
   ]
  }
 ],
 "metadata": {
  "kernelspec": {
   "display_name": "Python 3 (ipykernel)",
   "language": "python",
   "name": "python3"
  },
  "language_info": {
   "codemirror_mode": {
    "name": "ipython",
    "version": 3
   },
   "file_extension": ".py",
   "mimetype": "text/x-python",
   "name": "python",
   "nbconvert_exporter": "python",
   "pygments_lexer": "ipython3",
   "version": "3.8.12"
  }
 },
 "nbformat": 4,
 "nbformat_minor": 5
}
