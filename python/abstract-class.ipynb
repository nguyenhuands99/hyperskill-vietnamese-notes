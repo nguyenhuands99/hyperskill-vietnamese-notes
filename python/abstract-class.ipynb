{
 "cells": [
  {
   "cell_type": "markdown",
   "source": [
    "# LỚP TRỪU TƯỢNG\n",
    "(Abstract Class)\n",
    "\n",
    "Giả sử, mình muốn tạo một game nhập vai, và bạn đã nghĩ ra rất nhiều class nhân vật và muốn định nghĩa các action của các nhân vật đó. Tất cả các nhân vật cần phải làm những thứ như: tương tác với các thực thể, khám phá, chiến đấu, hát hò,... nhưng đồng thời cách thức mà các hoạt động được thực hiện phụ thuộc vào tính chất nhân vật.\n",
    "\n",
    "Trong thực tế, chúng ta cần tạo một class cho mỗi nhân vật và định nghĩa phương thức tương ứng. Để làm quy trình này được gọn gàng, có cấu trúc thì bạn nên dùng **abstract class**.\n",
    "\n",
    "## Lớp trừu tượng là gì\n",
    " \n",
    "**Abstract class** là một template mà có thể sử dụng để tạo ra các class khác. Khi có template, ta không làm việc trực tiếp lên template mà dựa trên nó để tạo ra đối tượng, và làm việc với chúng. Abstract class hoạt động dựa trên cơ chế đó.\n",
    "\n",
    "Vậy cuối cùng điều gì làm class trở nên trừu tượng?\n",
    "\n",
    "Chúng ta không thể tạo một instance từ class này. Vì abstract class như một blueprint, nên tạo instance từ đó không hề hợp lý một tý nào. Ngoài ra một chức năng của abstract class là nó có **abstract method**. Nó là method mà không cái cài đặt gì bên trong mà chỉ được declared với `@abstractmethod` decorator.\n",
    "\n",
    "Vậy mục đích của nó là gì khi nó chả có đối tượng cũng như chả cả chức năng cụ thể. Nó sinh ra để định nghĩa cấu trúc và chức năng của class khác. Abstract class được dùng như parent class hay base class. *Tất cả các abstract method định nghĩa ở abstract class nên được định nghĩa ở class con.*\n",
    "\n",
    "> Lưu ý rằng mặc dù abstract class thường không có implementation, nó hoàn toàn có thể implemented. Tuy nhiên bạn vẫn cần phải override meothod này trong lớp con, vì vậy implement ở abstract method không hợp lý chút nào.\n",
    "\n",
    "Quay trở về game nhập vai ở đầu bài như 1 ví dụ, ta có thể tạo abstract class nhân vật chứa các abstract method và cuối cùng tạo các class nhân vật con cụ thể.\n",
    "\n",
    "## Làm sao để tạo một lớp trừu tượng\n",
    "\n",
    "Đầu tiên để tạo abstract class, ta cần dùng `abc` module (import vào code). `abc` viết tắt của **a**bstract **b**ase **c**lass. \n",
    "\n",
    "Bước đầu tiên là viết lớp abstract: nó cần phải được kế thừa tử lớp `ABC` (thuộc module `abc`).\n"
   ],
   "metadata": {}
  },
  {
   "cell_type": "code",
   "execution_count": null,
   "source": [
    "\n",
    "from abc import ABC, abstractmethod\n",
    "\n",
    "class Player(ABC):\n",
    "    pass"
   ],
   "outputs": [],
   "metadata": {}
  },
  {
   "cell_type": "markdown",
   "source": [
    "\n",
    "Chửa đủ, cần thêm abstract method:\n"
   ],
   "metadata": {}
  },
  {
   "cell_type": "code",
   "execution_count": 1,
   "source": [
    "from abc import ABC, abstractmethod\n",
    "\n",
    "class Player(ABC):\n",
    "    def __init__(self, name, rank, level):\n",
    "        self.name = name\n",
    "        self.rank = rank\n",
    "        self.level = level\n",
    "        super().__init__()\n",
    "\n",
    "    @abstractmethod\n",
    "    def fight(self):\n",
    "        ...\n",
    "    \n",
    "    @abstractmethod\n",
    "    def do_spell(self):\n",
    "        ...\n",
    "\n",
    "\n",
    "    def sing_song(self):\n",
    "        print(\"No song for me!\")\n"
   ],
   "outputs": [],
   "metadata": {}
  },
  {
   "cell_type": "markdown",
   "source": [
    "\n",
    "Bây giờ, thì đây chính thức là một abstract class - kế thừa từ `ABC` và có abstract method.\n",
    "\n",
    "> Lưu ý rằng không phải tất cả các method trong abstract class phải là abstract method. Trong abstract class, chỉ có các method \"bắt buộc\" mới cần abstract bởi vì những method này cần được overriden trong lớp con.\n",
    "\n",
    "Nếu bạn thử tạo instance từ abstract class lúc này sẽ báo lỗi `TypeError`\n"
   ],
   "metadata": {}
  },
  {
   "cell_type": "code",
   "execution_count": 2,
   "source": [
    "\n",
    "some_player = Player('Ola', 3,3)\n",
    "\n",
    "# TypeError: Can't instantiate abstract class Player with abstract methods do_spell, fight\n"
   ],
   "outputs": [
    {
     "output_type": "error",
     "ename": "TypeError",
     "evalue": "Can't instantiate abstract class Player with abstract methods do_spell, fight",
     "traceback": [
      "\u001b[0;31m---------------------------------------------------------------------------\u001b[0m",
      "\u001b[0;31mTypeError\u001b[0m                                 Traceback (most recent call last)",
      "\u001b[0;32m<ipython-input-2-df5796c841ef>\u001b[0m in \u001b[0;36m<module>\u001b[0;34m\u001b[0m\n\u001b[0;32m----> 1\u001b[0;31m \u001b[0msome_player\u001b[0m \u001b[0;34m=\u001b[0m \u001b[0mPlayer\u001b[0m\u001b[0;34m(\u001b[0m\u001b[0;34m'Ola'\u001b[0m\u001b[0;34m,\u001b[0m \u001b[0;36m3\u001b[0m\u001b[0;34m,\u001b[0m\u001b[0;36m3\u001b[0m\u001b[0;34m)\u001b[0m\u001b[0;34m\u001b[0m\u001b[0;34m\u001b[0m\u001b[0m\n\u001b[0m\u001b[1;32m      2\u001b[0m \u001b[0;34m\u001b[0m\u001b[0m\n\u001b[1;32m      3\u001b[0m \u001b[0;31m# TypeError: Can't instantiate abstract class Player with abstract methods do_spell, fight\u001b[0m\u001b[0;34m\u001b[0m\u001b[0;34m\u001b[0m\u001b[0;34m\u001b[0m\u001b[0m\n",
      "\u001b[0;31mTypeError\u001b[0m: Can't instantiate abstract class Player with abstract methods do_spell, fight"
     ]
    }
   ],
   "metadata": {}
  },
  {
   "cell_type": "markdown",
   "source": [
    "\n",
    "## Subclasses\n",
    "\n",
    "Bước tiếp theo, từ template tạo một loại nhân vật. Bắt đầu thử với `Warrior`:\n"
   ],
   "metadata": {}
  },
  {
   "cell_type": "code",
   "execution_count": 3,
   "source": [
    "\n",
    "class Warrior(Player):\n",
    "    def fight(self):\n",
    "        print('swing an ax')\n",
    "    \n",
    "    def do_spell(self):\n",
    "        print('increase weapon fatality')\n",
    "\n",
    "warrior = Warrior('Bran', 1, 1)\n",
    "\n",
    "warrior.fight()  # swing an ax\n",
    "warrior.do_spell()  # increase weapon fatality\n",
    "warrior.sing_song()  # No song for me!\n"
   ],
   "outputs": [
    {
     "output_type": "stream",
     "name": "stdout",
     "text": [
      "swing an ax\n",
      "increase weapon fatality\n",
      "No song for me!\n"
     ]
    }
   ],
   "metadata": {}
  },
  {
   "cell_type": "markdown",
   "source": [
    "\n",
    "Method `sing_song` mặc dù không được viết trong `Warrior` nhưng nó được kế thừa từ abstract class. Tuy nhiên bạn cũng có thể sửa lại nó trong một child class khác, `Bard` chẳng hạn:\n"
   ],
   "metadata": {}
  },
  {
   "cell_type": "code",
   "execution_count": 4,
   "source": [
    "\n",
    "class Bard(Player):\n",
    "    def fight(self):\n",
    "        print('smash the oponent with your lute')\n",
    "    \n",
    "    def do_spell(self):\n",
    "        print('enchant everyone with your tale')\n",
    "\n",
    "    def sing_song(self):\n",
    "        print('Sing a beautiful song!')\n",
    "        \n",
    "\n",
    "bard = Bard('Jaskier', 4,5 )\n",
    "\n",
    "bard.fight()  # smash the oponent with your lute\n",
    "\n",
    "bard.do_spell()  # enchant everyone with your tale\n",
    "\n",
    "bard.sing_song()  # Sing a beautiful song!  \n"
   ],
   "outputs": [
    {
     "output_type": "stream",
     "name": "stdout",
     "text": [
      "smash the oponent with your lute\n",
      "enchant everyone with your tale\n",
      "Sing a beautiful song!\n"
     ]
    }
   ],
   "metadata": {}
  },
  {
   "cell_type": "markdown",
   "source": [
    "\n",
    "## Tóm lại\n",
    "\n",
    "-   Abstract class dùng như một template cho các class khác\n",
    "-   Abstract class kế thừa từ class `ABC` của `abc` module và có abstract method\n",
    "-   Abstract method không có implementation, được đánh dấu bởi `@abstractmethod`\n",
    "-   Abstract method nên được overriden in child classes\n",
    "\n"
   ],
   "metadata": {}
  }
 ],
 "metadata": {
  "orig_nbformat": 4,
  "language_info": {
   "name": "python",
   "version": "3.8.11",
   "mimetype": "text/x-python",
   "codemirror_mode": {
    "name": "ipython",
    "version": 3
   },
   "pygments_lexer": "ipython3",
   "nbconvert_exporter": "python",
   "file_extension": ".py"
  },
  "kernelspec": {
   "name": "python3",
   "display_name": "Python 3.8.11 64-bit ('base': conda)"
  },
  "interpreter": {
   "hash": "8c41785d08d518d6063bd2cd334bc8e2fe211597cea3d9372d08927f9e7f72ef"
  }
 },
 "nbformat": 4,
 "nbformat_minor": 2
}