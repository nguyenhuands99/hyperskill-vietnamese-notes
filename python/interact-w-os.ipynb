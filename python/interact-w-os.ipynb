{
 "cells": [
  {
   "cell_type": "markdown",
   "metadata": {},
   "source": [
    "# TƯƠNG TÁC VỚI HỆ ĐIỀU HÀNH (INTERACTING WITH OS)\n",
    "\n"
   ]
  },
  {
   "cell_type": "markdown",
   "metadata": {},
   "source": [
    "\n",
    "## Tham số dòng lệnh (command line arguments)\n",
    "\n",
    "\n"
   ]
  },
  {
   "cell_type": "markdown",
   "metadata": {
    "tags": []
   },
   "source": [
    "\n",
    "## Mô đun OS (os module)\n"
   ]
  },
  {
   "cell_type": "markdown",
   "metadata": {},
   "source": [
    "Đôi khi khi làm việc chương trình, chúng ta muốn tương tác với hệ điều hành cũng như muốn truy \n",
    "cập các chức năng của HĐH. Tuy nhiên, rõ ràng là có sự khác nhau giữa các HĐH: các command khác nhau, pathname cũng khác (Linux, macOS thì `/`, Windows thì `\\`),... Do đó, việc có một tool có thể work với bất kỳ OS mà ta không cần phải xử lý bằng tay những thứ như vậy. Python cung cấp một built-in module đó là `os` cho việc work với file và directory và `os.path` cho việc xử lý path từ những system khác nhau. \n",
    "\n",
    "Ta sẽ cover những thứ cơ bản nhất của 2 module này.\n",
    "\n",
    "### os\n",
    "\n",
    "**Current working directory**: tùy vào system của bạn mà `os.getcwd()` sẽ trả về path sao cho phù hợp:"
   ]
  },
  {
   "cell_type": "code",
   "execution_count": 1,
   "metadata": {},
   "outputs": [],
   "source": [
    "import os"
   ]
  },
  {
   "cell_type": "code",
   "execution_count": 1,
   "metadata": {},
   "outputs": [
    {
     "name": "stdout",
     "output_type": "stream",
     "text": [
      "The current working directory:  /huanpool/hyperskill-vietnamese-notes/python\n"
     ]
    }
   ],
   "source": [
    "print('The current working directory: ', os.getcwd())"
   ]
  },
  {
   "cell_type": "markdown",
   "metadata": {},
   "source": [
    "**changing the directory**: dùng absolute path cho tham số của hàm `os.chdir()`"
   ]
  },
  {
   "cell_type": "code",
   "execution_count": 3,
   "metadata": {},
   "outputs": [
    {
     "name": "stdout",
     "output_type": "stream",
     "text": [
      "Now our current directory:  /home/huan\n"
     ]
    }
   ],
   "source": [
    "os.chdir('/home/huan/')\n",
    "print('Now our current directory: ', os.getcwd())"
   ]
  },
  {
   "cell_type": "markdown",
   "metadata": {},
   "source": [
    "**creating directories**: Có 2 function thực hiện điều này `os.mkdir()` và `os.makedirs()`.\n",
    "- `os.mkdir()` hoạt động khá giống với command *mkdir* trong Unix, nó tạo một directory. Ta có thể cung cấp đầy đủ absolute path hoặc chỉ cần tên của folder mới thôi (khi đó sẽ tạo trong thư mục hiện tại).\n",
    "- `os.makedirs()` hoạt động khá giống với command *mkdir -p* trong Unix, nó tạo nhiều directories (hay cụ thể là nested directories)"
   ]
  },
  {
   "cell_type": "markdown",
   "metadata": {},
   "source": [
    "**folder content**: Để list content của một directory hay đổi tên nó, ta có 2 function là `os.listdir()` và `os.rename()`:\n",
    "- `os.listdir()` hoạt động giống như *ls* trong Unix, trả về một list các files và folders trong directory, nếu không chỉ rõ thì nó sẽ list trong current directory."
   ]
  },
  {
   "cell_type": "code",
   "execution_count": 4,
   "metadata": {},
   "outputs": [
    {
     "data": {
      "text/plain": [
       "['.bash_logout',\n",
       " '.t',\n",
       " '.lesshst',\n",
       " 'my_library.dir',\n",
       " '.inputrc',\n",
       " 'Dropbox',\n",
       " '.cache',\n",
       " '.local',\n",
       " '.wget-hsts',\n",
       " 'Public',\n",
       " '.npm',\n",
       " '.mozilla',\n",
       " '.bashrc',\n",
       " '.ssh',\n",
       " '.config',\n",
       " '.nvm',\n",
       " '.ipython',\n",
       " '.cargo',\n",
       " '.pcloud',\n",
       " 'Videos',\n",
       " 'pCloudDrive',\n",
       " '.ICEauthority',\n",
       " '.conda',\n",
       " '.vscode',\n",
       " '.tldr',\n",
       " '.sudo_as_admin_successful',\n",
       " '.themes',\n",
       " '.fzf.bash',\n",
       " 'government-finance-statistics-general-government-year-ended-june-2019-csv.csv',\n",
       " '.pam_environment',\n",
       " 'Music',\n",
       " 'Documents',\n",
       " '.pki',\n",
       " '.rustup',\n",
       " 'Desktop',\n",
       " '.python_history-11880.tmp',\n",
       " 'rtw88',\n",
       " '.dropbox-dist',\n",
       " 'snap',\n",
       " 'totnghiep',\n",
       " '.bashrc.bak',\n",
       " 'anaconda3',\n",
       " '.zoom',\n",
       " 'my_library.dat',\n",
       " 'hyperskill-projects',\n",
       " '.bash_history',\n",
       " '.gnupg',\n",
       " '.nvidia-settings-rc',\n",
       " '.bash_it',\n",
       " '.fzf',\n",
       " '.dropbox',\n",
       " '.profile',\n",
       " 'Templates',\n",
       " 'Pictures',\n",
       " '.condarc',\n",
       " 'my_library.bak',\n",
       " '.var',\n",
       " '.java',\n",
       " '.bash_aliases',\n",
       " '.jupyter',\n",
       " '.gitconfig',\n",
       " '.python_history-07405.tmp',\n",
       " '.ideavimrc',\n",
       " '.tmux.conf',\n",
       " 'Downloads',\n",
       " '.python_history',\n",
       " 'Applications',\n",
       " '.xinputrc']"
      ]
     },
     "execution_count": 4,
     "metadata": {},
     "output_type": "execute_result"
    }
   ],
   "source": [
    "os.listdir()"
   ]
  },
  {
   "cell_type": "markdown",
   "metadata": {},
   "source": [
    "- `os.rename` đổi tên file/ directory."
   ]
  },
  {
   "cell_type": "code",
   "execution_count": 5,
   "metadata": {},
   "outputs": [],
   "source": [
    "os.rename('my_library.dir', 'my_big_lib.dir')"
   ]
  },
  {
   "cell_type": "markdown",
   "metadata": {},
   "source": [
    "**access**: Để kiểm tra path đó có tồn tại hay không cũng như các permission (access right) của path đó. Function `os.access()` cho phép ta làm điều này, hàm nhận thêm một tham số gọi là mode: `os.F_OK` cho việc kiểm tra tồn tại, `os.R_OK` kiểm tra reading permission, `os.W_OK` và `os.X_OK` tương tự cho write và execute permission. Hàm trả về boolean value."
   ]
  },
  {
   "cell_type": "code",
   "execution_count": 6,
   "metadata": {},
   "outputs": [
    {
     "data": {
      "text/plain": [
       "True"
      ]
     },
     "execution_count": 6,
     "metadata": {},
     "output_type": "execute_result"
    }
   ],
   "source": [
    "os.access('Templates', os.F_OK)"
   ]
  },
  {
   "cell_type": "code",
   "execution_count": 7,
   "metadata": {},
   "outputs": [
    {
     "data": {
      "text/plain": [
       "False"
      ]
     },
     "execution_count": 7,
     "metadata": {},
     "output_type": "execute_result"
    }
   ],
   "source": [
    "os.access('my_big_lib.dir', os.X_OK)"
   ]
  },
  {
   "cell_type": "markdown",
   "metadata": {},
   "source": [
    "**remove directories and files**: Để xóa file và directory ta có 2 hàm lần lượt làm việc này là `os.remove()` và `os.rmdir()`"
   ]
  },
  {
   "cell_type": "markdown",
   "metadata": {},
   "source": [
    "### os.path"
   ]
  },
  {
   "cell_type": "markdown",
   "metadata": {},
   "source": [
    "`os.path` được dùng để manipulate paths. \n",
    "\n",
    "**Path components**: Trước tiên bắt đầu với 4 functions cho phép manipulate path component:\n",
    "- `os.path.join()` dùng để join các component để tạo thành một pathname mới (với pathname convention phù hợp với system mà ta sử dụng)."
   ]
  },
  {
   "cell_type": "code",
   "execution_count": 3,
   "metadata": {},
   "outputs": [
    {
     "name": "stdout",
     "output_type": "stream",
     "text": [
      "/huanpool/hyperskill-vietnamese-notes/python/new_dir\n"
     ]
    }
   ],
   "source": [
    "print(os.path.join(os.getcwd(), 'new_dir'))"
   ]
  },
  {
   "cell_type": "markdown",
   "metadata": {},
   "source": [
    "- `os.path.split()` để split pathname thành tuple *(head, tail)* trong đó *tail* là component cuối của pathname và *head* là tất cả những gì trước last component."
   ]
  },
  {
   "cell_type": "code",
   "execution_count": 5,
   "metadata": {},
   "outputs": [
    {
     "name": "stdout",
     "output_type": "stream",
     "text": [
      "('/huanpool/hyperskill-vietnamese-notes', 'python')\n"
     ]
    }
   ],
   "source": [
    "print(os.path.split(os.getcwd()))"
   ]
  },
  {
   "cell_type": "markdown",
   "metadata": {},
   "source": [
    "- `os.path.dirname()` trả về directory của path đó (tức *head*). `os.path.basename()` trả về file name hoặc phần directory cuối (*tail*)."
   ]
  },
  {
   "cell_type": "code",
   "execution_count": 7,
   "metadata": {},
   "outputs": [
    {
     "name": "stdout",
     "output_type": "stream",
     "text": [
      "/huanpool/hyperskill-vietnamese-notes\n"
     ]
    }
   ],
   "source": [
    "print(os.path.dirname(os.getcwd()))"
   ]
  },
  {
   "cell_type": "code",
   "execution_count": 9,
   "metadata": {},
   "outputs": [
    {
     "name": "stdout",
     "output_type": "stream",
     "text": [
      "python\n"
     ]
    }
   ],
   "source": [
    "print(os.path.basename(os.getcwd()))"
   ]
  },
  {
   "cell_type": "markdown",
   "metadata": {},
   "source": [
    "**Path's validity**: `os.path` cung cấp một số hàm để check path là absolute hay relative, hay đó là file hay directory."
   ]
  },
  {
   "cell_type": "markdown",
   "metadata": {},
   "source": [
    "- `os.path.isabs()` để kiểm tra absolute path"
   ]
  },
  {
   "cell_type": "code",
   "execution_count": 12,
   "metadata": {},
   "outputs": [
    {
     "data": {
      "text/plain": [
       "False"
      ]
     },
     "execution_count": 12,
     "metadata": {},
     "output_type": "execute_result"
    }
   ],
   "source": [
    "os.path.isdir('~')"
   ]
  },
  {
   "cell_type": "markdown",
   "metadata": {},
   "source": [
    "- `os.path.isdir()` để kiểm tra path refer to directory hay không"
   ]
  },
  {
   "cell_type": "code",
   "execution_count": 10,
   "metadata": {},
   "outputs": [
    {
     "data": {
      "text/plain": [
       "True"
      ]
     },
     "execution_count": 10,
     "metadata": {},
     "output_type": "execute_result"
    }
   ],
   "source": [
    "os.path.isdir(os.getcwd())"
   ]
  },
  {
   "cell_type": "markdown",
   "metadata": {},
   "source": [
    "- `os.path.isfile()` để kiểm tra path refer to file hay không"
   ]
  },
  {
   "cell_type": "code",
   "execution_count": 13,
   "metadata": {},
   "outputs": [
    {
     "data": {
      "text/plain": [
       "True"
      ]
     },
     "execution_count": 13,
     "metadata": {},
     "output_type": "execute_result"
    }
   ],
   "source": [
    "os.path.isfile('/home/huan/.bashrc')"
   ]
  },
  {
   "cell_type": "markdown",
   "metadata": {
    "jp-MarkdownHeadingCollapsed": true,
    "tags": []
   },
   "source": [
    "## Mô đun argparse (argparse module)\n",
    "\n",
    "Mô đun `argparse` giúp pass tham số qua command line và gán tên cho các tham số này, tự động generate messages cho từng tham số cũng như hướng dẫn sử dụng tham số cho chương trình python.\n",
    "\n",
    "Ví dụ ở đây ta sẽ viết chương trình minh họa `recipe_book.py` nhận tối đa 5 arguments (tức ingredient) và in ra recipe của món ăn có thể nấu với các ingredients đó."
   ]
  },
  {
   "cell_type": "markdown",
   "metadata": {},
   "source": [
    "### Getting started\n",
    "\n",
    "Mô đun được import qua tên `argparse` và tiếp đến ta sẽ tạo object là `ArgumentParser` sẽ lưu tất cả các thông tin về các argument:"
   ]
  },
  {
   "cell_type": "code",
   "execution_count": 2,
   "metadata": {},
   "outputs": [],
   "source": [
    "import argparse\n",
    "\n",
    "parser = argparse.ArgumentParser(description=\"This program prints recipes\\\n",
    "    consisting of the ingredients you provided.\")"
   ]
  },
  {
   "cell_type": "markdown",
   "metadata": {},
   "source": [
    "### Thêm arguments\n",
    "\n",
    "Có 2 loại argument để thêm: positional argument và optional argement. Optional argument cần được gọi kèm prefix (1 dash hoặc 2 dash: `-` thường đi với 1 chữ cái cho gọn, `--` thì ghi rõ ra). Positional argument chỉ những argument mà dùng không cần có prefix để chỉ\n"
   ]
  },
  {
   "cell_type": "code",
   "execution_count": 3,
   "metadata": {},
   "outputs": [
    {
     "data": {
      "text/plain": [
       "_StoreAction(option_strings=[], dest='ingredient_1', nargs=None, const=None, default=None, type=None, choices=None, help=None, metavar=None)"
      ]
     },
     "execution_count": 3,
     "metadata": {},
     "output_type": "execute_result"
    }
   ],
   "source": [
    "parser.add_argument(\"-i1\", \"--ingredient_1\")\n",
    "\n",
    "parser.add_argument(\"ingredient_1\")"
   ]
  },
  {
   "cell_type": "markdown",
   "metadata": {},
   "source": [
    "`add_argument()` có rất nhiều tham số hữu ích, nhưng ở đây chúng ta chỉ nói đến một số tham số thường được dùng như `action`, `default`. `action` liên quan đến hành động mà ta sẽ làm với tham số này, mặc định thì nó chỉ lưu giá trị của argument, nhưng mà ta cũng có thể thay đổi ví dụ như lưu mặc định giá trị `True` cho nó như ví dụ dưới đây. Mặt khác, với tham số `defaul` ta cũng có thể làm được điều tương tự:"
   ]
  },
  {
   "cell_type": "code",
   "execution_count": 4,
   "metadata": {},
   "outputs": [
    {
     "data": {
      "text/plain": [
       "_StoreAction(option_strings=['--pepper'], dest='pepper', nargs=None, const=None, default=False, type=None, choices=None, help=None, metavar=None)"
      ]
     },
     "execution_count": 4,
     "metadata": {},
     "output_type": "execute_result"
    }
   ],
   "source": [
    "parser.add_argument(\"--salt\", action=\"store_true\")\n",
    "\n",
    "# The same can be achieved by: (e.g with pepper)\n",
    "parser.add_argument(\"--pepper\", default=False)"
   ]
  },
  {
   "cell_type": "markdown",
   "metadata": {},
   "source": [
    "Vì lý do chương trình cũng nhỏ nên tốt nhất ta nên giới hạn lại các loại ingredient mà các tham số có thẻ nhận:"
   ]
  },
  {
   "cell_type": "code",
   "execution_count": 5,
   "metadata": {},
   "outputs": [
    {
     "data": {
      "text/plain": [
       "_StoreAction(option_strings=['-i2', '--ingredient_2'], dest='ingredient_2', nargs=None, const=None, default=None, type=None, choices=['pasta', 'garlic', 'rice', 'onion', 'carrot', 'soy_sauce', 'tomato_sauce'], help='You need to choose only one ingredient from the list.', metavar=None)"
      ]
     },
     "execution_count": 5,
     "metadata": {},
     "output_type": "execute_result"
    }
   ],
   "source": [
    "parser.add_argument(\"-i2\", \"--ingredient_2\",\n",
    "                    choices=['pasta', 'garlic', 'rice', 'onion', 'carrot', 'soy_sauce', 'tomato_sauce'],\n",
    "                    help='You need to choose only one ingredient from the list.')"
   ]
  },
  {
   "cell_type": "markdown",
   "metadata": {},
   "source": [
    "Tham số `choices` sẽ show các giá trị có thể chấp nhận với argument nào đó, trong khi `help` là tam số giúp display một short description cho argument."
   ]
  },
  {
   "cell_type": "markdown",
   "metadata": {},
   "source": [
    "### Parsing arguments\n",
    "\n",
    "Hàm `parse_args()` được dùng để đọc các argument string từ command line. Sau đó ta có thể dễ dàng truy xuất các argument để tiếp tục sự dụng trong chương trình của mình:"
   ]
  },
  {
   "cell_type": "code",
   "execution_count": 8,
   "metadata": {},
   "outputs": [
    {
     "name": "stderr",
     "output_type": "stream",
     "text": [
      "usage: ipykernel_launcher.py [-h] [-i1 INGREDIENT_1] [--salt]\n",
      "                             [--pepper PEPPER]\n",
      "                             [-i2 {pasta,garlic,rice,onion,carrot,soy_sauce,tomato_sauce}]\n",
      "                             ingredient_1\n",
      "ipykernel_launcher.py: error: the following arguments are required: ingredient_1\n"
     ]
    },
    {
     "ename": "SystemExit",
     "evalue": "2",
     "output_type": "error",
     "traceback": [
      "An exception has occurred, use %tb to see the full traceback.\n",
      "\u001b[0;31mSystemExit\u001b[0m\u001b[0;31m:\u001b[0m 2\n"
     ]
    }
   ],
   "source": [
    "args = parser.parse_args()\n",
    "\n",
    "# We can print them to see, of course only we actually run the file and pass string arg\n",
    "# print(args.ingredient_1)\n",
    "# print(args.salt) "
   ]
  },
  {
   "cell_type": "markdown",
   "metadata": {},
   "source": [
    "**Note**: \n",
    "\n",
    "*Ta không thể dùng short version của argument để truy xuất giá trị của chúng được*"
   ]
  },
  {
   "cell_type": "markdown",
   "metadata": {},
   "source": [
    "Và chương trình của chúng ta có thể được viết đại loại như vầy:"
   ]
  },
  {
   "cell_type": "code",
   "execution_count": 9,
   "metadata": {},
   "outputs": [
    {
     "name": "stderr",
     "output_type": "stream",
     "text": [
      "usage: ipykernel_launcher.py [-h]\n",
      "                             [-i1 {pasta,rice,potato,onion,garlic,carrot,soy_sauce,tomato_sauce}]\n",
      "                             [-i2 {pasta,rice,potato,onion,garlic,carrot,soy_sauce,tomato_sauce}]\n",
      "                             [-i3 {pasta,rice,potato,onion,garlic,carrot,soy_sauce,tomato_sauce}]\n",
      "                             [-i4 {pasta,rice,potato,onion,garlic,carrot,soy_sauce,tomato_sauce}]\n",
      "                             [-i5 {pasta,rice,potato,onion,garlic,carrot,soy_sauce,tomato_sauce}]\n",
      "                             [--salt] [--pepper PEPPER]\n",
      "ipykernel_launcher.py: error: unrecognized arguments: --ip=127.0.0.1 --stdin=9003 --control=9001 --hb=9000 --Session.signature_scheme=\"hmac-sha256\" --Session.key=b\"fb18299f-ca4d-4aaf-a5c1-4e358064b112\" --shell=9002 --transport=\"tcp\" --iopub=9004 --f=/tmp/tmp-24496PrYwm4IwNDa2.json\n"
     ]
    },
    {
     "ename": "SystemExit",
     "evalue": "2",
     "output_type": "error",
     "traceback": [
      "An exception has occurred, use %tb to see the full traceback.\n",
      "\u001b[0;31mSystemExit\u001b[0m\u001b[0;31m:\u001b[0m 2\n"
     ]
    }
   ],
   "source": [
    "import argparse\n",
    "\n",
    "\n",
    "parser = argparse.ArgumentParser(description=\"This program prints recipes \\\n",
    "consisting of the ingredients you provide.\")\n",
    "\n",
    "parser.add_argument(\"-i1\", \"--ingredient_1\", choices=[\"pasta\", \"rice\", \"potato\",\n",
    "                    \"onion\", \"garlic\", \"carrot\", \"soy_sauce\", \"tomato_sauce\"],\n",
    "                    help=\"You need to choose only one ingredient from the list.\")\n",
    "parser.add_argument(\"-i2\", \"--ingredient_2\", choices=[\"pasta\", \"rice\", \"potato\",\n",
    "                    \"onion\", \"garlic\", \"carrot\", \"soy_sauce\", \"tomato_sauce\"],\n",
    "                    help=\"You need to choose only one ingredient from the list.\")\n",
    "parser.add_argument(\"-i3\", \"--ingredient_3\", choices=[\"pasta\", \"rice\", \"potato\",\n",
    "                    \"onion\", \"garlic\", \"carrot\", \"soy_sauce\", \"tomato_sauce\"],\n",
    "                    help=\"You need to choose only one ingredient from the list.\")\n",
    "parser.add_argument(\"-i4\", \"--ingredient_4\", choices=[\"pasta\", \"rice\", \"potato\",\n",
    "                    \"onion\", \"garlic\", \"carrot\", \"soy_sauce\", \"tomato_sauce\"],\n",
    "                    help=\"You need to choose only one ingredient from the list.\")\n",
    "parser.add_argument(\"-i5\", \"--ingredient_5\", choices=[\"pasta\", \"rice\", \"potato\",\n",
    "                    \"onion\", \"garlic\", \"carrot\", \"soy_sauce\", \"tomato_sauce\"],\n",
    "                    help=\"You need to choose only one ingredient from the list.\")\n",
    "\n",
    "parser.add_argument(\"--salt\", action=\"store_true\",\n",
    "                    help=\"Specify if you'd like to use salt in your recipe.\")\n",
    "parser.add_argument(\"--pepper\", default=\"False\",\n",
    "                    help=\"Change to 'True' if you'd like to use pepper in your recipe.\")\n",
    "\n",
    "args = parser.parse_args()\n",
    "\n",
    "ingredients = [args.ingredient_1, args.ingredient_2, args.ingredient_3,\n",
    "               args.ingredient_4, args.ingredient_5]\n",
    "if args.salt:\n",
    "    ingredients.append(\"salt\")\n",
    "if args.pepper == \"True\":\n",
    "    ingredients.append(\"pepper\")\n",
    "\n",
    "print(f\"The ingredients you provided are: {ingredients}\")\n",
    "\n",
    "\n",
    "def find_a_recipe(ingredients):\n",
    "    ...\n",
    "    # processes the input and returns a recipe depending on the provided ingredients"
   ]
  },
  {
   "cell_type": "markdown",
   "metadata": {},
   "source": [
    "### Ví dụ khi chạy chương trình"
   ]
  },
  {
   "cell_type": "markdown",
   "metadata": {},
   "source": [
    "Khi chạy chương trình ta gọi như bình thường như cách run một chương trình python và thêm vào các argument sau đó, có thể dùng dấu `=` hoặc khoảng trắng để gán giá trị của argument."
   ]
  },
  {
   "cell_type": "code",
   "execution_count": null,
   "metadata": {},
   "outputs": [],
   "source": [
    "python recipe_book.py -i1 rice -i2 onion -i3 garlic -i4 carrot -i5 tomato_sauce --salt\n",
    "# The ingredients you provided are: ['rice', 'onion', 'garlic', 'carrot', 'tomato_sauce', 'salt']\n",
    "# <The description of the available recipe>"
   ]
  },
  {
   "cell_type": "code",
   "execution_count": null,
   "metadata": {},
   "outputs": [],
   "source": [
    "python recipe_book.py -i1=pasta -i2=garlic -i3=tomato_sauce --salt --pepper=\"True\"\n",
    "# The ingredients you provided are: ['pasta', 'garlic', 'tomato_sauce', None, None, 'salt', 'pepper']\n",
    "# <The description of the available recipe>"
   ]
  },
  {
   "cell_type": "code",
   "execution_count": null,
   "metadata": {},
   "outputs": [],
   "source": [
    "python recipe_book.py -i1 bread -i2 onion -i3 garlic -i4 carrot -i5 tomato_sauce --salt\n",
    "# usage: recipe_book.py [-h]\n",
    "#                       [-i1 {pasta,rice,potato,onion,garlic,carrot,soy_sauce,tomato_sauce}]\n",
    "#                       [-i2 {pasta,rice,potato,onion,garlic,carrot,soy_sauce,tomato_sauce}]\n",
    "#                       [-i3 {pasta,rice,potato,onion,garlic,carrot,soy_sauce,tomato_sauce}]\n",
    "#                       [-i4 {pasta,rice,potato,onion,garlic,carrot,soy_sauce,tomato_sauce}]\n",
    "#                       [-i5 {pasta,rice,potato,onion,garlic,carrot,soy_sauce,tomato_sauce}]\n",
    "#                       [--salt] [--pepper PEPPER]\n",
    "# recipe_book.py: error: argument -i1/--ingredient_1: invalid choice: 'bread'\n",
    "# (choose from 'pasta', 'rice', 'potato', 'onion', 'garlic', 'carrot', 'soy_sauce', 'tomato_sauce')"
   ]
  },
  {
   "cell_type": "markdown",
   "metadata": {},
   "source": [
    "Nếu như ta chạy chương trình với tham số `--help` hoặc `-h` thì nội dung trong tham số `help` của `add_argumemt` sẽ được display kèm với nội dung được automatically generated bởi mô đun `argparse`."
   ]
  },
  {
   "cell_type": "code",
   "execution_count": null,
   "metadata": {},
   "outputs": [],
   "source": [
    "python recipe_book.py --help\n",
    "# usage: recipe_book.py [-h]\n",
    "#                       [-i1 {pasta,rice,potato,onion,garlic,carrot,soy_sauce,tomato_sauce}]\n",
    "#                       [-i2 {pasta,rice,potato,onion,garlic,carrot,soy_sauce,tomato_sauce}]\n",
    "#                       [-i3 {pasta,rice,potato,onion,garlic,carrot,soy_sauce,tomato_sauce}]\n",
    "#                       [-i4 {pasta,rice,potato,onion,garlic,carrot,soy_sauce,tomato_sauce}]\n",
    "#                       [-i5 {pasta,rice,potato,onion,garlic,carrot,soy_sauce,tomato_sauce}]\n",
    "#                       [--salt] [--pepper PEPPER]\n",
    "# \n",
    "# This program prints recipes consisting of the ingredients you provide.\n",
    "# \n",
    "# optional arguments:\n",
    "#   -h, --help            show this help message and exit\n",
    "#   -i1 {pasta,rice,potato,onion,garlic,carrot,soy_sauce,tomato_sauce}, --ingredient_1\n",
    "# {pasta,rice,potato,onion,garlic,carrot,soy_sauce,tomato_sauce}\n",
    "#                         You need to choose only one ingredient from the list.\n",
    "#   -i2 {pasta,rice,potato,onion,garlic,carrot,soy_sauce,tomato_sauce}, --ingredient_2\n",
    "# {pasta,rice,potato,onion,garlic,carrot,soy_sauce,tomato_sauce}\n",
    "#                         You need to choose only one ingredient from the list.\n",
    "#   -i3 {pasta,rice,potato,onion,garlic,carrot,soy_sauce,tomato_sauce}, --ingredient_3\n",
    "# {pasta,rice,potato,onion,garlic,carrot,soy_sauce,tomato_sauce}\n",
    "#                         You need to choose only one ingredient from the list.\n",
    "#   -i4 {pasta,rice,potato,onion,garlic,carrot,soy_sauce,tomato_sauce}, --ingredient_4\n",
    "# {pasta,rice,potato,onion,garlic,carrot,soy_sauce,tomato_sauce}\n",
    "#                         You need to choose only one ingredient from the list.\n",
    "#   -i5 {pasta,rice,potato,onion,garlic,carrot,soy_sauce,tomato_sauce}, --ingredient_5\n",
    "# {pasta,rice,potato,onion,garlic,carrot,soy_sauce,tomato_sauce}\n",
    "#                         You need to choose only one ingredient from the list.\n",
    "#   --salt                Specify if you'd like to use salt in your recipe.\n",
    "#   --pepper              Change to 'True' if you'd like to use pepper in your recipe."
   ]
  }
 ],
 "metadata": {
  "interpreter": {
   "hash": "8c41785d08d518d6063bd2cd334bc8e2fe211597cea3d9372d08927f9e7f72ef"
  },
  "kernelspec": {
   "display_name": "Python 3 (ipykernel)",
   "language": "python",
   "name": "python3"
  },
  "language_info": {
   "codemirror_mode": {
    "name": "ipython",
    "version": 3
   },
   "file_extension": ".py",
   "mimetype": "text/x-python",
   "name": "python",
   "nbconvert_exporter": "python",
   "pygments_lexer": "ipython3",
   "version": "3.8.12"
  }
 },
 "nbformat": 4,
 "nbformat_minor": 4
}
