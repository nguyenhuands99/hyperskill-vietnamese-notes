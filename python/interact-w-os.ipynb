{
 "cells": [
  {
   "cell_type": "markdown",
   "source": [
    "# TƯƠNG TÁC VỚI HỆ ĐIỀU HÀNH (INTERACTING WITH OS)\n",
    "\n"
   ],
   "metadata": {}
  },
  {
   "cell_type": "markdown",
   "source": [
    "\n",
    "## Tham số dòng lệnh (command lin arguments)\n",
    "\n",
    "\n"
   ],
   "metadata": {}
  },
  {
   "cell_type": "markdown",
   "source": [
    "\n",
    "## Mô đun OS (os module)\n"
   ],
   "metadata": {}
  },
  {
   "cell_type": "markdown",
   "source": [
    "## Mô đun argparse (argparse module)\n",
    "\n",
    "Mô đun `argparse` giúp pass tham số qua command line và gán tên cho các tham số này, tự động generate messages cho từng tham số cũng như hướng dẫn sử dụng tham số cho chương trình python.\n",
    "\n",
    "Ví dụ ở đây ta sẽ viết chương trình minh họa `recipe_book.py` nhận tối đa 5 arguments (tức ingredient) và in ra recipe của món ăn có thể nấu với các ingredients đó."
   ],
   "metadata": {}
  },
  {
   "cell_type": "markdown",
   "source": [
    "### Getting started\n",
    "\n",
    "Mô đun được import qua tên `argparse` và tiếp đến ta sẽ tạo object là `ArgumentParser` sẽ lưu tất cả các thông tin về các argument:"
   ],
   "metadata": {}
  },
  {
   "cell_type": "code",
   "execution_count": 2,
   "source": [
    "import argparse\n",
    "\n",
    "parser = argparse.ArgumentParser(description=\"This program prints recipes\\\n",
    "    consisting of the ingredients you provided.\")"
   ],
   "outputs": [],
   "metadata": {}
  },
  {
   "cell_type": "markdown",
   "source": [
    "### Thêm arguments\n",
    "\n",
    "Có 2 loại argument để thêm: positional argument và optional argement. Optional argument cần được gọi kèm prefix (1 dash hoặc 2 dash: `-` thường đi với 1 chữ cái cho gọn, `--` thì ghi rõ ra). Positional argument chỉ những argument mà dùng không cần có prefix để chỉ\n"
   ],
   "metadata": {}
  },
  {
   "cell_type": "code",
   "execution_count": 3,
   "source": [
    "parser.add_argument(\"-i1\", \"--ingredient_1\")\n",
    "\n",
    "parser.add_argument(\"ingredient_1\")"
   ],
   "outputs": [
    {
     "output_type": "execute_result",
     "data": {
      "text/plain": [
       "_StoreAction(option_strings=[], dest='ingredient_1', nargs=None, const=None, default=None, type=None, choices=None, help=None, metavar=None)"
      ]
     },
     "metadata": {},
     "execution_count": 3
    }
   ],
   "metadata": {}
  },
  {
   "cell_type": "markdown",
   "source": [
    "`add_argument()` có rất nhiều tham số hữu ích, nhưng ở đây chúng ta chỉ nói đến một số tham số thường được dùng như `action`, `default`. `action` liên quan đến hành động mà ta sẽ làm với tham số này, mặc định thì nó chỉ lưu giá trị của argument, nhưng mà ta cũng có thể thay đổi ví dụ như lưu mặc định giá trị `True` cho nó như ví dụ dưới đây. Mặt khác, với tham số `defaul` ta cũng có thể làm được điều tương tự:"
   ],
   "metadata": {}
  },
  {
   "cell_type": "code",
   "execution_count": 4,
   "source": [
    "parser.add_argument(\"--salt\", action=\"store_true\")\n",
    "\n",
    "# The same can be achieved by: (e.g with pepper)\n",
    "parser.add_argument(\"--pepper\", default=False)"
   ],
   "outputs": [
    {
     "output_type": "execute_result",
     "data": {
      "text/plain": [
       "_StoreAction(option_strings=['--pepper'], dest='pepper', nargs=None, const=None, default=False, type=None, choices=None, help=None, metavar=None)"
      ]
     },
     "metadata": {},
     "execution_count": 4
    }
   ],
   "metadata": {}
  },
  {
   "cell_type": "markdown",
   "source": [
    "Vì lý do chương trình cũng nhỏ nên tốt nhất ta nên giới hạn lại các loại ingredient mà các tham số có thẻ nhận:"
   ],
   "metadata": {}
  },
  {
   "cell_type": "code",
   "execution_count": 5,
   "source": [
    "parser.add_argument(\"-i2\", \"--ingredient_2\",\n",
    "                    choices=['pasta', 'garlic', 'rice', 'onion', 'carrot', 'soy_sauce', 'tomato_sauce'],\n",
    "                    help='You need to choose only one ingredient from the list.')"
   ],
   "outputs": [
    {
     "output_type": "execute_result",
     "data": {
      "text/plain": [
       "_StoreAction(option_strings=['-i2', '--ingredient_2'], dest='ingredient_2', nargs=None, const=None, default=None, type=None, choices=['pasta', 'garlic', 'rice', 'onion', 'carrot', 'soy_sauce', 'tomato_sauce'], help='You need to choose only one ingredient from the list.', metavar=None)"
      ]
     },
     "metadata": {},
     "execution_count": 5
    }
   ],
   "metadata": {}
  },
  {
   "cell_type": "markdown",
   "source": [
    "Tham số `choices` sẽ show các giá trị có thể chấp nhận với argument nào đó, trong khi `help` là tam số giúp display một short description cho argument."
   ],
   "metadata": {}
  },
  {
   "cell_type": "markdown",
   "source": [
    "### Parsing arguments\n",
    "\n",
    "Hàm `parse_args()` được dùng để đọc các argument string từ command line. Sau đó ta có thể dễ dàng truy xuất các argument để tiếp tục sự dụng trong chương trình của mình:"
   ],
   "metadata": {}
  },
  {
   "cell_type": "code",
   "execution_count": 8,
   "source": [
    "args = parser.parse_args()\n",
    "\n",
    "# We can print them to see, of course only we actually run the file and pass string arg\n",
    "# print(args.ingredient_1)\n",
    "# print(args.salt) "
   ],
   "outputs": [
    {
     "output_type": "stream",
     "name": "stderr",
     "text": [
      "usage: ipykernel_launcher.py [-h] [-i1 INGREDIENT_1] [--salt]\n",
      "                             [--pepper PEPPER]\n",
      "                             [-i2 {pasta,garlic,rice,onion,carrot,soy_sauce,tomato_sauce}]\n",
      "                             ingredient_1\n",
      "ipykernel_launcher.py: error: the following arguments are required: ingredient_1\n"
     ]
    },
    {
     "output_type": "error",
     "ename": "SystemExit",
     "evalue": "2",
     "traceback": [
      "An exception has occurred, use %tb to see the full traceback.\n",
      "\u001b[0;31mSystemExit\u001b[0m\u001b[0;31m:\u001b[0m 2\n"
     ]
    }
   ],
   "metadata": {}
  },
  {
   "cell_type": "markdown",
   "source": [
    "**Note**: \n",
    "\n",
    "*Ta không thể dùng short version của argument để truy xuất giá trị của chúng được*"
   ],
   "metadata": {}
  },
  {
   "cell_type": "markdown",
   "source": [
    "Và chương trình của chúng ta có thể được viết đại loại như vầy:"
   ],
   "metadata": {}
  },
  {
   "cell_type": "code",
   "execution_count": 9,
   "source": [
    "import argparse\n",
    "\n",
    "\n",
    "parser = argparse.ArgumentParser(description=\"This program prints recipes \\\n",
    "consisting of the ingredients you provide.\")\n",
    "\n",
    "parser.add_argument(\"-i1\", \"--ingredient_1\", choices=[\"pasta\", \"rice\", \"potato\",\n",
    "                    \"onion\", \"garlic\", \"carrot\", \"soy_sauce\", \"tomato_sauce\"],\n",
    "                    help=\"You need to choose only one ingredient from the list.\")\n",
    "parser.add_argument(\"-i2\", \"--ingredient_2\", choices=[\"pasta\", \"rice\", \"potato\",\n",
    "                    \"onion\", \"garlic\", \"carrot\", \"soy_sauce\", \"tomato_sauce\"],\n",
    "                    help=\"You need to choose only one ingredient from the list.\")\n",
    "parser.add_argument(\"-i3\", \"--ingredient_3\", choices=[\"pasta\", \"rice\", \"potato\",\n",
    "                    \"onion\", \"garlic\", \"carrot\", \"soy_sauce\", \"tomato_sauce\"],\n",
    "                    help=\"You need to choose only one ingredient from the list.\")\n",
    "parser.add_argument(\"-i4\", \"--ingredient_4\", choices=[\"pasta\", \"rice\", \"potato\",\n",
    "                    \"onion\", \"garlic\", \"carrot\", \"soy_sauce\", \"tomato_sauce\"],\n",
    "                    help=\"You need to choose only one ingredient from the list.\")\n",
    "parser.add_argument(\"-i5\", \"--ingredient_5\", choices=[\"pasta\", \"rice\", \"potato\",\n",
    "                    \"onion\", \"garlic\", \"carrot\", \"soy_sauce\", \"tomato_sauce\"],\n",
    "                    help=\"You need to choose only one ingredient from the list.\")\n",
    "\n",
    "parser.add_argument(\"--salt\", action=\"store_true\",\n",
    "                    help=\"Specify if you'd like to use salt in your recipe.\")\n",
    "parser.add_argument(\"--pepper\", default=\"False\",\n",
    "                    help=\"Change to 'True' if you'd like to use pepper in your recipe.\")\n",
    "\n",
    "args = parser.parse_args()\n",
    "\n",
    "ingredients = [args.ingredient_1, args.ingredient_2, args.ingredient_3,\n",
    "               args.ingredient_4, args.ingredient_5]\n",
    "if args.salt:\n",
    "    ingredients.append(\"salt\")\n",
    "if args.pepper == \"True\":\n",
    "    ingredients.append(\"pepper\")\n",
    "\n",
    "print(f\"The ingredients you provided are: {ingredients}\")\n",
    "\n",
    "\n",
    "def find_a_recipe(ingredients):\n",
    "    ...\n",
    "    # processes the input and returns a recipe depending on the provided ingredients"
   ],
   "outputs": [
    {
     "output_type": "stream",
     "name": "stderr",
     "text": [
      "usage: ipykernel_launcher.py [-h]\n",
      "                             [-i1 {pasta,rice,potato,onion,garlic,carrot,soy_sauce,tomato_sauce}]\n",
      "                             [-i2 {pasta,rice,potato,onion,garlic,carrot,soy_sauce,tomato_sauce}]\n",
      "                             [-i3 {pasta,rice,potato,onion,garlic,carrot,soy_sauce,tomato_sauce}]\n",
      "                             [-i4 {pasta,rice,potato,onion,garlic,carrot,soy_sauce,tomato_sauce}]\n",
      "                             [-i5 {pasta,rice,potato,onion,garlic,carrot,soy_sauce,tomato_sauce}]\n",
      "                             [--salt] [--pepper PEPPER]\n",
      "ipykernel_launcher.py: error: unrecognized arguments: --ip=127.0.0.1 --stdin=9003 --control=9001 --hb=9000 --Session.signature_scheme=\"hmac-sha256\" --Session.key=b\"fb18299f-ca4d-4aaf-a5c1-4e358064b112\" --shell=9002 --transport=\"tcp\" --iopub=9004 --f=/tmp/tmp-24496PrYwm4IwNDa2.json\n"
     ]
    },
    {
     "output_type": "error",
     "ename": "SystemExit",
     "evalue": "2",
     "traceback": [
      "An exception has occurred, use %tb to see the full traceback.\n",
      "\u001b[0;31mSystemExit\u001b[0m\u001b[0;31m:\u001b[0m 2\n"
     ]
    }
   ],
   "metadata": {}
  },
  {
   "cell_type": "markdown",
   "source": [
    "### Ví dụ khi chạy chương trình"
   ],
   "metadata": {}
  },
  {
   "cell_type": "markdown",
   "source": [
    "Khi chạy chương trình ta gọi như bình thường như cách run một chương trình python và thêm vào các argument sau đó, có thể dùng dấu `=` hoặc khoảng trắng để gán giá trị của argument."
   ],
   "metadata": {}
  },
  {
   "cell_type": "code",
   "execution_count": null,
   "source": [
    "python recipe_book.py -i1 rice -i2 onion -i3 garlic -i4 carrot -i5 tomato_sauce --salt\n",
    "# The ingredients you provided are: ['rice', 'onion', 'garlic', 'carrot', 'tomato_sauce', 'salt']\n",
    "# <The description of the available recipe>"
   ],
   "outputs": [],
   "metadata": {}
  },
  {
   "cell_type": "code",
   "execution_count": null,
   "source": [
    "python recipe_book.py -i1=pasta -i2=garlic -i3=tomato_sauce --salt --pepper=\"True\"\n",
    "# The ingredients you provided are: ['pasta', 'garlic', 'tomato_sauce', None, None, 'salt', 'pepper']\n",
    "# <The description of the available recipe>"
   ],
   "outputs": [],
   "metadata": {}
  },
  {
   "cell_type": "code",
   "execution_count": null,
   "source": [
    "python recipe_book.py -i1 bread -i2 onion -i3 garlic -i4 carrot -i5 tomato_sauce --salt\n",
    "# usage: recipe_book.py [-h]\n",
    "#                       [-i1 {pasta,rice,potato,onion,garlic,carrot,soy_sauce,tomato_sauce}]\n",
    "#                       [-i2 {pasta,rice,potato,onion,garlic,carrot,soy_sauce,tomato_sauce}]\n",
    "#                       [-i3 {pasta,rice,potato,onion,garlic,carrot,soy_sauce,tomato_sauce}]\n",
    "#                       [-i4 {pasta,rice,potato,onion,garlic,carrot,soy_sauce,tomato_sauce}]\n",
    "#                       [-i5 {pasta,rice,potato,onion,garlic,carrot,soy_sauce,tomato_sauce}]\n",
    "#                       [--salt] [--pepper PEPPER]\n",
    "# recipe_book.py: error: argument -i1/--ingredient_1: invalid choice: 'bread'\n",
    "# (choose from 'pasta', 'rice', 'potato', 'onion', 'garlic', 'carrot', 'soy_sauce', 'tomato_sauce')"
   ],
   "outputs": [],
   "metadata": {}
  },
  {
   "cell_type": "markdown",
   "source": [
    "Nếu như ta chạy chương trình với tham số `--help` hoặc `-h` thì nội dung trong tham số `help` của `add_argumemt` sẽ được display kèm với nội dung được automatically generated bởi mô đun `argparse`."
   ],
   "metadata": {}
  },
  {
   "cell_type": "code",
   "execution_count": null,
   "source": [
    "python recipe_book.py --help\n",
    "# usage: recipe_book.py [-h]\n",
    "#                       [-i1 {pasta,rice,potato,onion,garlic,carrot,soy_sauce,tomato_sauce}]\n",
    "#                       [-i2 {pasta,rice,potato,onion,garlic,carrot,soy_sauce,tomato_sauce}]\n",
    "#                       [-i3 {pasta,rice,potato,onion,garlic,carrot,soy_sauce,tomato_sauce}]\n",
    "#                       [-i4 {pasta,rice,potato,onion,garlic,carrot,soy_sauce,tomato_sauce}]\n",
    "#                       [-i5 {pasta,rice,potato,onion,garlic,carrot,soy_sauce,tomato_sauce}]\n",
    "#                       [--salt] [--pepper PEPPER]\n",
    "# \n",
    "# This program prints recipes consisting of the ingredients you provide.\n",
    "# \n",
    "# optional arguments:\n",
    "#   -h, --help            show this help message and exit\n",
    "#   -i1 {pasta,rice,potato,onion,garlic,carrot,soy_sauce,tomato_sauce}, --ingredient_1\n",
    "# {pasta,rice,potato,onion,garlic,carrot,soy_sauce,tomato_sauce}\n",
    "#                         You need to choose only one ingredient from the list.\n",
    "#   -i2 {pasta,rice,potato,onion,garlic,carrot,soy_sauce,tomato_sauce}, --ingredient_2\n",
    "# {pasta,rice,potato,onion,garlic,carrot,soy_sauce,tomato_sauce}\n",
    "#                         You need to choose only one ingredient from the list.\n",
    "#   -i3 {pasta,rice,potato,onion,garlic,carrot,soy_sauce,tomato_sauce}, --ingredient_3\n",
    "# {pasta,rice,potato,onion,garlic,carrot,soy_sauce,tomato_sauce}\n",
    "#                         You need to choose only one ingredient from the list.\n",
    "#   -i4 {pasta,rice,potato,onion,garlic,carrot,soy_sauce,tomato_sauce}, --ingredient_4\n",
    "# {pasta,rice,potato,onion,garlic,carrot,soy_sauce,tomato_sauce}\n",
    "#                         You need to choose only one ingredient from the list.\n",
    "#   -i5 {pasta,rice,potato,onion,garlic,carrot,soy_sauce,tomato_sauce}, --ingredient_5\n",
    "# {pasta,rice,potato,onion,garlic,carrot,soy_sauce,tomato_sauce}\n",
    "#                         You need to choose only one ingredient from the list.\n",
    "#   --salt                Specify if you'd like to use salt in your recipe.\n",
    "#   --pepper              Change to 'True' if you'd like to use pepper in your recipe."
   ],
   "outputs": [],
   "metadata": {}
  }
 ],
 "metadata": {
  "orig_nbformat": 4,
  "language_info": {
   "name": "python",
   "version": "3.8.12",
   "mimetype": "text/x-python",
   "codemirror_mode": {
    "name": "ipython",
    "version": 3
   },
   "pygments_lexer": "ipython3",
   "nbconvert_exporter": "python",
   "file_extension": ".py"
  },
  "kernelspec": {
   "name": "python3",
   "display_name": "Python 3.8.12 64-bit ('base': conda)"
  },
  "interpreter": {
   "hash": "8c41785d08d518d6063bd2cd334bc8e2fe211597cea3d9372d08927f9e7f72ef"
  }
 },
 "nbformat": 4,
 "nbformat_minor": 2
}