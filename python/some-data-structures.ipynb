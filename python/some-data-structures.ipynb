{
 "cells": [
  {
   "cell_type": "markdown",
   "id": "8b462927-e3bc-471e-8072-17a675c61e81",
   "metadata": {},
   "source": [
    "# SOME DATA STUCTURES AND STUFF"
   ]
  },
  {
   "cell_type": "markdown",
   "id": "e40deb58-2dc8-43ec-88c4-423a10f74339",
   "metadata": {},
   "source": [
    "## Big O Notation\n",
    "\n",
    "Giả sử bạn cần chọn một vài algorithms để giải quyết bài toán, làm sao để chọn ra cái tốt nhất? Do đó, ta phải tìm ra cách đo độ hiệu quả của một thuật toán.\n",
    "\n",
    "Một trong các cách đó là đo thời gian chương trình chạy. Tuy nhiên mỗi máy lại có tốc độ chạy khác nhau đối với một thuật toán. Ngoài ra, thời gian xử lý còn phụ thuộc vào data nữa. Do đó, ta cần một cách nào đó universal hơn, đó là **big O notation**.\n",
    "\n",
    "### Input size\n",
    "\n",
    "Thuật toán thường làm gì? calculations. Vậy ta quy ước gọi **operations** cho những actions như cộng, trừ, nhân, so sánh, gán,... Thời gian tính toán chắc chắn là sẽ phụ thuộc vào machines, tuy nhiên cái ta cần là so sánh thuật toán, không phải machines, do đó ta sẽ dựa trên số lượng operations để làm điều này.\n",
    "\n",
    "![](img/bus.svg)\n",
    "\n",
    "Ví dụ, xe buýt không phải lúc nào cũng đúng giờ, rõ ràng là không thể trách bác tài hoàn toàn vì việc này, thời gian của một chuyến tùy vào lượng khách trên xe. Càng nhiều khách, càng phải dừng ở nhiều trạm hơn để trả/ đón khách, càng tốn nhiều thời gian. Tương tự, thòi gian của một thuật toán sẽ phụ thuộc vào **input data**. Một chương trình hiển nhiên sẽ tốn thời gian khác nhau khi mà xử lý 10 số so với 1 000 000 số. Ta sẽ dùng thuật ngữ **input size** như một đơn vị đo tương đối của kích cỡ của data. Nếu thuật toán cần làm việc với m số, thì m ở đây là input size. Tuy nhiên, cần để ý rằng không phải lúc nào input size cũng là số lượng các input, ví dụ như ta cần tim 10 số nguyên tố đầu tiên, thì thời gian sẽ khác với tìm 10 000 số nguyên tố đầu tiên. Trong các trường hợp đó, mặc dù ta chỉ càn nhập 1 số duy nhất là 10 000 nhưng vẫn ảnh hưởng đến tốc độ algorithm, nhưng nó vẫn được coi là input size.\n",
    "\n",
    "Nếu mà ta có thể ước lượng số operations theo input size, thì ta có đo được độ phức tạp của thuật toán một cách machine-independently. Từ đó, ta có thể biết được đâu là một thuật toán tốt khi nó handle được tốt với input size lớn.\n",
    "\n",
    "### Big O notation\n",
    "\n",
    "Ta dùng **big o notation** để đo độ efficency của algorithm. Ta mượn kí hiệu này từ toán học, tuy nhiên cũng không cần lo lắng quá về ý nghĩa toán học của nó. Một cách bớt học thuật, ta có thể nói  một thuật toán có **time complexity** $O(f(n))$ nếu số lượng operations grow bigger giống như (hoặc chậm hơn) hàm $f(n)$ khi mà input size of $n$ là một số lớn. Ví dụ với task sau: cho một table $n \\times n$ với số nguyên integer trong các cell. Tìm số $k$ trong table.\n",
    "\n",
    "\n",
    "![](img/alice-bob-table.svg)\n",
    "\n",
    "Alice và Bob nghĩ ra algorithm riêng của mình. Bob thì scan từng cell cho tới khi gặp value bằng với $k$. Do đó, maximun là $n^2$ operation so sánh, tức là time complexity của thuật toán Bob là $O(n^2)$. Mặc khác, bằng một cách thần thánh nào đó :v, Alice biết được cột chứa số k, thì Alice chỉ scan trong cột đó mà thôi, tức là tối đa $n$ operation so sánh, hay time complexity của Alice algo là $O(n)$.\n",
    "\n",
    "Với $n$ lớn, ta có thể thấy thuật toán của Alice chạy nhanh hơn của Bob rất nhiều. Tuy nhiên, câu hỏi đặt ra là tại sao cần thêm $O$ bên ngoài nữa, tại sao không đơn giản dùng $n$ hay $n^2$ để thể hiện độ phức tạp. Lý do ở chỗ, giả sử số $k$ nằm ngay ở cell đầu tiên thì Bob chỉ cần tốn 1 bước để tìm ra, thay vì $n^2$, đó là lý do ta cần $O$ bọc ngoài để thể hiện upper bound của function growth rate.\n",
    "\n",
    "![](img/big-o-graph.svg)\n",
    "\n",
    "\n",
    "###  Common growth rates\n",
    "\n",
    "- $O(1)$ (constant time) Thuật toán thực hiện một số không đổi các operations. Có thể là 1, hoặc trăm, hoặc ngàn - không quan trọng, điều quan trọng là nó không phụ thuộc vào input size.\n",
    "\n",
    "- $O(\\log{n})$ (logarithmic time), thông thường ta nói logarithm thì sẽ refer to logarithm of base 2, tuy nhiên base ở đây không quan trọng. Theo định nghĩa, $log_{2}{n}$ bằng với số lần chia $n$ cho $2$ cho đến khi nó bằng $1$. Có nghĩa là, ta không khó để phát hiện algorithm nào chia nửa input size mỗi step thuộc vào nhóm này. Nhóm này phải nói là khá nhanh, nếu input size lớn ,ví dụ $2^31$, algo chỉ cần tốn $\\log_{2}{2^31}=31$ operations, khá ấn tượng.\n",
    "\n",
    "- $O(n)$ (linear time) tức là thời gian tỷ lệ tuyến tính với input size. Thường thường, những algo kiểu này chỉ iterate 1 ần, bởi vì nó phải thường cần phải go throught every input trước khi tính ra kết quả cuối cùng. Nhóm này cũng được coi là một trong các nhóm hiệu quả nhất.\n",
    "\n",
    "- $O(n^2)$ (quadratic time). Thông thường, những algo này go through tất cả các cặp input. Tại sao, vì với input size of $n$ elements, ta có tổng cộng $\\frac{(n - 1)n}{2}$ cặp, hay $O(n^2)$: hay nói theo cách lập trình: nó bao gồm 2 nested loops.\n",
    "\n",
    "- $O(2^n)$ (exponential time). Trong trường hợp này, việc coi $2^n$ là nhân $2$ bằng chính nó $n$ lần sẽ dễ hình dung hơn. Mathematically, nó là số lượng tập con của tập có $n$ element. Do đó, có thể đoán rằng những algo thuộc nhóm này scan tất cả những tập con của input. Lưu ý rằng nhóm này cực kỳ kém hiệu quả trong thực tế, thậm chí với input size nhỏ.\n",
    "\n",
    "Ngoài ra, có cố một số nhóm ít phổ biến như:\n",
    "\n",
    "- $O(\\sqrt{n})$ (square root time)\n",
    "\n",
    "- $O(n\\log{n}$ (log-linear time)\n",
    "\n",
    "- $O(n^{k})$ (polynomial time)\n",
    "\n",
    "- $O(n!)$ (fatorial time)\n",
    "\n",
    "![](img/big-o-order.svg)\n",
    "\n",
    "### Calculating complexity\n",
    "\n",
    "Để có thể tính độ phức tạp, ta cần biết đến tính chất của Big O:\n",
    "\n",
    "- **Ignore the constants** như ta đã nói trước đây, tính complexitty ta tập trung vào behaviour của algo với large input size, do đó lặp lại một constant lần các steps sẽ không ảnh hưởng đến độ phức tạp nói chung. Ví dụ, nếu ta traverse $n$ elements 5 lần, ta có thể nói algo đó có time complexity là $O(n)$ chứ không phải là $O(5n)$. Formally, ta có $c \\dot O(n) = O(n)$\n",
    "\n",
    "- **Applying a procedure $n$ times** Nếu như ta cần go over $n$ element $n$ lần thì sao? khi đó không còn là constant nữa, mà là $O(n^2)$. Ta có thể diễn giải kiểu làm $n$ lần một action tỷ lệ với $n$, kết qủa sẽ tỷ lệ với $n^2$. Big O notation ta viết $n \\dot O(n) = O(n^2)$\n",
    "\n",
    "\n",
    "- **Smaller terms do not matter** Một trường hợp thường gặp đó là sau khi ta làm một số actions, ta cần làm thêm một số thứ khác. Ví dụ, ta traverse $n$ elements n lần và sau đó tiếp tục traverse n lần nưa. Trong trường hợp này complexity vẫn là $O(n^2)$. Thêm $n$ actions không ảnh huowsg tới độ phức tạp của ta lúc này tỷ lệ với $n^2$. Với big O notation, nó biểu diễn là: $O(n) + O(n^2) = O(n^2)$. Suy cho cùng, ta chỉ cần giữ the largest term trong Big O và quên đi phần còn lại. Tại sao lại như vậy? Để dễ hình dung ta nhìn vào ví dụ sau:\n",
    "\n",
    "![](img/Big_O_smaller_not_matter.svg)\n",
    "\n",
    "Rõ ràng khi $n$ lớn thì những phần cộng vào không thực sự có ý nghĩa.\n"
   ]
  },
  {
   "cell_type": "markdown",
   "id": "79ea48fd-26e7-4596-9803-db375f505d2a",
   "metadata": {},
   "source": [
    "## Data Structures"
   ]
  },
  {
   "cell_type": "markdown",
   "id": "0c956421-9c6e-419c-bd74-ae01708e180c",
   "metadata": {},
   "source": [
    "## Algorithm in Python"
   ]
  },
  {
   "cell_type": "markdown",
   "id": "fd02c81d-54ad-4881-b9fd-f0cc7b22427a",
   "metadata": {},
   "source": [
    "## Linked List"
   ]
  },
  {
   "cell_type": "code",
   "execution_count": 5,
   "id": "08dba89f-b538-4f2a-8c4c-1b728a639f53",
   "metadata": {},
   "outputs": [],
   "source": [
    "class Node:\n",
    "    def __init__(self, data: int):\n",
    "        self.data = data\n",
    "        self.next = None\n",
    "\n",
    "class LinkedList:\n",
    "    def __init__(self):\n",
    "        self.head = None\n",
    "        \n",
    "    def print_list(self):\n",
    "        cur = self.head\n",
    "        while cur:\n",
    "            print(cur.data, end=' ')\n",
    "            cur = cur.next\n",
    "        \n",
    "        \n"
   ]
  },
  {
   "cell_type": "code",
   "execution_count": 6,
   "id": "ff9ff2e1-73f4-40fa-86bf-63de39bde128",
   "metadata": {},
   "outputs": [
    {
     "name": "stdout",
     "output_type": "stream",
     "text": [
      "1 2 3 "
     ]
    }
   ],
   "source": [
    "llist = LinkedList()\n",
    "# init some nodes\n",
    "llist.head = Node(1)\n",
    "\n",
    "second_node = Node(2)\n",
    "third_node = Node(3)\n",
    "\n",
    "# assign\n",
    "llist.head.next = second_node\n",
    "second_node.next = third_node\n",
    "\n",
    "# show\n",
    "llist.print_list()\n"
   ]
  },
  {
   "cell_type": "markdown",
   "id": "3d317ca5-79c0-4941-a4ec-8a8a66316db5",
   "metadata": {},
   "source": [
    "push a Node to the front of Linked List. O(1)"
   ]
  },
  {
   "cell_type": "code",
   "execution_count": 7,
   "id": "75a99bff-7f07-4b28-8d6c-68b8d1b264b5",
   "metadata": {},
   "outputs": [
    {
     "name": "stdout",
     "output_type": "stream",
     "text": [
      "1 2 3 \n",
      "10 1 2 3 "
     ]
    }
   ],
   "source": [
    "class LinkedList:\n",
    "    def __init__(self):\n",
    "        self.head = None\n",
    "        \n",
    "    def print_list(self):\n",
    "        cur = self.head\n",
    "        while cur:\n",
    "            print(cur.data, end=' ')\n",
    "            cur = cur.next\n",
    "    # Implement\n",
    "    def push_front(self, new_data):\n",
    "        new_node = Node(new_data)\n",
    "        \n",
    "        new_node.next = self.head\n",
    "        self.head = new_node\n",
    "        \n",
    "        \n",
    "# checking\n",
    "llist = LinkedList()\n",
    "# init some nodes\n",
    "llist.head = Node(1)\n",
    "\n",
    "second_node = Node(2)\n",
    "third_node = Node(3)\n",
    "\n",
    "# assign\n",
    "llist.head.next = second_node\n",
    "second_node.next = third_node\n",
    "\n",
    "# show before list\n",
    "llist.print_list()\n",
    "\n",
    "llist.push_front(10)\n",
    "# show after pushing to front\n",
    "print()\n",
    "llist.print_list()"
   ]
  },
  {
   "cell_type": "markdown",
   "id": "f7cd4564-8f40-4df5-b38e-eec77c2c1b0a",
   "metadata": {},
   "source": [
    "Insert node after a given node: O(1)"
   ]
  },
  {
   "cell_type": "code",
   "execution_count": 8,
   "id": "a884acc4-ac31-4483-bba2-e65c095f06ac",
   "metadata": {},
   "outputs": [
    {
     "name": "stdout",
     "output_type": "stream",
     "text": [
      "1 2 3 \n",
      "1 2 20 3 "
     ]
    }
   ],
   "source": [
    "class LinkedList:\n",
    "    def __init__(self):\n",
    "        self.head = None\n",
    "        \n",
    "    def print_list(self):\n",
    "        cur = self.head\n",
    "        while cur:\n",
    "            print(cur.data, end=' ')\n",
    "            cur = cur.next\n",
    "    def push_front(self, new_data):\n",
    "        new_node = Node(new_data)\n",
    "        new_node.next = self.head\n",
    "        self.head = new_node\n",
    "        \n",
    "    # Implement\n",
    "    def insert_after(self, prev_node, new_data: int):\n",
    "        if prev_node is None:\n",
    "            print('The given node must be in the Linked List')\n",
    "            return\n",
    "        \n",
    "        new_node = Node(new_data)\n",
    "        new_node.next = prev_node.next\n",
    "        prev_node.next = new_node\n",
    "        \n",
    "# checking\n",
    "llist = LinkedList()\n",
    "# init some nodes\n",
    "llist.head = Node(1)\n",
    "\n",
    "second_node = Node(2)\n",
    "third_node = Node(3)\n",
    "\n",
    "# assign\n",
    "llist.head.next = second_node\n",
    "second_node.next = third_node\n",
    "\n",
    "# print the list before\n",
    "llist.print_list()\n",
    "\n",
    "# insert\n",
    "llist.insert_after(second_node, 20)\n",
    "print()\n",
    "llist.print_list()"
   ]
  },
  {
   "cell_type": "markdown",
   "id": "b2d1514b-0fed-4f33-a8a5-0a503f431498",
   "metadata": {},
   "source": [
    "Append at the last of Linked List. O(n)"
   ]
  },
  {
   "cell_type": "code",
   "execution_count": 9,
   "id": "6b5e8a14-80ae-4c50-8b3a-c7c85608c8e8",
   "metadata": {},
   "outputs": [
    {
     "name": "stdout",
     "output_type": "stream",
     "text": [
      "\n",
      "100 "
     ]
    }
   ],
   "source": [
    "class LinkedList:\n",
    "    def __init__(self):\n",
    "        self.head = None\n",
    "        \n",
    "    def print_list(self):\n",
    "        cur = self.head\n",
    "        while cur:\n",
    "            print(cur.data, end=' ')\n",
    "            cur = cur.next\n",
    "    def push_front(self, new_data):\n",
    "        new_node = Node(new_data)\n",
    "        new_node.next = self.head\n",
    "        self.head = new_node\n",
    "    def insert_after(self, prev_node, new_data: int):\n",
    "        if prev_node is None:\n",
    "            print('The given node must be in the Linked List')\n",
    "            return      \n",
    "        new_node = Node(new_data)\n",
    "        new_node.next = prev_node.next\n",
    "        prev_node.next = new_node\n",
    "        \n",
    "    # Implement\n",
    "    def append(self, new_data: int):\n",
    "        new_node = Node(new_data)\n",
    "        \n",
    "        if self.head is None:\n",
    "            self.head = new_node\n",
    "            return\n",
    "            \n",
    "        last = self.head\n",
    "        while last.next:\n",
    "            last = last.next\n",
    "        last.next = new_node\n",
    "        \n",
    "# checking\n",
    "llist = LinkedList()\n",
    "\n",
    "# init some nodes\n",
    "# llist.head = Node(1)\n",
    "\n",
    "# second_node = Node(2)\n",
    "# third_node = Node(3)\n",
    "\n",
    "# # assign\n",
    "# llist.head.next = second_node\n",
    "# second_node.next = third_node\n",
    "\n",
    "# # print the list before\n",
    "# llist.print_list()\n",
    "\n",
    "# insert\n",
    "llist.append(100)\n",
    "print()\n",
    "llist.print_list()"
   ]
  },
  {
   "cell_type": "markdown",
   "id": "11979b0a-c653-4369-9c31-db821ee771fa",
   "metadata": {},
   "source": [
    "Example using all methods:"
   ]
  },
  {
   "cell_type": "code",
   "execution_count": 10,
   "id": "295c17a1-ab70-4a22-9d2e-fae6fb077c52",
   "metadata": {},
   "outputs": [
    {
     "name": "stdout",
     "output_type": "stream",
     "text": [
      "Created linked list is:\n",
      "1 7 8 6 4 "
     ]
    }
   ],
   "source": [
    "# Start with the empty list\n",
    "llist = LinkedList()\n",
    "\n",
    "# Insert 6.  So linked list becomes 6->None\n",
    "llist.append(6)\n",
    "\n",
    "# Insert 7 at the beginning. So linked list becomes 7->6->None\n",
    "llist.push_front(7);\n",
    "\n",
    "# Insert 1 at the beginning. So linked list becomes 1->7->6->None\n",
    "llist.push_front(1);\n",
    "\n",
    "# Insert 4 at the end. So linked list becomes 1->7->6->4->None\n",
    "llist.append(4)\n",
    "\n",
    "# Insert 8, after 7. So linked list becomes 1 -> 7-> 8-> 6-> 4-> None\n",
    "llist.insert_after(llist.head.next, 8)\n",
    "\n",
    "print('Created linked list is:')\n",
    "llist.print_list()"
   ]
  },
  {
   "cell_type": "markdown",
   "id": "163371d7-5990-4103-8826-d43c35082649",
   "metadata": {},
   "source": [
    "## Skip List"
   ]
  },
  {
   "cell_type": "markdown",
   "id": "dd10f400-9546-4b3a-a14a-93a9386a1a33",
   "metadata": {},
   "source": [
    "Theory about Skip List can be found at Advanced Data Structure course at Stepik [here](https://stepik.org/lesson/30029/step/1?unit=10748)."
   ]
  },
  {
   "cell_type": "code",
   "execution_count": 34,
   "id": "bfe4734f-7811-4a53-ac03-8f988dd84afa",
   "metadata": {},
   "outputs": [],
   "source": [
    "import random\n",
    "\n",
    "class Node:\n",
    "    def __init__(self, key, height):\n",
    "        self.key = key\n",
    "        \n",
    "        # list to hold ref to node of different height\n",
    "        self.next = [None] * height  # 1 idx for each layer: from 0 to (height - 1)\n",
    "    \n",
    "    "
   ]
  },
  {
   "cell_type": "code",
   "execution_count": 48,
   "id": "9ec8c53c-d3e1-4a3e-9919-97b1d86e70da",
   "metadata": {},
   "outputs": [],
   "source": [
    "class SkipList:\n",
    "    def __init__(self, max_height, p):\n",
    "        # Maximum height for this skip list\n",
    "        self.max_height = max_height\n",
    "        # P is the fraction of the nodes with layer \n",
    "        # i references also having layer i+1 references\n",
    "        self.p = p\n",
    "        \n",
    "        # create head node and initialize key to -1\n",
    "        self.head = self.create_node(self.max_height, -1)\n",
    "  \n",
    "        # # current layer of skip list\n",
    "        # self.layer = 0\n",
    "    \n",
    "    def create_node(self, layer, key):\n",
    "        node = Node(key, layer)\n",
    "        return node\n",
    "    \n",
    "    # create random layer for node using random function\n",
    "    def randome_layer(self):\n",
    "        layer = 0\n",
    "        while random.random() < self.p and layer < (self.max_heigh - 1):\n",
    "            layer += 1\n",
    "        return layer\n",
    "        "
   ]
  },
  {
   "cell_type": "markdown",
   "id": "e1386147-cdd4-4090-adbe-a459a4d9fbe1",
   "metadata": {},
   "source": [
    "Insert given key to Skip List"
   ]
  },
  {
   "cell_type": "code",
   "execution_count": 52,
   "id": "3453b953-a44e-434e-b83b-7f62e18322f0",
   "metadata": {
    "tags": []
   },
   "outputs": [],
   "source": [
    "class SkipList:\n",
    "    def __init__(self, max_height, p):\n",
    "        # Maximum height for this skip list\n",
    "        self.max_height = max_height\n",
    "        # P is the fraction of the nodes with layer \n",
    "        # i references also having layer i+1 references\n",
    "        self.p = p\n",
    "        \n",
    "        # create header node and initialize key to -1\n",
    "        self.head = self.create_node(self.max_height, -1)\n",
    "  \n",
    "        # current layer of skip list\n",
    "        # self.layer = 0\n",
    "    \n",
    "    def create_node(self, layer, key):\n",
    "        node = Node(key, layer)\n",
    "        return node\n",
    "    \n",
    "    # create random layer for node using random function\n",
    "    def random_layer(self):\n",
    "        layer = 0\n",
    "        while random.random() < self.p and layer < (self.max_height - 1):\n",
    "            layer += 1\n",
    "        return layer\n",
    "    \n",
    "    # IMPLEMENT INSERT\n",
    "    def insert_key(self, key):\n",
    "        # Find first, then insert\n",
    "        cur = self.head\n",
    "        layer = self.max_height - 1\n",
    "        \n",
    "        to_fix = [None] * (self.max_height)\n",
    "\n",
    "        # find the \n",
    "        while layer >= 0:\n",
    "            if cur.next[layer] is None or cur.next[layer].key > key: # can't go lower than layer 0\n",
    "                to_fix[layer] = cur   # we might have to fix a pointer here\n",
    "                layer = layer - 1  # drop one layer if we can't go further\n",
    "            else:\n",
    "                cur = cur.next[layer]\n",
    "            if key == cur.key:  # if found in skip list, return (we do insert duplicate)\n",
    "                return\n",
    "        \n",
    "        #  // if we reached here, we can perform the insertion\n",
    "        new_node_layer = self.random_layer()  # pick a height\n",
    "        # create a node\n",
    "        new_node = self.create_node(new_node_layer + 1, key)\n",
    "        \n",
    "        #  // fix pointers\n",
    "        for i in range(new_node_layer + 1):\n",
    "            new_node.next[i] = to_fix[i].next[i]\n",
    "            to_fix[i].next[i] = new_node\n",
    "            \n",
    "        print(f'Successfully insert key: {key} at layer {new_node_layer}')\n",
    "            \n",
    "    # Display skip list level wise\n",
    "    def display_list(self):\n",
    "        print(\"\\n*****Skip List******\")\n",
    "        head = self.head\n",
    "        for layer in range(self.max_height):\n",
    "            print(\"Level {}: \".format(layer), end=\" \")\n",
    "            node = head.next[layer]\n",
    "            while node is not None:\n",
    "                print(node.key, end=\" \")\n",
    "                node = node.next[layer]\n",
    "            print(\"\")\n",
    "        "
   ]
  },
  {
   "cell_type": "code",
   "execution_count": 53,
   "id": "4241d822-c62b-41df-bebf-f90dac98e4b2",
   "metadata": {},
   "outputs": [
    {
     "name": "stdout",
     "output_type": "stream",
     "text": [
      "Successfully insert key: 3 at layer 0\n",
      "Successfully insert key: 6 at layer 0\n",
      "Successfully insert key: 7 at layer 0\n",
      "Successfully insert key: 9 at layer 2\n",
      "Successfully insert key: 12 at layer 2\n",
      "Successfully insert key: 19 at layer 0\n",
      "Successfully insert key: 17 at layer 0\n",
      "Successfully insert key: 26 at layer 2\n",
      "Successfully insert key: 21 at layer 2\n",
      "Successfully insert key: 25 at layer 1\n",
      "\n",
      "*****Skip List******\n",
      "Level 0:  3 6 7 9 12 17 19 21 25 26 \n",
      "Level 1:  9 12 21 25 26 \n",
      "Level 2:  9 12 21 26 \n"
     ]
    }
   ],
   "source": [
    "lst = SkipList(3, 0.5)  # max height is 3 and random with p=0.5\n",
    "lst.insert_key(3)\n",
    "lst.insert_key(6)\n",
    "lst.insert_key(7)\n",
    "lst.insert_key(9)\n",
    "lst.insert_key(12)\n",
    "lst.insert_key(19)\n",
    "lst.insert_key(17)\n",
    "lst.insert_key(26)\n",
    "lst.insert_key(21)\n",
    "lst.insert_key(25)\n",
    "lst.display_list()"
   ]
  },
  {
   "cell_type": "markdown",
   "id": "7a375fbd-ae11-494a-b24a-d1c00f15f49d",
   "metadata": {},
   "source": [
    "finding in Skip List:"
   ]
  },
  {
   "cell_type": "code",
   "execution_count": 55,
   "id": "37ecfe85-97b6-4fd1-9981-fd18dbdbb716",
   "metadata": {},
   "outputs": [],
   "source": [
    "class SkipList:\n",
    "    def __init__(self, max_height, p):\n",
    "        # Maximum height for this skip list\n",
    "        self.max_height = max_height\n",
    "        # P is the fraction of the nodes with layer \n",
    "        # i references also having layer i+1 references\n",
    "        self.p = p\n",
    "        \n",
    "        # create header node and initialize key to -1\n",
    "        self.head = self.create_node(self.max_height, -1)\n",
    "  \n",
    "        # current layer of skip list\n",
    "        # self.layer = 0\n",
    "    \n",
    "    def create_node(self, layer, key):\n",
    "        node = Node(key, layer)\n",
    "        return node\n",
    "    \n",
    "    # create random layer for node using random function\n",
    "    def random_layer(self):\n",
    "        layer = 0\n",
    "        while random.random() < self.p and layer < (self.max_height - 1):\n",
    "            layer += 1\n",
    "        return layer\n",
    "    def insert_key(self, key):\n",
    "        # Find first, then insert\n",
    "        cur = self.head\n",
    "        layer = self.max_height - 1\n",
    "        \n",
    "        to_fix = [None] * (self.max_height)\n",
    "\n",
    "        # find the \n",
    "        while layer >= 0:\n",
    "            if cur.next[layer] is None or cur.next[layer].key > key: # can't go lower than layer 0\n",
    "                to_fix[layer] = cur   # we might have to fix a pointer here\n",
    "                layer = layer - 1  # drop one layer if we can't go further\n",
    "            else:\n",
    "                cur = cur.next[layer]\n",
    "            if key == cur.key:  # if found in skip list, return (we do insert duplicate)\n",
    "                return\n",
    "        \n",
    "        #  // if we reached here, we can perform the insertion\n",
    "        new_node_layer = self.random_layer()  # pick a height\n",
    "        # create a node\n",
    "        new_node = self.create_node(new_node_layer + 1, key)\n",
    "        \n",
    "        #  // fix pointers\n",
    "        for i in range(new_node_layer + 1):\n",
    "            new_node.next[i] = to_fix[i].next[i]\n",
    "            to_fix[i].next[i] = new_node\n",
    "            \n",
    "        print(f'Successfully insert key: {key} at layer {new_node_layer}')\n",
    "            \n",
    "    # Display skip list level wise\n",
    "    def display_list(self):\n",
    "        print(\"\\n*****Skip List******\")\n",
    "        head = self.head\n",
    "        for layer in range(self.max_height):\n",
    "            print(\"Level {}: \".format(layer), end=\" \")\n",
    "            node = head.next[layer]\n",
    "            while node is not None:\n",
    "                print(node.key, end=\" \")\n",
    "                node = node.next[layer]\n",
    "            print(\"\")\n",
    "            \n",
    "    # NOW IMPLEMENT FIND\n",
    "    def find_key(self, key):\n",
    "        cur = self.head\n",
    "        layer = self.max_height - 1\n",
    "        while layer >= 0:\n",
    "            if cur.key == key:\n",
    "                return True\n",
    "            if cur.next[layer] is None or cur.next[layer].key > key:\n",
    "                layer = layer - 1\n",
    "            else:\n",
    "                cur = cur.next[layer]\n",
    "        return False\n",
    "        "
   ]
  },
  {
   "cell_type": "code",
   "execution_count": 59,
   "id": "9b9628a7-d7d4-4f92-a90e-4400aee12980",
   "metadata": {},
   "outputs": [
    {
     "name": "stdout",
     "output_type": "stream",
     "text": [
      "Successfully insert key: 3 at layer 2\n",
      "Successfully insert key: 6 at layer 1\n",
      "Successfully insert key: 7 at layer 1\n",
      "Successfully insert key: 9 at layer 0\n",
      "Successfully insert key: 12 at layer 0\n",
      "Successfully insert key: 19 at layer 0\n",
      "Successfully insert key: 17 at layer 1\n",
      "Successfully insert key: 26 at layer 1\n",
      "Successfully insert key: 21 at layer 2\n",
      "Successfully insert key: 25 at layer 2\n",
      "\n",
      "*****Skip List******\n",
      "Level 0:  3 6 7 9 12 17 19 21 25 26 \n",
      "Level 1:  3 6 7 17 21 25 26 \n",
      "Level 2:  3 21 25 \n"
     ]
    },
    {
     "data": {
      "text/plain": [
       "False"
      ]
     },
     "execution_count": 59,
     "metadata": {},
     "output_type": "execute_result"
    }
   ],
   "source": [
    "lst = SkipList(3, 0.5)  # max height is 3 and random with p=0.5\n",
    "lst.insert_key(3)\n",
    "lst.insert_key(6)\n",
    "lst.insert_key(7)\n",
    "lst.insert_key(9)\n",
    "lst.insert_key(12)\n",
    "lst.insert_key(19)\n",
    "lst.insert_key(17)\n",
    "lst.insert_key(26)\n",
    "lst.insert_key(21)\n",
    "lst.insert_key(25)\n",
    "lst.display_list()\n",
    "lst.find_key(3)\n",
    "lst.find_key(11)"
   ]
  },
  {
   "cell_type": "markdown",
   "id": "2dab321e-4d0a-41ab-9b8a-be3ec48e9141",
   "metadata": {},
   "source": [
    "Remove key from Skip List."
   ]
  },
  {
   "cell_type": "code",
   "execution_count": 77,
   "id": "7cf4f523-fafa-4a2f-a012-45ef7f85c58f",
   "metadata": {},
   "outputs": [],
   "source": [
    "class SkipList:\n",
    "    def __init__(self, max_height, p):\n",
    "        # Maximum height for this skip list\n",
    "        self.max_height = max_height\n",
    "        # P is the fraction of the nodes with layer \n",
    "        # i references also having layer i+1 references\n",
    "        self.p = p\n",
    "        \n",
    "        # create header node and initialize key to -1\n",
    "        self.head = self.create_node(self.max_height, -1)\n",
    "  \n",
    "        # current layer of skip list\n",
    "        # self.layer = 0\n",
    "    \n",
    "    def create_node(self, layer, key):\n",
    "        node = Node(key, layer)\n",
    "        return node\n",
    "    \n",
    "    # create random layer for node using random function\n",
    "    def random_layer(self):\n",
    "        layer = 0\n",
    "        while random.random() < self.p and layer < (self.max_height - 1):\n",
    "            layer += 1\n",
    "        return layer\n",
    "    def insert_key(self, key):\n",
    "        # Find first, then insert\n",
    "        cur = self.head\n",
    "        layer = self.max_height - 1\n",
    "        \n",
    "        to_fix = [None] * (self.max_height)\n",
    "\n",
    "        # find the \n",
    "        while layer >= 0:\n",
    "            if cur.next[layer] is None or cur.next[layer].key > key: # can't go lower than layer 0\n",
    "                to_fix[layer] = cur   # we might have to fix a pointer here\n",
    "                layer = layer - 1  # drop one layer if we can't go further\n",
    "            else:\n",
    "                cur = cur.next[layer]\n",
    "            if key == cur.key:  # if found in skip list, return (we do insert duplicate)\n",
    "                return\n",
    "        \n",
    "        #  // if we reached here, we can perform the insertion\n",
    "        new_node_layer = self.random_layer()  # pick a height\n",
    "        # create a node\n",
    "        new_node = self.create_node(new_node_layer + 1, key)\n",
    "        \n",
    "        #  // fix pointers\n",
    "        for i in range(new_node_layer + 1):\n",
    "            new_node.next[i] = to_fix[i].next[i]\n",
    "            to_fix[i].next[i] = new_node\n",
    "            \n",
    "        print(f'Successfully insert key: {key} at layer {new_node_layer}')\n",
    "            \n",
    "    # Display skip list level wise\n",
    "    def display_list(self):\n",
    "        print(\"\\n*****Skip List******\")\n",
    "        head = self.head\n",
    "        for layer in range(self.max_height):\n",
    "            print(\"Level {}: \".format(layer), end=\" \")\n",
    "            node = head.next[layer]\n",
    "            while node is not None:\n",
    "                print(node.key, end=\" \")\n",
    "                node = node.next[layer]\n",
    "            print(\"\")\n",
    "            \n",
    "    def find_key(self, key):\n",
    "        cur = self.head\n",
    "        layer = self.max_height - 1\n",
    "        while layer >= 0:\n",
    "            if cur.key == key:\n",
    "                return True\n",
    "            if cur.next[layer] is None or cur.next[layer].key > key:\n",
    "                layer = layer - 1\n",
    "            else:\n",
    "                cur = cur.next[layer]\n",
    "        return False\n",
    "    \n",
    "    # NOW IMPLEMENT REMOVE\n",
    "    def remove_key(self, key):\n",
    "        cur = self.head\n",
    "        to_fix = [None] * (self.max_height)  # all previous nodes which point to the key\n",
    "        '''\n",
    "        start from highest level of skip list\n",
    "        move the current reference forward while key \n",
    "        is greater than key of node next to current\n",
    "        Otherwise inserted current in update and \n",
    "        move one layer down and continue search\n",
    "        '''\n",
    "        for layer in range(self.max_height - 1, -1, -1):\n",
    "            while (cur.next[layer] and \\\n",
    "                  cur.next[layer].key < key):\n",
    "                cur = cur.next[layer]\n",
    "            to_fix[layer] = cur\n",
    "        print([node.key for node in to_fix])\n",
    "        \n",
    "        ''' \n",
    "        reached layer 0 and advance reference to \n",
    "        right, which is possibly our desired node\n",
    "        ''' \n",
    "        cur = cur.next[0]\n",
    "        print(cur.key)\n",
    "\n",
    "        # If current node is target node\n",
    "        if cur is not None and cur.key == key:\n",
    "  \n",
    "            '''\n",
    "            start from lowest layer and rearrange references \n",
    "            just like we do in singly linked list\n",
    "            to remove target node\n",
    "            '''\n",
    "            for i in range(self.max_height):\n",
    "  \n",
    "                '''\n",
    "                If at layer i, next node is not target \n",
    "                node, break the loop, no need to move \n",
    "                further level\n",
    "                '''\n",
    "                if to_fix[i].next[i] != cur:\n",
    "                    break\n",
    "                to_fix[i].next[i] = cur.next[i]\n",
    "  \n",
    "\n",
    "            print(\"Successfully deleted {}\".format(key))\n",
    "        \n",
    "            \n",
    "        "
   ]
  },
  {
   "cell_type": "code",
   "execution_count": 80,
   "id": "d6660779-6e8c-4414-b551-36da7be7961b",
   "metadata": {},
   "outputs": [
    {
     "name": "stdout",
     "output_type": "stream",
     "text": [
      "Successfully insert key: 3 at layer 0\n",
      "Successfully insert key: 6 at layer 0\n",
      "Successfully insert key: 7 at layer 2\n",
      "Successfully insert key: 9 at layer 1\n",
      "Successfully insert key: 12 at layer 1\n",
      "Successfully insert key: 19 at layer 1\n",
      "Successfully insert key: 17 at layer 2\n",
      "Successfully insert key: 26 at layer 0\n",
      "Successfully insert key: 21 at layer 0\n",
      "Successfully insert key: 25 at layer 0\n",
      "\n",
      "*****Skip List******\n",
      "Level 0:  3 6 7 9 12 17 19 21 25 26 \n",
      "Level 1:  7 9 12 17 19 \n",
      "Level 2:  7 17 \n"
     ]
    }
   ],
   "source": [
    "lst = SkipList(3, 0.5)  # max height is 3 and random with p=0.5\n",
    "lst.insert_key(3)\n",
    "lst.insert_key(6)\n",
    "lst.insert_key(7)\n",
    "lst.insert_key(9)\n",
    "lst.insert_key(12)\n",
    "lst.insert_key(19)\n",
    "lst.insert_key(17)\n",
    "lst.insert_key(26)\n",
    "lst.insert_key(21)\n",
    "lst.insert_key(25)\n",
    "lst.display_list()"
   ]
  },
  {
   "cell_type": "code",
   "execution_count": 81,
   "id": "3f7e1e63-4e47-44b4-9bfa-1b1b00254042",
   "metadata": {},
   "outputs": [
    {
     "name": "stdout",
     "output_type": "stream",
     "text": [
      "[9, 9, 7]\n",
      "12\n",
      "Successfully deleted 12\n",
      "\n",
      "*****Skip List******\n",
      "Level 0:  3 6 7 9 17 19 21 25 26 \n",
      "Level 1:  7 9 17 19 \n",
      "Level 2:  7 17 \n"
     ]
    }
   ],
   "source": [
    "lst.remove_key(12)\n",
    "lst.display_list()"
   ]
  },
  {
   "cell_type": "markdown",
   "id": "fc4a39aa-822a-4eaa-94de-b6205140334e",
   "metadata": {},
   "source": [
    "## Deque/ Stack/ Queue"
   ]
  },
  {
   "cell_type": "markdown",
   "id": "886f5bf5-9723-4a74-8353-bdd369bd7561",
   "metadata": {},
   "source": [
    "`deque` của lib `collections` có thể dùng để implement cả stack/ deque/ queue."
   ]
  },
  {
   "cell_type": "code",
   "execution_count": 1,
   "id": "28bd04cf-26f6-4b09-ab40-6e8b7f83f0ad",
   "metadata": {},
   "outputs": [],
   "source": [
    "from collections import deque"
   ]
  },
  {
   "cell_type": "code",
   "execution_count": 5,
   "id": "ae53e87c-0c99-42d8-ad4b-20d4ec3bcc28",
   "metadata": {},
   "outputs": [
    {
     "name": "stdout",
     "output_type": "stream",
     "text": [
      "deque([20, 100, 10])\n",
      "20\n",
      "deque([100, 10])\n",
      "peek front: 100\n"
     ]
    }
   ],
   "source": [
    "my_deque = deque()\n",
    "\n",
    "# add to front\n",
    "my_deque.appendleft(10)\n",
    "my_deque.appendleft(100)\n",
    "my_deque.appendleft(20)\n",
    "print(my_deque)\n",
    "\n",
    "# remove front\n",
    "print(my_deque.popleft())\n",
    "print(my_deque)\n",
    "print('peek front: %d' % (my_deque[0]))"
   ]
  },
  {
   "cell_type": "code",
   "execution_count": 6,
   "id": "a9c5dc67-8158-4467-9059-75926ce89b0a",
   "metadata": {},
   "outputs": [
    {
     "name": "stdout",
     "output_type": "stream",
     "text": [
      "deque([100, 10, -10, -100, -20])\n",
      "-20\n",
      "deque([100, 10, -10, -100])\n",
      "peek rear: -100\n"
     ]
    }
   ],
   "source": [
    "# add to rear\n",
    "my_deque.append(-10)\n",
    "my_deque.append(-100)\n",
    "my_deque.append(-20)\n",
    "print(my_deque)\n",
    "\n",
    "# remove rear\n",
    "print(my_deque.pop())\n",
    "print(my_deque)\n",
    "print('peek rear: %d' % (my_deque[-1]))\n"
   ]
  },
  {
   "cell_type": "markdown",
   "id": "da3e5190-7f50-4ef8-bf43-d084b27bce1a",
   "metadata": {},
   "source": [
    "Stack and Queue can actually used with these methods. About Stack and Queue ADT, stack is pretty useful for implementing DFS, queue is pretty useful for implementing BFS"
   ]
  },
  {
   "cell_type": "markdown",
   "id": "a73d6ec3-f821-48aa-ab81-af85bca8e101",
   "metadata": {},
   "source": [
    "## Tree"
   ]
  },
  {
   "cell_type": "markdown",
   "id": "5510c165-9205-44d5-bef4-0f1f9555bac7",
   "metadata": {},
   "source": [
    "## Heap "
   ]
  },
  {
   "cell_type": "markdown",
   "id": "48fd4b6a-6c8d-42b7-b9ee-57c7770e7a97",
   "metadata": {},
   "source": [
    "- Peek\n",
    "- Insert\n",
    "- Pop (remove element with highest priority)\n",
    "\n",
    "of Heap data structure: min-heap and max-heap, implemented using Array."
   ]
  },
  {
   "cell_type": "code",
   "execution_count": 14,
   "id": "a96854d0-ba85-430d-8781-cb98a9098cb2",
   "metadata": {},
   "outputs": [],
   "source": [
    "class MaxHeap:\n",
    "    def __init__(self):\n",
    "        self.data = list()\n",
    "        \n",
    "        \n",
    "    def peek(self):\n",
    "        return self.data[0]\n",
    "    \n",
    "    def insert(self, key: int) -> int:\n",
    "        '''Return its index in the list\n",
    "        '''\n",
    "        key_idx = len(self.data)  # O(1)\n",
    "        self.data.append(key)  # O(1)\n",
    "        \n",
    "        if key_idx == 0:\n",
    "            return key_idx\n",
    "        \n",
    "        parent_idx = max((key_idx - 1) // 2, 0)  # O(1)\n",
    "        \n",
    "        # bubble up to the right place\n",
    "        while key > self.data[parent_idx]:  # L level, L - 1 swap at worst -> O(logN)\n",
    "            # swap\n",
    "            self.data[parent_idx], self.data[key_idx] = self.data[key_idx], self.data[parent_idx]\n",
    "            key_idx = parent_idx\n",
    "            parent_idx = max((key_idx - 1) // 2, 0)\n",
    "        return key_idx\n",
    "        "
   ]
  },
  {
   "cell_type": "code",
   "execution_count": 15,
   "id": "d21f6ae3-7ea8-42cd-83c4-b2e951d8cd50",
   "metadata": {},
   "outputs": [
    {
     "name": "stdout",
     "output_type": "stream",
     "text": [
      "[200, 12, 100, 7, 10, 9]\n"
     ]
    }
   ],
   "source": [
    "a = MaxHeap()\n",
    "a.insert(10)\n",
    "a.insert(100)\n",
    "a.insert(9)\n",
    "a.insert(7)\n",
    "a.insert(12)\n",
    "a.insert(200)\n",
    "print(a.data)"
   ]
  },
  {
   "cell_type": "markdown",
   "id": "6a5c431f-9c29-493b-88ed-c4ddc6054f68",
   "metadata": {},
   "source": [
    "Min Heap, inspired by [this gist](https://gist.github.com/earissola/95cba046a8404a376042c1cc76bbebd1) (Although my code is way worse than that)"
   ]
  },
  {
   "cell_type": "code",
   "execution_count": 31,
   "id": "aa738156-48fc-49e3-b0be-b98d2468bb30",
   "metadata": {},
   "outputs": [],
   "source": [
    "class MinHeap:\n",
    "    def __init__(self, data):\n",
    "        self.__data = MinHeap.build_heap(data)\n",
    "        \n",
    "    @staticmethod\n",
    "    def build_heap(heap):\n",
    "        n = len(heap)\n",
    "        for i in range(n // 2 - 1, -1, -1):\n",
    "            MinHeap.heapify(heap, i)\n",
    "        return heap\n",
    "    \n",
    "    @staticmethod\n",
    "    def heapify(heap, i):\n",
    "        min_node_idx = i\n",
    "        left_child_idx = 2 * i + 1\n",
    "        right_child_idx = 2 * i + 2\n",
    "        if left_child_idx < len(heap) and heap[min_node_idx] > heap[left_child_idx]:\n",
    "            min_node_idx = left_child_idx\n",
    "        if right_child_idx < len(heap) and heap[min_node_idx] > heap[right_child_idx]:\n",
    "            min_node_idx = right_child_idx\n",
    "        if min_node_idx != i:\n",
    "            # swap\n",
    "            heap[i], heap[min_node_idx] = heap[min_node_idx], heap[i]\n",
    "            MinHeap.heapify(heap, min_node_idx)\n",
    "        \n",
    "    def print(self):\n",
    "        print(self.__data)\n",
    "        \n",
    "    def peek(self):\n",
    "        return self.__data[0]\n",
    "    \n",
    "    def insert(self, key):\n",
    "        self.__data.append(key)\n",
    "        self.__data = MinHeap.build_heap(self.__data)\n",
    "        \n",
    "    def pop(self):\n",
    "        if len(self.__data) == 0:\n",
    "            return None\n",
    "        self.__data[0], self.__data[-1] = self.__data[-1], self.__data[0]\n",
    "        key = self.__data.pop()\n",
    "        self.__data = MinHeap.build_heap(self.__data)\n",
    "        return key\n",
    "        \n",
    "        \n",
    "        "
   ]
  },
  {
   "cell_type": "code",
   "execution_count": 32,
   "id": "3ddff8b1-5d82-4de8-bfd2-9d4ed8d72eff",
   "metadata": {},
   "outputs": [
    {
     "name": "stdout",
     "output_type": "stream",
     "text": [
      "[2, 4, 6, 10, 17, 15, 7, 12]\n"
     ]
    }
   ],
   "source": [
    "h = [7,12,6,10,17,15,2,4]\n",
    "my_heap = MinHeap(h)\n",
    "my_heap.print()"
   ]
  },
  {
   "cell_type": "code",
   "execution_count": 33,
   "id": "8e726799-d2b3-4af7-9c25-1bd2f3e59082",
   "metadata": {},
   "outputs": [
    {
     "name": "stdout",
     "output_type": "stream",
     "text": [
      "2\n",
      "[4, 10, 6, 12, 17, 15, 7]\n"
     ]
    }
   ],
   "source": [
    "print(my_heap.pop())\n",
    "my_heap.print()"
   ]
  },
  {
   "cell_type": "code",
   "execution_count": 34,
   "id": "4d3f70ec-ca19-48f3-8018-59815771f904",
   "metadata": {},
   "outputs": [
    {
     "name": "stdout",
     "output_type": "stream",
     "text": [
      "[1, 4, 6, 10, 17, 15, 7, 12]\n"
     ]
    }
   ],
   "source": [
    "my_heap.insert(1)\n",
    "my_heap.print()"
   ]
  }
 ],
 "metadata": {
  "kernelspec": {
   "display_name": "Python 3 (ipykernel)",
   "language": "python",
   "name": "python3"
  },
  "language_info": {
   "codemirror_mode": {
    "name": "ipython",
    "version": 3
   },
   "file_extension": ".py",
   "mimetype": "text/x-python",
   "name": "python",
   "nbconvert_exporter": "python",
   "pygments_lexer": "ipython3",
   "version": "3.8.12"
  }
 },
 "nbformat": 4,
 "nbformat_minor": 5
}
