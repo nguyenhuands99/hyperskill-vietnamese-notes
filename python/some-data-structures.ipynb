{
 "cells": [
  {
   "cell_type": "markdown",
   "id": "8b462927-e3bc-471e-8072-17a675c61e81",
   "metadata": {},
   "source": [
    "# SOME DATA STUCTURES AND STUFF"
   ]
  },
  {
   "cell_type": "markdown",
   "id": "e40deb58-2dc8-43ec-88c4-423a10f74339",
   "metadata": {},
   "source": [
    "## Big O Notation\n",
    "\n",
    "Giả sử bạn cần chọn một vài algorithms để giải quyết bài toán, làm sao để chọn ra cái tốt nhất? Do đó, ta phải tìm ra cách đo độ hiệu quả của một thuật toán.\n",
    "\n",
    "Một trong các cách đó là đo thời gian chương trình chạy. Tuy nhiên mỗi máy lại có tốc độ chạy khác nhau đối với một thuật toán. Ngoài ra, thời gian xử lý còn phụ thuộc vào data nữa. Do đó, ta cần một cách nào đó universal hơn, đó là **big O notation**.\n",
    "\n",
    "### Input size\n",
    "\n",
    "Thuật toán thường làm gì? calculations. Vậy ta quy ước gọi **operations** cho những actions như cộng, trừ, nhân, so sánh, gán,... Thời gian tính toán chắc chắn là sẽ phụ thuộc vào machines, tuy nhiên cái ta cần là so sánh thuật toán, không phải machines, do đó ta sẽ dựa trên số lượng operations để làm điều này.\n",
    "\n",
    "![](img/bus.svg)\n",
    "\n",
    "Ví dụ, xe buýt không phải lúc nào cũng đúng giờ, rõ ràng là không thể trách bác tài hoàn toàn vì việc này, thời gian của một chuyến tùy vào lượng khách trên xe. Càng nhiều khách, càng phải dừng ở nhiều trạm hơn để trả/ đón khách, càng tốn nhiều thời gian. Tương tự, thòi gian của một thuật toán sẽ phụ thuộc vào **input data**. Một chương trình hiển nhiên sẽ tốn thời gian khác nhau khi mà xử lý 10 số so với 1 000 000 số. Ta sẽ dùng thuật ngữ **input size** như một đơn vị đo tương đối của kích cỡ của data. Nếu thuật toán cần làm việc với m số, thì m ở đây là input size. Tuy nhiên, cần để ý rằng không phải lúc nào input size cũng là số lượng các input, ví dụ như ta cần tim 10 số nguyên tố đầu tiên, thì thời gian sẽ khác với tìm 10 000 số nguyên tố đầu tiên. Trong các trường hợp đó, mặc dù ta chỉ càn nhập 1 số duy nhất là 10 000 nhưng vẫn ảnh hưởng đến tốc độ algorithm, nhưng nó vẫn được coi là input size.\n",
    "\n",
    "Nếu mà ta có thể ước lượng số operations theo input size, thì ta có đo được độ phức tạp của thuật toán một cách machine-independently. Từ đó, ta có thể biết được đâu là một thuật toán tốt khi nó handle được tốt với input size lớn.\n",
    "\n",
    "### Big O notation\n",
    "\n",
    "Ta dùng **big o notation** để đo độ efficency của algorithm. Ta mượn kí hiệu này từ toán học, tuy nhiên cũng không cần lo lắng quá về ý nghĩa toán học của nó. Một cách bớt học thuật, ta có thể nói  một thuật toán có **time complexity** $O(f(n))$ nếu số lượng operations grow bigger giống như (hoặc chậm hơn) hàm $f(n)$ khi mà input size of $n$ là một số lớn. Ví dụ với task sau: cho một table $n \\times n$ với số nguyên integer trong các cell. Tìm số $k$ trong table.\n",
    "\n",
    "\n",
    "![](img/alice-bob-table.svg)\n",
    "\n",
    "Alice và Bob nghĩ ra algorithm riêng của mình. Bob thì scan từng cell cho tới khi gặp value bằng với $k$. Do đó, maximun là $n^2$ operation so sánh, tức là time complexity của thuật toán Bob là $O(n^2)$. Mặc khác, bằng một cách thần thánh nào đó :v, Alice biết được cột chứa số k, thì Alice chỉ scan trong cột đó mà thôi, tức là tối đa $n$ operation so sánh, hay time complexity của Alice algo là $O(n)$.\n",
    "\n",
    "Với $n$ lớn, ta có thể thấy thuật toán của Alice chạy nhanh hơn của Bob rất nhiều. Tuy nhiên, câu hỏi đặt ra là tại sao cần thêm $O$ bên ngoài nữa, tại sao không đơn giản dùng $n$ hay $n^2$ để thể hiện độ phức tạp. Lý do ở chỗ, giả sử số $k$ nằm ngay ở cell đầu tiên thì Bob chỉ cần tốn 1 bước để tìm ra, thay vì $n^2$, đó là lý do ta cần $O$ bọc ngoài để thể hiện upper bound của function growth rate.\n",
    "\n",
    "![](img/big-o-graph.svg)\n",
    "\n",
    "\n",
    "###  Common growth rates\n",
    "\n",
    "- $O(1)$ (constant time) Thuật toán thực hiện một số không đổi các operations. Có thể là 1, hoặc trăm, hoặc ngàn - không quan trọng, điều quan trọng là nó không phụ thuộc vào input size.\n",
    "\n",
    "- $O(\\log{n})$ (logarithmic time), thông thường ta nói logarithm thì sẽ refer to logarithm of base 2, tuy nhiên base ở đây không quan trọng. Theo định nghĩa, $log_{2}{n}$ bằng với số lần chia $n$ cho $2$ cho đến khi nó bằng $1$. Có nghĩa là, ta không khó để phát hiện algorithm nào chia nửa input size mỗi step thuộc vào nhóm này. Nhóm này phải nói là khá nhanh, nếu input size lớn ,ví dụ $2^31$, algo chỉ cần tốn $\\log_{2}{2^31}=31$ operations, khá ấn tượng.\n",
    "\n",
    "- $O(n)$ (linear time) tức là thời gian tỷ lệ tuyến tính với input size. Thường thường, những algo kiểu này chỉ iterate 1 ần, bởi vì nó phải thường cần phải go throught every input trước khi tính ra kết quả cuối cùng. Nhóm này cũng được coi là một trong các nhóm hiệu quả nhất.\n",
    "\n",
    "- $O(n^2)$ (quadratic time). Thông thường, những algo này go through tất cả các cặp input. Tại sao, vì với input size of $n$ elements, ta có tổng cộng $\\frac{(n - 1)n}{2}$ cặp, hay $O(n^2)$: hay nói theo cách lập trình: nó bao gồm 2 nested loops.\n",
    "\n",
    "- $O(2^n)$ (exponential time). Trong trường hợp này, việc coi $2^n$ là nhân $2$ bằng chính nó $n$ lần sẽ dễ hình dung hơn. Mathematically, nó là số lượng tập con của tập có $n$ element. Do đó, có thể đoán rằng những algo thuộc nhóm này scan tất cả những tập con của input. Lưu ý rằng nhóm này cực kỳ kém hiệu quả trong thực tế, thậm chí với input size nhỏ.\n",
    "\n",
    "Ngoài ra, có cố một số nhóm ít phổ biến như:\n",
    "\n",
    "- $O(\\sqrt{n})$ (square root time)\n",
    "\n",
    "- $O(n\\log{n}$ (log-linear time)\n",
    "\n",
    "- $O(n^{k})$ (polynomial time)\n",
    "\n",
    "- $O(n!)$ (fatorial time)\n",
    "\n",
    "![](img/big-o-order.svg)\n",
    "\n",
    "### Calculating complexity\n",
    "\n",
    "Để có thể tính độ phức tạp, ta cần biết đến tính chất của Big O:\n",
    "\n",
    "- **Ignore the constants** như ta đã nói trước đây, tính complexitty ta tập trung vào behaviour của algo với large input size, do đó lặp lại một constant lần các steps sẽ không ảnh hưởng đến độ phức tạp nói chung. Ví dụ, nếu ta traverse $n$ elements 5 lần, ta có thể nói algo đó có time complexity là $O(n)$ chứ không phải là $O(5n)$. Formally, ta có $c \\dot O(n) = O(n)$\n",
    "\n",
    "- **Applying a procedure $n$ times** Nếu như ta cần go over $n$ element $n$ lần thì sao? khi đó không còn là constant nữa, mà là $O(n^2)$. Ta có thể diễn giải kiểu làm $n$ lần một action tỷ lệ với $n$, kết qủa sẽ tỷ lệ với $n^2$. Big O notation ta viết $n \\dot O(n) = O(n^2)$\n",
    "\n",
    "\n",
    "- **Smaller terms do not matter** Một trường hợp thường gặp đó là sau khi ta làm một số actions, ta cần làm thêm một số thứ khác. Ví dụ, ta traverse $n$ elements n lần và sau đó tiếp tục traverse n lần nưa. Trong trường hợp này complexity vẫn là $O(n^2)$. Thêm $n$ actions không ảnh huowsg tới độ phức tạp của ta lúc này tỷ lệ với $n^2$. Với big O notation, nó biểu diễn là: $O(n) + O(n^2) = O(n^2)$. Suy cho cùng, ta chỉ cần giữ the largest term trong Big O và quên đi phần còn lại. Tại sao lại như vậy? Để dễ hình dung ta nhìn vào ví dụ sau:\n",
    "\n",
    "![](img/Big_O_smaller_not_matter.svg)\n",
    "\n",
    "Rõ ràng khi $n$ lớn thì những phần cộng vào không thực sự có ý nghĩa.\n"
   ]
  },
  {
   "cell_type": "markdown",
   "id": "79ea48fd-26e7-4596-9803-db375f505d2a",
   "metadata": {},
   "source": [
    "## Data Structures"
   ]
  },
  {
   "cell_type": "markdown",
   "id": "0c956421-9c6e-419c-bd74-ae01708e180c",
   "metadata": {},
   "source": [
    "## Algorithm in Python"
   ]
  },
  {
   "cell_type": "markdown",
   "id": "92898f13-812a-418b-872f-6fdc2118c1ab",
   "metadata": {},
   "source": [
    "## Stack"
   ]
  },
  {
   "cell_type": "markdown",
   "id": "8067660b-3819-4720-b722-2efd0a1c361a",
   "metadata": {},
   "source": [
    "## Stack in Python"
   ]
  },
  {
   "cell_type": "markdown",
   "id": "8291350b-a160-4983-896b-169ace6fe087",
   "metadata": {},
   "source": [
    "## Queue"
   ]
  },
  {
   "cell_type": "markdown",
   "id": "f74a7d3d-b9a5-476d-b7e2-08569a291f04",
   "metadata": {},
   "source": [
    "## Queue in Python"
   ]
  }
 ],
 "metadata": {
  "kernelspec": {
   "display_name": "Python 3 (ipykernel)",
   "language": "python",
   "name": "python3"
  },
  "language_info": {
   "codemirror_mode": {
    "name": "ipython",
    "version": 3
   },
   "file_extension": ".py",
   "mimetype": "text/x-python",
   "name": "python",
   "nbconvert_exporter": "python",
   "pygments_lexer": "ipython3",
   "version": "3.8.12"
  }
 },
 "nbformat": 4,
 "nbformat_minor": 5
}
