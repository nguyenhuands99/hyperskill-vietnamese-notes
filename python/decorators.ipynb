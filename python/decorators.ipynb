{
 "metadata": {
  "language_info": {
   "codemirror_mode": {
    "name": "ipython",
    "version": 3
   },
   "file_extension": ".py",
   "mimetype": "text/x-python",
   "name": "python",
   "nbconvert_exporter": "python",
   "pygments_lexer": "ipython3",
   "version": "3.8.10"
  },
  "orig_nbformat": 4,
  "kernelspec": {
   "name": "python3",
   "display_name": "Python 3.8.10 64-bit ('base': conda)"
  },
  "interpreter": {
   "hash": "8c41785d08d518d6063bd2cd334bc8e2fe211597cea3d9372d08927f9e7f72ef"
  }
 },
 "nbformat": 4,
 "nbformat_minor": 2,
 "cells": [
  {
   "source": [
    "# DECORATORS\n"
   ],
   "cell_type": "markdown",
   "metadata": {}
  },
  {
   "source": [
    "\n",
    "## Decorators là gì?\n",
    "\n",
    "là một mẫu thiết kế cấu trúc cho phép lập trình viên mở rộng và chỉnh sửa biểu hiện (behavior) của một hàm, một phương thức hay một lớp mà không cần phải thay đổi bên trong code.\n",
    "\n",
    "Ý tưởng chính là ta đặt một đối tượng khả gọi (**callable object**), chức năng (**functionality**) mà ta muốn thay đổi *bên trong* của đối tượng với biểu hiện mới. Do đó, decorator chỉ là một wrapper, góp xung quanh đối tượng ban đầu. Trong hầu hết các trường hợp, ta dùng decorator để truyền một hàm như một argument vào decorator để gọi hàm này sau đó, và thể hiện vài hành động trước và sau khi gọi."
   ],
   "cell_type": "markdown",
   "metadata": {}
  },
  {
   "source": [
    "## Cú pháp\n",
    "\n",
    "`@` ngay trước tên của decorator. Decorator được gọi ngay lập tức trước phần thân của hàm."
   ],
   "cell_type": "markdown",
   "metadata": {}
  },
  {
   "cell_type": "code",
   "execution_count": 1,
   "metadata": {},
   "outputs": [],
   "source": [
    "def our_decorator(other_func):\n",
    "    def wrapper(args_for_function):\n",
    "        print('This happens before we call the function')\n",
    "        return other_func(args_for_function)\n",
    "\n",
    "    return wrapper\n",
    "\n",
    "@our_decorator\n",
    "def greet(name):\n",
    "    print('Hello,', name)"
   ]
  },
  {
   "cell_type": "code",
   "execution_count": 2,
   "metadata": {},
   "outputs": [
    {
     "output_type": "stream",
     "name": "stdout",
     "text": [
      "This happens before we call the function\nHello, Susie\n"
     ]
    }
   ],
   "source": [
    "greet('Susie')"
   ]
  },
  {
   "source": [
    "## Tại sao phải dùng decorator?\n",
    "\n",
    "Đơn giản vì nó làm code clean và readable. \n",
    "\n",
    "Ví dụ này, ta muốn tính thời gian thực thi của mỗi code block."
   ],
   "cell_type": "markdown",
   "metadata": {}
  },
  {
   "cell_type": "code",
   "execution_count": 3,
   "metadata": {},
   "outputs": [],
   "source": [
    "import time\n",
    "\n",
    "def func1(args_for_function):\n",
    "    start = time.time()  # gets the current time\n",
    "    ...                  # something happens here\n",
    "    end = time.time()\n",
    "    print('func1 takes', end - start, 'seconds')\n",
    "\n",
    "\n",
    "def func2(args_for_function):\n",
    "    start = time.time()\n",
    "    ...\n",
    "    end = time.time()\n",
    "    print('func2 takes', end - start, 'seconds')"
   ]
  },
  {
   "source": [
    "Trông khá phiền toái mỗi khi muốn tính cho hàng chục code block khác, chưa kể phần code này không liên quan gì đến mục tiêu chính của hàm.\n",
    "\n",
    "Như vậy, với decorator thì ta sẽ được code clean hơn như này:"
   ],
   "cell_type": "markdown",
   "metadata": {}
  },
  {
   "cell_type": "code",
   "execution_count": 4,
   "metadata": {},
   "outputs": [],
   "source": [
    "def timer(func):\n",
    "    def wrapper(args_for_function):\n",
    "        start = time.time()\n",
    "        func(args_for_function)\n",
    "        end = time.time()\n",
    "        print('func takes', end - start, 'seconds')\n",
    "\n",
    "    return wrapper\n",
    "\n",
    "\n",
    "@timer\n",
    "def func1(args_for_function):\n",
    "    ...  # something happens here"
   ]
  },
  {
   "source": [
    "# DECORATORS IN OOP"
   ],
   "cell_type": "markdown",
   "metadata": {}
  },
  {
   "source": [
    "Thảo luận về 3 built-in decorators chính là: `staticmethod`, `classmethod`, `property`."
   ],
   "cell_type": "markdown",
   "metadata": {}
  },
  {
   "source": [
    "## @staticmethod\n",
    "\n",
    "`@staticmethod` decorator được sử dụng để bind một hàm vào một class như một method của class đó. \n",
    "\n",
    "Ví dụ dưới đây, `CharType` class và phương thức `get_type` để lấy type của một ký tự:"
   ],
   "cell_type": "markdown",
   "metadata": {}
  },
  {
   "cell_type": "code",
   "execution_count": 2,
   "metadata": {},
   "outputs": [
    {
     "output_type": "stream",
     "name": "stdout",
     "text": [
      "letter\ndigit\n"
     ]
    }
   ],
   "source": [
    "class CharType(object):\n",
    "\n",
    "    @staticmethod\n",
    "    def get_type(char):\n",
    "        if char.isalpha():\n",
    "            return 'letter'\n",
    "        elif char.isdigit():\n",
    "            return 'digit'\n",
    "        else:\n",
    "            return 'other'\n",
    "\n",
    "\n",
    "print(CharType.get_type('a'))    # letter: wtihout creating instance\n",
    "print(CharType().get_type('1'))  # digit: with creating instance"
   ]
  },
  {
   "source": [
    "Lưu ý rằng, static method không cần một tham số bắt buộc nào cả, khác với instance method cần phải có `self`, cũng như không cần `cls` giống như class method. Mặc dù một static method thuộc về một lớp và tất cả các instance của lớp đó, nó không thể access được bất kỳ phần bên trong của instance nào. Method này được dùng cho mục đích thuận tiện hoặc thiết kế code tốt."
   ],
   "cell_type": "markdown",
   "metadata": {}
  },
  {
   "source": [
    "## @classmethod\n",
    "\n",
    "Class method chỉ cần access vào những attributes, properties chung của class. Do đó, tham số đầu tiên nó cần luôn là `cls`.\n",
    "\n",
    "Trong ví dụ dưới đây, `User` và một string chứa thông tin cả `name` và `surname`. Cần phải process string này để nhận 2 attributes vào instance."
   ],
   "cell_type": "markdown",
   "metadata": {}
  },
  {
   "cell_type": "code",
   "execution_count": 3,
   "metadata": {},
   "outputs": [
    {
     "output_type": "stream",
     "name": "stdout",
     "text": [
      "Santa (Claus)\n"
     ]
    }
   ],
   "source": [
    "class User(object):\n",
    "\n",
    "    def __init__(self, name, surname):\n",
    "        self.name = name\n",
    "        self.surname = surname\n",
    "\n",
    "    def get_info(self):\n",
    "        return self.name + ' (' + self.surname + ')'\n",
    "\n",
    "    @classmethod\n",
    "    def from_string(cls, data):\n",
    "        name, surname = data.split(' ')\n",
    "        return cls(name, surname)  # passing the string values to the initialization call\n",
    "\n",
    "\n",
    "user = User.from_string('Santa Claus')  # using the class name to call the method\n",
    "print(user.get_info())  # Santa (Claus)"
   ]
  },
  {
   "source": [
    "Có thể thấy, class method không cần attribute của một instance cụ thể, thay vào đó cần thông tin của class cho một vài mục đích nào đó. Thông thường là cho mục đích thay thế constructor. Khi đó, nếu thông tin yêu cần cần được lấy từ nguồn bên ngoài, một file chẳng hạn, thì trong trường hợp này, ta không thể pass data trực tiếp vào class instance được. Ta cần dùng một vài kỹ thuật preprocess trước khi thật sự construct instance.\n",
    "\n",
    "Tuy nhiên, ta cũng có thể gọi `from_string` từ instance, có điều trông không hợp lý lắm."
   ],
   "cell_type": "markdown",
   "metadata": {}
  },
  {
   "cell_type": "code",
   "execution_count": 4,
   "metadata": {},
   "outputs": [
    {
     "output_type": "execute_result",
     "data": {
      "text/plain": [
       "'Father (Christmas)'"
      ]
     },
     "metadata": {},
     "execution_count": 4
    }
   ],
   "source": [
    "user2 = user.from_string('Father Christmas')\n",
    "user2.get_info()  # Father (Christmas)"
   ]
  },
  {
   "source": [
    "## @staticmethod vs @classmethod\n",
    "\n",
    "Những điểm khác biệt chính của 2 phương thức này là:\n",
    "\n",
    "-   Static method không cần `cls` hay `self` như tham số, do đó ta không cần operate điều gì lên class hay instance trong phạm vi phương thức cả. Nhìn chung, static method hoạt động tương tự như một hàm bên ngoài class và thường dùng như một ultility methods.\n",
    "\n",
    "- Class method luôn cần `cls` là tham số đầu tiên. Thường được dùng như alternative constructor, khi mà có thể tạo nhưng class object cho nhiều trường hợp khác nhau."
   ],
   "cell_type": "markdown",
   "metadata": {}
  },
  {
   "source": [
    "## @property\n",
    "\n",
    "@property dùng để access method như một property. Ví dụ:"
   ],
   "cell_type": "markdown",
   "metadata": {}
  },
  {
   "cell_type": "code",
   "execution_count": 5,
   "metadata": {},
   "outputs": [
    {
     "output_type": "stream",
     "name": "stdout",
     "text": [
      "Santa Claus\n"
     ]
    }
   ],
   "source": [
    "class User:\n",
    "    def __init__(self, name, surname):\n",
    "        self.name = name\n",
    "        self.surname = surname\n",
    "        self.full_name = self.name + ' ' + self.surname\n",
    "\n",
    "\n",
    "user = User('Santa', 'Claus')\n",
    "print(user.full_name)  # Santa Claus"
   ]
  },
  {
   "source": [
    "Giờ đổi `name` thành `'Father'` thì `full_name` vẫn y như cữ (vì giá trị đã được lưu từ ban đầu lúc khởi tạo instance). Do đó, ta cần phải dùng `@property` để mỗi khi gọi `full_name` nó sẽ luôn cập nhật từ `name` và `surname`."
   ],
   "cell_type": "markdown",
   "metadata": {}
  },
  {
   "cell_type": "code",
   "execution_count": 6,
   "metadata": {},
   "outputs": [
    {
     "output_type": "stream",
     "name": "stdout",
     "text": [
      "Santa Claus\nFather\nFather Claus\n"
     ]
    }
   ],
   "source": [
    "class User:\n",
    "    def __init__(self, name, surname):\n",
    "        self.name = name\n",
    "        self.surname = surname\n",
    "\n",
    "    @property\n",
    "    def full_name(self):\n",
    "        return self.name + ' ' + self.surname\n",
    "\n",
    "\n",
    "user = User('Santa', 'Claus')\n",
    "print(user.full_name)  # Santa Claus\n",
    "\n",
    "user.name = 'Father'\n",
    "print(user.name)  # Father\n",
    "print(user.full_name)  # Father Claus"
   ]
  }
 ]
}